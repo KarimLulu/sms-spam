{
 "cells": [
  {
   "cell_type": "code",
   "execution_count": 87,
   "metadata": {},
   "outputs": [],
   "source": [
    "from bs4 import BeautifulSoup as BS\n",
    "import pandas as pd"
   ]
  },
  {
   "cell_type": "code",
   "execution_count": 2,
   "metadata": {},
   "outputs": [],
   "source": [
    "from src.config import data_dir"
   ]
  },
  {
   "cell_type": "code",
   "execution_count": 3,
   "metadata": {},
   "outputs": [],
   "source": [
    "filename = \"message.html\""
   ]
  },
  {
   "cell_type": "code",
   "execution_count": 4,
   "metadata": {},
   "outputs": [],
   "source": [
    "with (data_dir / filename).open() as f:\n",
    "    soup = BS(f, \"lxml\")"
   ]
  },
  {
   "cell_type": "code",
   "execution_count": 64,
   "metadata": {},
   "outputs": [],
   "source": [
    "INOUT_MAP = {\"main-left\": \"inbox\",\n",
    "             \"main-right\": \"outbox\"}"
   ]
  },
  {
   "cell_type": "code",
   "execution_count": 88,
   "metadata": {},
   "outputs": [],
   "source": [
    "contacts = soup.find_all(\"div\", class_=\"main\")"
   ]
  },
  {
   "cell_type": "code",
   "execution_count": 89,
   "metadata": {},
   "outputs": [],
   "source": [
    "data = []\n",
    "for el in contacts[:-1]:\n",
    "    record = {}\n",
    "    contact_tag = el.find(\"div\", class_=\"main-title\")\n",
    "    contact_name = contact_tag.string\n",
    "    phone = el.find_next(\"p\").get_text().split(\"Phone:\")[-1].strip()\n",
    "    record[\"name\"] = contact_name\n",
    "    record[\"phone\"] = phone\n",
    "    for p in el.find_all(\"p\")[1:]:\n",
    "        date = p.string.split(\"Date:\")[-1].strip()\n",
    "        msg = p.find_next(\"div\")\n",
    "        type_ = INOUT_MAP.get(msg[\"class\"][0])\n",
    "        text = msg.find_next(\"td\", class_=\"mid-c\").string.strip()\n",
    "        record[\"date\"] = date\n",
    "        record[\"type\"] = type_\n",
    "        record[\"text\"] = text\n",
    "        data.append(record.copy())"
   ]
  },
  {
   "cell_type": "code",
   "execution_count": 95,
   "metadata": {},
   "outputs": [],
   "source": [
    "pd.DataFrame(data).to_excel(data_dir / \"tanya-sms-raw.xlsx\", index=False)"
   ]
  }
 ],
 "metadata": {
  "kernelspec": {
   "display_name": "Python 3",
   "language": "python",
   "name": "python3"
  },
  "language_info": {
   "codemirror_mode": {
    "name": "ipython",
    "version": 3
   },
   "file_extension": ".py",
   "mimetype": "text/x-python",
   "name": "python",
   "nbconvert_exporter": "python",
   "pygments_lexer": "ipython3",
   "version": "3.6.3"
  }
 },
 "nbformat": 4,
 "nbformat_minor": 2
}
