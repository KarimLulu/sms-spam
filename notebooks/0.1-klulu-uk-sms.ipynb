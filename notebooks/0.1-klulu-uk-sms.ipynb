{
 "cells": [
  {
   "cell_type": "code",
   "execution_count": 1,
   "metadata": {},
   "outputs": [],
   "source": [
    "%load_ext autoreload"
   ]
  },
  {
   "cell_type": "code",
   "execution_count": 2,
   "metadata": {},
   "outputs": [],
   "source": [
    "%autoreload 1"
   ]
  },
  {
   "cell_type": "code",
   "execution_count": 3,
   "metadata": {},
   "outputs": [],
   "source": [
    "%aimport src.config\n",
    "%aimport src.helpers"
   ]
  },
  {
   "cell_type": "code",
   "execution_count": 504,
   "metadata": {},
   "outputs": [],
   "source": [
    "import numpy as np\n",
    "from pathlib import Path\n",
    "from time import time\n",
    "import json\n",
    "import pandas as pd\n",
    "from xml.etree.ElementTree import iterparse\n",
    "from datetime import datetime\n",
    "from sklearn.feature_extraction.text import TfidfVectorizer\n",
    "from sklearn.model_selection import train_test_split\n",
    "from sklearn.naive_bayes import GaussianNB, MultinomialNB\n",
    "import numpy as np\n",
    "import re"
   ]
  },
  {
   "cell_type": "code",
   "execution_count": 5,
   "metadata": {},
   "outputs": [],
   "source": [
    "from src.config import data_dir\n",
    "from src.helpers import calc_metrics"
   ]
  },
  {
   "cell_type": "markdown",
   "metadata": {},
   "source": [
    "#### Process raw SMS data"
   ]
  },
  {
   "cell_type": "code",
   "execution_count": 51,
   "metadata": {},
   "outputs": [],
   "source": [
    "filename = \"karim-sms-allow.xml\"\n",
    "source = data_dir / filename\n",
    "data = []\n",
    "for event, elem in iterparse(source):\n",
    "    if elem.tag == \"sms\":\n",
    "        #if any(elem.attrib[\"body\"]==r[\"text\"] for r in data):\n",
    "        #    continue\n",
    "        record = {}\n",
    "        record[\"text\"] = elem.attrib[\"body\"]\n",
    "        record[\"contact_name\"] = elem.attrib[\"contact_name\"]\n",
    "        record[\"address\"] = elem.attrib[\"address\"]\n",
    "        record[\"timestamp\"] = int(elem.attrib[\"date\"])\n",
    "        record[\"type\"] = elem.attrib[\"type\"]\n",
    "        data.append(record)"
   ]
  },
  {
   "cell_type": "code",
   "execution_count": 55,
   "metadata": {},
   "outputs": [],
   "source": [
    "df = pd.DataFrame(data)\n",
    "df.to_excel(data_dir / \"karim-sms-allow.xlsx\", index=False)"
   ]
  },
  {
   "cell_type": "markdown",
   "metadata": {},
   "source": [
    "#### Read labeled data"
   ]
  },
  {
   "cell_type": "code",
   "execution_count": 6,
   "metadata": {},
   "outputs": [],
   "source": [
    "labeled_filename = \"karim-sms-allow-labeled.xlsx\"\n",
    "labeled = pd.read_excel(data_dir / labeled_filename, sheet_name=\"total sms\")\n",
    "labeled[\"timestamp\"] = (labeled[\"timestamp\"] / 1000).map(datetime.fromtimestamp)\n",
    "labeled[\"resp\"] = 0"
   ]
  },
  {
   "cell_type": "code",
   "execution_count": 7,
   "metadata": {},
   "outputs": [],
   "source": [
    "mapp = {\"ham\": 0, \"spam\": 1}"
   ]
  },
  {
   "cell_type": "code",
   "execution_count": 8,
   "metadata": {},
   "outputs": [],
   "source": [
    "responses_filename = \"SMS Data Collection (Responses).xlsx\"\n",
    "responses = pd.read_excel(data_dir / responses_filename)\n",
    "responses = responses.rename(columns={\"SMS text\": \"text\", \n",
    "                                      \"Is it a spam or ham?\": \"label\",\n",
    "                                     \"Timestamp\": \"timestamp\"})\n",
    "responses[\"resp\"] = 1\n",
    "responses[\"label\"] = responses[\"label\"].map(lambda x: mapp.get(x, x))"
   ]
  },
  {
   "cell_type": "code",
   "execution_count": 21,
   "metadata": {},
   "outputs": [],
   "source": [
    "total = pd.concat([labeled, responses], ignore_index=True)\n",
    "total.to_excel(data_dir / \"sms-uk-total.xlsx\")"
   ]
  },
  {
   "cell_type": "code",
   "execution_count": 22,
   "metadata": {},
   "outputs": [
    {
     "data": {
      "text/plain": [
       "(3497, 8)"
      ]
     },
     "execution_count": 22,
     "metadata": {},
     "output_type": "execute_result"
    },
    {
     "data": {
      "text/plain": [
       "0    78.81\n",
       "1    21.19\n",
       "Name: label, dtype: float64"
      ]
     },
     "execution_count": 22,
     "metadata": {},
     "output_type": "execute_result"
    },
    {
     "data": {
      "text/plain": [
       "3"
      ]
     },
     "execution_count": 22,
     "metadata": {},
     "output_type": "execute_result"
    },
    {
     "data": {
      "text/plain": [
       "(3494, 8)"
      ]
     },
     "execution_count": 22,
     "metadata": {},
     "output_type": "execute_result"
    }
   ],
   "source": [
    "# Check dimensionality and class imbalance\n",
    "total.shape\n",
    "total.label.value_counts(normalize=True).round(5)*100\n",
    "total.text.isnull().sum()\n",
    "total = total.loc[total.text.notnull()]\n",
    "total.shape"
   ]
  },
  {
   "cell_type": "markdown",
   "metadata": {},
   "source": [
    "#### Train-test split"
   ]
  },
  {
   "cell_type": "code",
   "execution_count": 433,
   "metadata": {},
   "outputs": [
    {
     "name": "stdout",
     "output_type": "stream",
     "text": [
      "Num. of train: 2795, Num. of test: 699\n"
     ]
    }
   ],
   "source": [
    "X = total[\"text\"]\n",
    "y = total[\"label\"]\n",
    "test_size = 0.2\n",
    "X_train, X_test, y_train, y_test = train_test_split(X, y, test_size=test_size, random_state=42,\n",
    "                                                    stratify=y)\n",
    "print(f\"Num. of train: {len(X_train)}, Num. of test: {len(X_test)}\")"
   ]
  },
  {
   "cell_type": "markdown",
   "metadata": {},
   "source": [
    "#### Build features"
   ]
  },
  {
   "cell_type": "code",
   "execution_count": 516,
   "metadata": {},
   "outputs": [],
   "source": [
    "def build_features(X_train, X_test, var=\"text\", features=None, vectorizer=None):\n",
    "    f_train = []\n",
    "    f_test = []\n",
    "    for feature in features:\n",
    "        if feature == \"tfidf\":\n",
    "            train = vectorizer.fit_transform(X_train).toarray()\n",
    "            test = vectorizer.transform(X_test).toarray()\n",
    "            f_train.append(train)\n",
    "            f_test.append(test)\n",
    "            if \"len\" in features:\n",
    "                train = (train>0).sum(axis=1)[:, np.newaxis]\n",
    "                test = (test>0).sum(axis=1)[:, np.newaxis]\n",
    "                f_train.append(train)\n",
    "                f_test.append(test)\n",
    "        if feature == \"patt\":\n",
    "            train = (X_train.str.contains(\"%|taxi|скидк|цін\", regex=True, flags=re.I)\n",
    "                     .astype(int).values[:, np.newaxis])\n",
    "            test = (X_test.str.contains(\"%|taxi|скидк|цін\", regex=True, flags=re.I)\n",
    "                    .astype(int).values[:, np.newaxis])\n",
    "            f_train.append(train)\n",
    "            f_test.append(test)\n",
    "    return np.concatenate((f_train), axis=1), np.concatenate((f_test), axis=1)"
   ]
  },
  {
   "cell_type": "code",
   "execution_count": 549,
   "metadata": {},
   "outputs": [],
   "source": [
    "tf_params = {\"lowercase\": True,\n",
    "             \"analyzer\": \"char_wb\",\n",
    "             \"stop_words\": None,\n",
    "             \"ngram_range\": (4, 4),\n",
    "             \"min_df\": 0.0,\n",
    "             \"max_df\": 1.0,\n",
    "             \"preprocessor\": None,#Preprocessor(),\n",
    "             \"max_features\": 3500,\n",
    "             \"norm\": \"l2\"*0,\n",
    "             \"use_idf\": 0\n",
    "             }"
   ]
  },
  {
   "cell_type": "code",
   "execution_count": 550,
   "metadata": {},
   "outputs": [],
   "source": [
    "vectorizer = TfidfVectorizer(**tf_params)\n",
    "tfidf_train = vectorizer.fit_transform(X_train)\n",
    "tfidf_test = vectorizer.transform(X_test)\n",
    "features = [\"tfidf\", \"len\"]\n",
    "train, test = build_features(X_train, X_test, features=features, vectorizer=vectorizer, var=\"text\")"
   ]
  },
  {
   "cell_type": "markdown",
   "metadata": {},
   "source": [
    "#### Fit Naive Bayes"
   ]
  },
  {
   "cell_type": "markdown",
   "metadata": {},
   "source": [
    "In general it is much worse to misclassify ham\n",
    "SMS than letting spam pass the filter. So, it is desirable to be able to bias\n",
    "the filter towards classifying SMS as ham, yielding higher precision at the expense of recall"
   ]
  },
  {
   "cell_type": "code",
   "execution_count": 368,
   "metadata": {},
   "outputs": [],
   "source": [
    "def predict_class(tf, X_test, clf, w=1.5):\n",
    "    probas = clf.predict_proba(X_test)\n",
    "    ratios = np.log(probas[:, 1] ) - np.log(probas[:, 0])\n",
    "    lengths = (tf.toarray()>0).sum(axis=1).T\n",
    "    thresholds = lengths * np.log(w)\n",
    "    y_pred = np.zeros_like(y_test)\n",
    "    y_pred[ratios>thresholds] = 1\n",
    "    return y_pred, ratios, thresholds"
   ]
  },
  {
   "cell_type": "code",
   "execution_count": 569,
   "metadata": {},
   "outputs": [
    {
     "data": {
      "text/plain": [
       "MultinomialNB(alpha=0.1, class_prior=None, fit_prior=True)"
      ]
     },
     "execution_count": 569,
     "metadata": {},
     "output_type": "execute_result"
    },
    {
     "name": "stdout",
     "output_type": "stream",
     "text": [
      "AUC: 0.979\n",
      "Recall: 0.919\n",
      "Precision: 0.938\n",
      "F1: 0.928\n",
      "Accuracy: 0.970\n",
      "\n",
      "Confusion matrix:\n",
      "      pred_ham  pred_spam\n",
      "ham        542          9\n",
      "spam        12        136\n",
      "\n",
      "Report:\n",
      "             precision    recall  f1-score   support\n",
      "\n",
      "          0       0.98      0.98      0.98       551\n",
      "          1       0.94      0.92      0.93       148\n",
      "\n",
      "avg / total       0.97      0.97      0.97       699\n",
      "\n"
     ]
    }
   ],
   "source": [
    "clf = MultinomialNB(alpha=0.1)#, class_prior=[0.5, 0.5])\n",
    "clf.fit(train, y_train)\n",
    "pred, ratios, thresholds = predict_class(tfidf_test, test, clf, w=1.2)\n",
    "#pred = clf.predict(test)\n",
    "proba = clf.predict_proba(test)[:, 1]\n",
    "output, report, conf_matrix = calc_metrics(y_test, pred, proba, labels=[\"ham\", \"spam\"], \n",
    "                                           print_=True, mode=\"binary\")"
   ]
  },
  {
   "cell_type": "code",
   "execution_count": 570,
   "metadata": {},
   "outputs": [
    {
     "data": {
      "text/plain": [
       "array(['Шановний Абоненте! За послугою «Додаткові гроші» буде збільшено кредитний ліміт. З 24.01.18 Ви зможете отримати від 5 до 100 грн. Вартість послуги від 2 грн/7 днів. Підключити послугу *117*1#. Чудова можливість залишатися на зв’язку якщо закінчились кошти! Деталі: s.lifecell.ua/104',\n",
       "       \"Tomorrow's forecast in SOMA South Park, San Francisco is Clear.\\nhttps://m.twil.io/kYotCFy\",\n",
       "       'Поздравляем победителей!(trophy)\\u2029Ваш номер +380935375947 \\u2029получил доступ к магазину c \\u2029(Snowflake)ПредНовогодними(Snowflake)\\u2029скидками до 75%!\\u2029Не пропустите(!)\\u2029Только для пользователей Viber(!)\\u2029(Christmas_tree)Брендовые часы \\u2029(Christmas_tree)Товары для дома\\u2029(Christmas_tree)Оригинальные подарки\\u2029(Christmas_tree)Натуральная косметика\\u2029(Christmas_tree)Продукты для здоровья\\u2029\\u2029Для просмотра распродажи перейдите по ссылкам ниже.\\u2029\\u2029Женская распродажа(Phone)\\u2029http://mirViber.ru/ukrw\\u2029Мужская распродажа(Phone)\\u2029http://mirViber.ru/ukrm\\u2029\\u2029Если Вы не можете открыть ссылку,\\u2029просто нажмите \"Добавить в контакты\"\\u2029\\u2029Новая покупка принесет Вам счастье и удачу!(Wink)\\u202910:54:59',\n",
       "       'Нові тарифи роумінгу з 08.02.17-прості, доступні, не потребують підключення і вибору мережі. В країні, де Ви зараз: дзвінки-10хв/25грн; 100МБ/30грн; 15SMS/20грн. Термін дії- до кінця доби(за київськ. часом).Залишок:*108#. s.lifecell.ua/roam',\n",
       "       'Ціни діють з 30.01.2017 по 12.02.2017 у мережі аптек Watsons (Ватсонс). Деталі дізнавайтесь у мережі аптек Watsons (Ватсонс). Реклама лікарського засобу. Перед застосуванням необхідно проконсультуватися з лікарем та ознайомитись з інструкцією.\\n ',\n",
       "       'Вітаємо всіх українців з безвізом! Європа стала ближчою! Правила та переваги безвізових подорожей тут: www.openeurope.in.ua. Представництво ЄС в Україні',\n",
       "       'Darina, скачайте наше приложение и получите подтверждение бронирования на телефон! booking.com/App-9nhcP09D (ссылка скоро перестанет действовать)',\n",
       "       'Tviy kod 90F7C416K. Obminyay yogo na Pepsi-Bonus v KFC Vokzal Pivdenniy z 16.04.2015 do 16.05.2015',\n",
       "       'Вітаємо з Днем захисника України та святом Покрови! Бажаємо родинного затишку, любові та тепла в кожному домі.',\n",
       "       'Нові тарифи роумінгу з 08.02.17-прості і доступні, не потребують підключення та вибору мережі. В популярних країнах: дзвінки-10хв/25грн; 100МБ/30грн; 15SMS/20грн. Термін дії- до кінця доби. Інші послуги припиняють дію. Деталі: s.lifecell.ua/roam',\n",
       "       ' Раннее бронирование! Бронируйте сейчас по минимальной цене, будет дешевле- вернем разницу!\\nТуры в Турцию,Кипр,Болгарию,Грецию,Испанию,Черногорию.\\nТУИ турагентство на Ольжича,9.',\n",
       "       'Зміни набридливі гудки на хітовий МелоРінг!Відправ 95 на 5050 і отримай Dan Balan ft. Matteo \"Allegro Ventigo\". Вартість-10грн/30днів з ПДВ і ПФ. Більше хітів-дзвони 5050 чи *123*080#'],\n",
       "      dtype=object)"
      ]
     },
     "execution_count": 570,
     "metadata": {},
     "output_type": "execute_result"
    },
    {
     "data": {
      "text/plain": [
       "array([1.54820038e-14, 2.58717847e-01, 7.35575600e-06, 3.94158192e-16,\n",
       "       9.99554636e-01, 9.98679064e-01, 8.15165713e-26, 2.88450204e-01,\n",
       "       9.77593072e-01, 9.48818567e-01, 1.24428081e-03, 9.99906727e-01])"
      ]
     },
     "execution_count": 570,
     "metadata": {},
     "output_type": "execute_result"
    },
    {
     "data": {
      "text/plain": [
       "array([-57.32411604,  -3.05818038, -36.79807335, -55.8897937 ,\n",
       "        -4.31705044,  -1.57637701, -71.26078639,  -3.45542473,\n",
       "        -4.79338985, -18.22945981, -15.25706569,  -4.39423203])"
      ]
     },
     "execution_count": 570,
     "metadata": {},
     "output_type": "execute_result"
    }
   ],
   "source": [
    "cond = (pred - y_test) < 0\n",
    "X_test[cond].values\n",
    "proba[cond]\n",
    "ratios[cond]-thresholds[cond]"
   ]
  }
 ],
 "metadata": {
  "kernelspec": {
   "display_name": "Python 3",
   "language": "python",
   "name": "python3"
  },
  "language_info": {
   "codemirror_mode": {
    "name": "ipython",
    "version": 3
   },
   "file_extension": ".py",
   "mimetype": "text/x-python",
   "name": "python",
   "nbconvert_exporter": "python",
   "pygments_lexer": "ipython3",
   "version": "3.6.3"
  }
 },
 "nbformat": 4,
 "nbformat_minor": 2
}
