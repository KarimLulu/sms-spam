{
 "cells": [
  {
   "cell_type": "code",
   "execution_count": 1,
   "metadata": {},
   "outputs": [],
   "source": [
    "%load_ext autoreload"
   ]
  },
  {
   "cell_type": "code",
   "execution_count": 2,
   "metadata": {},
   "outputs": [],
   "source": [
    "%autoreload 1"
   ]
  },
  {
   "cell_type": "code",
   "execution_count": 3,
   "metadata": {},
   "outputs": [],
   "source": [
    "%aimport src.config\n",
    "%aimport src.helpers"
   ]
  },
  {
   "cell_type": "code",
   "execution_count": 4,
   "metadata": {},
   "outputs": [],
   "source": [
    "import warnings\n",
    "warnings.filterwarnings(\"ignore\")"
   ]
  },
  {
   "cell_type": "code",
   "execution_count": 10,
   "metadata": {},
   "outputs": [],
   "source": [
    "import numpy as np\n",
    "from pathlib import Path\n",
    "from time import time\n",
    "import json\n",
    "import pandas as pd\n",
    "from xml.etree.ElementTree import iterparse\n",
    "from datetime import datetime\n",
    "import numpy as np\n",
    "import re\n",
    "import xgboost as xgb\n",
    "import matplotlib.pyplot as plt\n",
    "\n",
    "from sklearn.feature_extraction.text import TfidfVectorizer\n",
    "from sklearn.naive_bayes import GaussianNB, MultinomialNB\n",
    "from sklearn.linear_model import LogisticRegression\n",
    "from sklearn import metrics\n",
    "from sklearn.base import BaseEstimator, TransformerMixin, ClassifierMixin\n",
    "from sklearn.model_selection import GridSearchCV, StratifiedKFold, cross_val_score, cross_validate, train_test_split\n",
    "from sklearn.pipeline import Pipeline, FeatureUnion\n",
    "from sklearn.preprocessing import binarize\n",
    "from sklearn.ensemble import RandomForestClassifier\n",
    "from functools import partial\n",
    "from scipy import sparse"
   ]
  },
  {
   "cell_type": "code",
   "execution_count": 11,
   "metadata": {},
   "outputs": [],
   "source": [
    "from src.config import data_dir\n",
    "from src.helpers import calc_metrics, plot_tfidf_classfeats_h, top_feats_by_class"
   ]
  },
  {
   "cell_type": "markdown",
   "metadata": {},
   "source": [
    "#### Process raw SMS data"
   ]
  },
  {
   "cell_type": "code",
   "execution_count": 51,
   "metadata": {},
   "outputs": [],
   "source": [
    "filename = \"karim-sms-allow.xml\"\n",
    "source = data_dir / filename\n",
    "data = []\n",
    "for event, elem in iterparse(source):\n",
    "    if elem.tag == \"sms\":\n",
    "        #if any(elem.attrib[\"body\"]==r[\"text\"] for r in data):\n",
    "        #    continue\n",
    "        record = {}\n",
    "        record[\"text\"] = elem.attrib[\"body\"]\n",
    "        record[\"contact_name\"] = elem.attrib[\"contact_name\"]\n",
    "        record[\"address\"] = elem.attrib[\"address\"]\n",
    "        record[\"timestamp\"] = int(elem.attrib[\"date\"])\n",
    "        record[\"type\"] = elem.attrib[\"type\"]\n",
    "        data.append(record)"
   ]
  },
  {
   "cell_type": "code",
   "execution_count": 55,
   "metadata": {},
   "outputs": [],
   "source": [
    "df = pd.DataFrame(data)\n",
    "df.to_excel(data_dir / \"karim-sms-allow.xlsx\", index=False)"
   ]
  },
  {
   "cell_type": "markdown",
   "metadata": {},
   "source": [
    "#### Read labeled data"
   ]
  },
  {
   "cell_type": "code",
   "execution_count": 205,
   "metadata": {},
   "outputs": [],
   "source": [
    "labeled_filename = \"karim-sms-allow-labeled.xlsx\"\n",
    "labeled = pd.read_excel(data_dir / labeled_filename, sheet_name=\"total sms\")\n",
    "labeled[\"timestamp\"] = (labeled[\"timestamp\"] / 1000).map(datetime.fromtimestamp)\n",
    "labeled[\"resp\"] = 0"
   ]
  },
  {
   "cell_type": "code",
   "execution_count": 206,
   "metadata": {},
   "outputs": [],
   "source": [
    "labeled_filename_1 = \"tanya-sms-all.xlsx\"\n",
    "labeled_1 = pd.read_excel(data_dir / labeled_filename_1)\n",
    "date_format = \"%m-%d-%Y %H:%M:%S\"\n",
    "labeled_1[\"timestamp\"] = labeled_1[\"timestamp\"].map(lambda x: datetime.strptime(x, date_format))\n",
    "exclude = \"Karimushka\"\n",
    "labeled_1 = labeled_1.loc[~(labeled_1.contact_name==exclude)]"
   ]
  },
  {
   "cell_type": "code",
   "execution_count": 207,
   "metadata": {},
   "outputs": [],
   "source": [
    "mapp = {\"ham\": 0, \"spam\": 1}"
   ]
  },
  {
   "cell_type": "code",
   "execution_count": 208,
   "metadata": {},
   "outputs": [],
   "source": [
    "responses_filename = \"SMS Data Collection (Responses).xlsx\"\n",
    "responses = pd.read_excel(data_dir / responses_filename)\n",
    "responses = responses.rename(columns={\"SMS text\": \"text\", \n",
    "                                      \"Is it a spam or ham?\": \"label\",\n",
    "                                     \"Timestamp\": \"timestamp\"})\n",
    "responses[\"resp\"] = 1\n",
    "responses[\"label\"] = responses[\"label\"].map(lambda x: mapp.get(x, x))"
   ]
  },
  {
   "cell_type": "code",
   "execution_count": 209,
   "metadata": {},
   "outputs": [],
   "source": [
    "total = pd.concat([labeled, responses, labeled_1], ignore_index=True)\n",
    "total.to_excel(data_dir / \"sms-uk-total.xlsx\")"
   ]
  },
  {
   "cell_type": "code",
   "execution_count": 211,
   "metadata": {},
   "outputs": [
    {
     "data": {
      "text/plain": [
       "(6107, 8)"
      ]
     },
     "execution_count": 211,
     "metadata": {},
     "output_type": "execute_result"
    },
    {
     "data": {
      "text/plain": [
       "0    80.138\n",
       "1    19.862\n",
       "Name: label, dtype: float64"
      ]
     },
     "execution_count": 211,
     "metadata": {},
     "output_type": "execute_result"
    },
    {
     "data": {
      "text/plain": [
       "3"
      ]
     },
     "execution_count": 211,
     "metadata": {},
     "output_type": "execute_result"
    },
    {
     "data": {
      "text/plain": [
       "(6104, 8)"
      ]
     },
     "execution_count": 211,
     "metadata": {},
     "output_type": "execute_result"
    }
   ],
   "source": [
    "# Check dimensionality and class imbalance\n",
    "total.shape\n",
    "total.label.value_counts(normalize=True).round(5)*100\n",
    "total.text.isnull().sum()\n",
    "total = total.loc[total.text.notnull()]\n",
    "total.shape"
   ]
  },
  {
   "cell_type": "markdown",
   "metadata": {},
   "source": [
    "#### Train-test split"
   ]
  },
  {
   "cell_type": "code",
   "execution_count": 212,
   "metadata": {},
   "outputs": [],
   "source": [
    "total = pd.read_excel(data_dir / \"sms-uk-total.xlsx\")\n",
    "total = total.loc[total.text.notnull()]"
   ]
  },
  {
   "cell_type": "code",
   "execution_count": 213,
   "metadata": {},
   "outputs": [],
   "source": [
    "total[\"text_rep\"] = total[\"text\"].str.replace(r\"[\\(\\d][\\d\\s\\(\\)-]{8,15}\\d\", \"PHONE_NUMBER\", flags=re.I)"
   ]
  },
  {
   "cell_type": "code",
   "execution_count": 214,
   "metadata": {},
   "outputs": [],
   "source": [
    "total[\"text\"] = total[\"text\"].str.replace(r\"[\\n\\r]+\", \"\")"
   ]
  },
  {
   "cell_type": "code",
   "execution_count": 215,
   "metadata": {},
   "outputs": [
    {
     "name": "stdout",
     "output_type": "stream",
     "text": [
      "Num. of train: 4272, Num. of test: 1831\n"
     ]
    }
   ],
   "source": [
    "X = total[\"text\"]\n",
    "y = total[\"label\"]\n",
    "test_size = 0.3\n",
    "X_train, X_test, y_train, y_test = train_test_split(X, y, test_size=test_size, random_state=42,\n",
    "                                                    stratify=y)\n",
    "print(f\"Num. of train: {len(X_train)}, Num. of test: {len(X_test)}\")"
   ]
  },
  {
   "cell_type": "markdown",
   "metadata": {},
   "source": [
    "#### Build features"
   ]
  },
  {
   "cell_type": "code",
   "execution_count": 183,
   "metadata": {},
   "outputs": [],
   "source": [
    "def build_features(X_train, X_test, var=\"text\", features=None, vectorizer=None):\n",
    "    f_train = []\n",
    "    f_test = []\n",
    "    for feature in features:\n",
    "        if feature == \"tfidf\":\n",
    "            tf_train = vectorizer.fit_transform(X_train).toarray()\n",
    "            tf_test = vectorizer.transform(X_test).toarray()\n",
    "            f_train.append(tf_train)\n",
    "            f_test.append(tf_test)\n",
    "        if feature == \"length\":\n",
    "            if \"tfidf\" in features:\n",
    "                train = (tf_train>0).sum(axis=1)[:, np.newaxis]\n",
    "                test = (tf_test>0).sum(axis=1)[:, np.newaxis]\n",
    "            else:\n",
    "                train = X_train.map(len).values[:, np.newaxis]\n",
    "                test = X_test.map(len).values[:, np.newaxis]\n",
    "            f_train.append(train)\n",
    "            f_test.append(test)\n",
    "        if feature == \"patt\":\n",
    "            patt = \"%|taxi|скидк|цін\"\n",
    "            train = (X_train.str.contains(patt, regex=True, flags=re.I)\n",
    "                     .astype(int).values[:, np.newaxis])\n",
    "            test = (X_test.str.contains(patt, regex=True, flags=re.I)\n",
    "                    .astype(int).values[:, np.newaxis])\n",
    "            f_train.append(train)\n",
    "            f_test.append(test)\n",
    "        if feature == \"phone\":\n",
    "            patt = r\"[\\(\\d][\\d\\s\\(\\)-]{8,15}\\d\"\n",
    "            train = X_train.map(lambda x: len(re.findall(patt, x))>0).values[:, np.newaxis]\n",
    "            test = X_test.map(lambda x: len(re.findall(patt, x))>0).values[:, np.newaxis]\n",
    "            f_train.append(train)\n",
    "            f_test.append(test)\n",
    "    return np.concatenate((f_train), axis=1), np.concatenate((f_test), axis=1)"
   ]
  },
  {
   "cell_type": "code",
   "execution_count": 184,
   "metadata": {},
   "outputs": [],
   "source": [
    "tf_params = {\"lowercase\": True,\n",
    "             \"analyzer\": \"char_wb\",\n",
    "             \"stop_words\": None,\n",
    "             \"ngram_range\": (4, 4),\n",
    "             \"min_df\": 0.0,\n",
    "             \"max_df\": 1.0,\n",
    "             \"preprocessor\": None,#Preprocessor(),\n",
    "             \"max_features\": 4000,\n",
    "             \"norm\": \"l2\"*0,\n",
    "             \"use_idf\": 1\n",
    "             }"
   ]
  },
  {
   "cell_type": "code",
   "execution_count": 27,
   "metadata": {},
   "outputs": [],
   "source": [
    "# Remove Top N features\n",
    "# top = 100\n",
    "# r = tfidf_train.toarray().sum(axis=1)\n",
    "# topn_ids = np.argsort(r)[::-1][:top]\n",
    "# voc = [f for i,f in enumerate(features) if i not in topn_ids]\n",
    "# tf_params[\"vocabulary\"] = None#voc"
   ]
  },
  {
   "cell_type": "code",
   "execution_count": 216,
   "metadata": {},
   "outputs": [],
   "source": [
    "vectorizer = TfidfVectorizer(**tf_params)\n",
    "tfidf_train = vectorizer.fit_transform(X_train)\n",
    "tfidf_test = vectorizer.transform(X_test)\n",
    "features = [\n",
    "            \"tfidf\", \n",
    "            \"length\",\n",
    "            \"phone\",\n",
    "            \"patt\",\n",
    "]\n",
    "train, test = build_features(X_train, X_test, features=features, vectorizer=vectorizer, var=\"text\")"
   ]
  },
  {
   "cell_type": "code",
   "execution_count": 26,
   "metadata": {},
   "outputs": [],
   "source": [
    "# features = vectorizer.get_feature_names()\n",
    "# dfs = top_feats_by_class(tfidf_train, y_train, features, min_tfidf=0.1, top_n=25)\n",
    "# plot_tfidf_classfeats_h(dfs)"
   ]
  },
  {
   "cell_type": "markdown",
   "metadata": {},
   "source": [
    "#### Fit Naive Bayes"
   ]
  },
  {
   "cell_type": "markdown",
   "metadata": {},
   "source": [
    "In general it is much worse to misclassify ham\n",
    "SMS than letting spam pass the filter. So, it is desirable to be able to bias\n",
    "the filter towards classifying SMS as ham, yielding higher precision at the expense of recall"
   ]
  },
  {
   "cell_type": "code",
   "execution_count": 29,
   "metadata": {},
   "outputs": [],
   "source": [
    "def predict_class(tf, X_test, clf, w=1.5):\n",
    "    probas = clf.predict_proba(X_test)\n",
    "    ratios = np.log(probas[:, 1] ) - np.log(probas[:, 0])\n",
    "    lengths = (tf.toarray()>0).sum(axis=1).T\n",
    "    thresholds = lengths * np.log(w)\n",
    "    y_pred = np.zeros_like(y_test)\n",
    "    y_pred[ratios>thresholds] = 1\n",
    "    return y_pred, ratios, thresholds"
   ]
  },
  {
   "cell_type": "code",
   "execution_count": 1492,
   "metadata": {},
   "outputs": [],
   "source": [
    "clf = RandomForestClassifier(min_samples_leaf=5, min_samples_split=15,\n",
    "                             n_estimators=100, max_depth=20, max_features=\"auto\", \n",
    "                             class_weight=\"balanced\")"
   ]
  },
  {
   "cell_type": "code",
   "execution_count": 231,
   "metadata": {},
   "outputs": [
    {
     "data": {
      "text/plain": [
       "LogisticRegression(C=0.01, class_weight='balanced', dual=False,\n",
       "          fit_intercept=True, intercept_scaling=1, max_iter=100,\n",
       "          multi_class='ovr', n_jobs=1, penalty='l2', random_state=25,\n",
       "          solver='liblinear', tol=0.0001, verbose=0, warm_start=False)"
      ]
     },
     "execution_count": 231,
     "metadata": {},
     "output_type": "execute_result"
    },
    {
     "name": "stdout",
     "output_type": "stream",
     "text": [
      "AUC: 0.997\n",
      "Recall: 0.970\n",
      "Precision: 0.957\n",
      "F1: 0.963\n",
      "Accuracy: 0.985\n",
      "\n",
      "Confusion matrix:\n",
      "      pred_ham  pred_spam\n",
      "ham       1451         16\n",
      "spam        11        353\n",
      "\n",
      "Report:\n",
      "             precision    recall  f1-score   support\n",
      "\n",
      "          0       0.99      0.99      0.99      1467\n",
      "          1       0.96      0.97      0.96       364\n",
      "\n",
      "avg / total       0.99      0.99      0.99      1831\n",
      "\n"
     ]
    }
   ],
   "source": [
    "clf = LogisticRegression(random_state=25, class_weight=\"balanced\", \n",
    "                         C=0.01, penalty=\"l2\")\n",
    "#clf = MultinomialNB(alpha=0.01)#, class_prior=[0.5, 0.5])\n",
    "clf.fit(train, y_train)\n",
    "#pred, ratios, thresholds = predict_class(tfidf_test, test, clf, w=1.2)\n",
    "pred = clf.predict(test)\n",
    "proba = clf.predict_proba(test)[:, 1]\n",
    "output, report, conf_matrix = calc_metrics(y_test, pred, proba, labels=[\"ham\", \"spam\"], \n",
    "                                           print_=True, mode=\"binary\")"
   ]
  },
  {
   "cell_type": "code",
   "execution_count": 203,
   "metadata": {},
   "outputs": [
    {
     "data": {
      "text/plain": [
       "3956    Ждем на выходных в Кувшине!Барашек на вертеле,...\n",
       "3469     \"OSCHADBANK\"  VASHU KARTKU ZABLOKOVANO.  Dlya...\n",
       "Name: text, dtype: object"
      ]
     },
     "execution_count": 203,
     "metadata": {},
     "output_type": "execute_result"
    },
    {
     "data": {
      "text/plain": [
       "address                                                       NaN\n",
       "contact_name                                                  NaN\n",
       "label                                                           1\n",
       "resp                                                            1\n",
       "service                                                       NaN\n",
       "text             \"OSCHADBANK\"  VASHU KARTKU ZABLOKOVANO.  Dlya...\n",
       "timestamp                              2018-04-12 16:55:09.238000\n",
       "type                                                          NaN\n",
       "text_rep         \"OSCHADBANK\"  VASHU KARTKU ZABLOKOVANO.  Dlya...\n",
       "Name: 3469, dtype: object"
      ]
     },
     "execution_count": 203,
     "metadata": {},
     "output_type": "execute_result"
    }
   ],
   "source": [
    "X_test.iloc[fn_i[:2]]\n",
    "total.loc[3469]"
   ]
  },
  {
   "cell_type": "code",
   "execution_count": 233,
   "metadata": {},
   "outputs": [
    {
     "name": "stdout",
     "output_type": "stream",
     "text": [
      "Ждем на выходных в Кувшине!Барашек на вертеле,ароматная шурпа,шашлык на мангале,хинкали!Детские развлечения с аниматорами!(067)4687258\n",
      "\n",
      "Ispolnyajte zhelaniya s kartoj Universalnaya ot A-Banka, limit - do 50 tys. grn. My zhdem Vas: Kiev, Akademika Korolyova 8A.\n",
      "\n",
      "З 19.04.17 змінюється тариф на роумінг в Білорусі: дзвінки 10хв - 45грн, 100МБ- 55грн, 15 вихідних SMS- 20грн. Пакет до кінця доби (за Київським часом), не залежить від оператора в країні. Кількість пакетів необмежена. Деталі: s.lifecell.ua/74 \n",
      "\n",
      "ФИНАЛЬНАЯ РАСПРОДАЖА⚠️   ⚠️   ⚠️До - 70% на более 1000 ароматов популярной парфюмерии.🌺*** Спешите. До конца акции осталось 3 дня ***✈️    \n",
      "\n",
      " \"OSCHADBANK\"  VASHU KARTKU ZABLOKOVANO.  Dlya razblokyvanya zvernicya do kontakt-centru za nom. 0919535656 goryacay liniya OSCHADBANK   \n",
      "\n",
      "Горит Кипр! Туры в августе от 680 евро на двоих! Звоните, приходите- Туи Турагентство на Ольжича,9.\n",
      "\n",
      "MGI запрошує Вас на концерт хору із Арканзасу сьогодні 26.04 о 19:00\n",
      "\n",
      "Замовляйте вигідний Інтернет-пакет 1ГБ на 30днів за 29грн *301#. З 21.10, після закінчення Інтернету, який входить до тарифу, вартість  додаткових пакетів доступу до Інтернету складатиме 10 грн/100 МБ або 5 грн/50 МБ. Деталі lifecell.ua/zminy або по номеру 543321\n",
      "\n",
      "Шановний абоненте, вітаємо Вас з травневими вихідними! Бажаємо сонячного тепла і приємного спілкування з рідними та друзями щодня! Дякуємо за довіру, Ваш lifecell\n",
      "\n",
      "Letnie skidki v TAC!- 50% na postelnoe belie Satin!Tolko 19-25 iyunia. ul.Baseynaya 5A tel.0668475131 DiscontInfo\n",
      "\n",
      "\"Oschadbank\" Shanovnyy kliente vashu kartku  zablokovano na 92 na vashomu rahunku -0.00 UAN .Detali za nomerom: +38091-922-47-01;    \n",
      "\n"
     ]
    }
   ],
   "source": [
    "fp_i = np.where((pred==1) & (y_test==0))[0]\n",
    "fn_i = np.where((pred==0) & (y_test==1))[0]\n",
    "for el in X_test.iloc[fn_i].values:\n",
    "    print(el+\"\\n\")"
   ]
  },
  {
   "cell_type": "markdown",
   "metadata": {},
   "source": [
    "#### Fit XGBoost"
   ]
  },
  {
   "cell_type": "code",
   "execution_count": 762,
   "metadata": {},
   "outputs": [],
   "source": [
    "params = {}\n",
    "#params['scale_pos_weight'] = sum(y_train==0) / sum(y_train==1)\n",
    "params['learning_rate'] = 0.1\n",
    "params['n_estimators'] = 1000\n",
    "params['max_depth'] = 5\n",
    "params['min_child_weight'] = 100\n",
    "params['gamma'] = 0\n",
    "params['subsample'] = 0.8\n",
    "params['colsample_bytree'] = 0.8\n",
    "params['objective'] = 'binary:logistic'\n",
    "params['seed'] = 27\n",
    "params['n_jobs'] = -1\n",
    "params[\"eval_metric\"] = [\"error\",\"auc\"]\n",
    "params[\"early_stopping_rounds\"] = 50"
   ]
  },
  {
   "cell_type": "code",
   "execution_count": 763,
   "metadata": {},
   "outputs": [],
   "source": [
    "dtrain = xgb.DMatrix(train, y_train)\n",
    "dtest = xgb.DMatrix(test, y_test)\n",
    "eval_set = [(dtrain, \"train\"), (dtest, \"eval\")]"
   ]
  },
  {
   "cell_type": "code",
   "execution_count": 764,
   "metadata": {},
   "outputs": [
    {
     "name": "stdout",
     "output_type": "stream",
     "text": [
      "[0]\ttrain-error:0.212165\ttrain-auc:0.817627\teval-error:0.211731\teval-auc:0.80761\n",
      "Multiple eval metrics have been passed: 'eval-auc' will be used for early stopping.\n",
      "\n",
      "Will train until eval-auc hasn't improved in 50 rounds.\n",
      "[50]\ttrain-error:0.188551\ttrain-auc:0.843192\teval-error:0.197425\teval-auc:0.825158\n",
      "Stopping. Best iteration:\n",
      "[20]\ttrain-error:0.212165\ttrain-auc:0.842316\teval-error:0.211731\teval-auc:0.828377\n",
      "\n"
     ]
    }
   ],
   "source": [
    "model = xgb.train(dtrain=dtrain, num_boost_round=params.get(\"n_estimators\"), \n",
    "                  early_stopping_rounds=params.get(\"early_stopping_rounds\"), \n",
    "                  params=params, evals=eval_set, verbose_eval=50)"
   ]
  },
  {
   "cell_type": "code",
   "execution_count": 765,
   "metadata": {},
   "outputs": [
    {
     "name": "stdout",
     "output_type": "stream",
     "text": [
      "AUC: 0.825\n",
      "Recall: 0.345\n",
      "Precision: 0.554\n",
      "F1: 0.425\n",
      "Accuracy: 0.803\n",
      "\n",
      "Confusion matrix:\n",
      "      pred_ham  pred_spam\n",
      "ham        510         41\n",
      "spam        97         51\n",
      "\n",
      "Report:\n",
      "             precision    recall  f1-score   support\n",
      "\n",
      "          0       0.84      0.93      0.88       551\n",
      "          1       0.55      0.34      0.43       148\n",
      "\n",
      "avg / total       0.78      0.80      0.78       699\n",
      "\n"
     ]
    }
   ],
   "source": [
    "pred_proba_xgb = model.predict(dtest)\n",
    "pred_xgb = np.zeros_like(pred_proba_xgb)\n",
    "pred_xgb[pred_proba_xgb>=0.5] = 1\n",
    "xgb_metrics = calc_metrics(y_test, pred_xgb, pred_proba_xgb, mode=\"binary\",\n",
    "                          labels=[\"ham\", \"spam\"], print_=True)"
   ]
  },
  {
   "cell_type": "code",
   "execution_count": 55,
   "metadata": {},
   "outputs": [],
   "source": [
    "def unsquash(X):\n",
    "    ''' (n,) -> (n,1) '''\n",
    "    if len(X.shape) == 1 or X.shape[0] == 1:\n",
    "        return np.asarray(X).reshape((len(X), 1))\n",
    "    else:\n",
    "        return X"
   ]
  },
  {
   "cell_type": "code",
   "execution_count": 56,
   "metadata": {},
   "outputs": [],
   "source": [
    "def squash(X):\n",
    "    ''' (n,1) -> (n,) '''\n",
    "    return np.squeeze(np.asarray(X))"
   ]
  },
  {
   "cell_type": "code",
   "execution_count": 141,
   "metadata": {},
   "outputs": [],
   "source": [
    "class Squash(Transformer):\n",
    "    def transform(self, X, **kwargs):\n",
    "        return squash(X)"
   ]
  },
  {
   "cell_type": "code",
   "execution_count": 142,
   "metadata": {},
   "outputs": [],
   "source": [
    "class Unsquash(Transformer):\n",
    "    def transform(self, X, **kwargs):\n",
    "        return unsquash(X)"
   ]
  },
  {
   "cell_type": "code",
   "execution_count": 57,
   "metadata": {},
   "outputs": [],
   "source": [
    "class Transformer(TransformerMixin):\n",
    "    '''Base class for pure transformers'''\n",
    "\n",
    "    def fit(self, X, y=None, **fit_params):\n",
    "        return self\n",
    "\n",
    "    def transform(self, X, **transform_params):\n",
    "        return X\n",
    "\n",
    "    def get_params(self, deep=True):\n",
    "        return dict()"
   ]
  },
  {
   "cell_type": "code",
   "execution_count": 58,
   "metadata": {},
   "outputs": [],
   "source": [
    "class ModelTransformer(TransformerMixin):\n",
    "    ''' Use model predictions as transformer '''\n",
    "    def __init__(self, model, probs=True):\n",
    "        self.model = model\n",
    "        self.probs = probs\n",
    "\n",
    "    def get_params(self, deep=True):\n",
    "        return dict(model=self.model, probs=self.probs)\n",
    "\n",
    "    def fit(self, *args, **kwargs):\n",
    "        self.model.fit(*args, **kwargs)\n",
    "        return self\n",
    "\n",
    "    def transform(self, X, **transform_params):\n",
    "        if self.probs:\n",
    "            pred = self.model.predict_proba(X)[:, 1]\n",
    "        else:\n",
    "            pred = self.model.predict(X)\n",
    "        return unsquash(pred)"
   ]
  },
  {
   "cell_type": "code",
   "execution_count": 59,
   "metadata": {},
   "outputs": [],
   "source": [
    "class Converter(Transformer):\n",
    "    \n",
    "    def __init__(self):\n",
    "        pass\n",
    "    \n",
    "    def transform(self, X, **kwargs):\n",
    "        if isinstance(X, np.ndarray):\n",
    "            return X\n",
    "        elif isinstance(X, pd.Series):\n",
    "            return X.values\n",
    "        elif isinstance(X, str):\n",
    "            return np.array([X])\n",
    "        else:\n",
    "            return X"
   ]
  },
  {
   "cell_type": "code",
   "execution_count": 140,
   "metadata": {},
   "outputs": [],
   "source": [
    "class Length(Transformer):\n",
    "    def __init__(self, use_tfidf=True):\n",
    "        self.use_tfidf = use_tfidf\n",
    "\n",
    "    def get_params(self, deep=True):\n",
    "        return {\"use_tfidf\": self.use_tfidf}\n",
    "    \n",
    "    def transform(self, X, **kwargs):\n",
    "        if self.use_tfidf:\n",
    "            res = (X>0).sum(axis=1)\n",
    "        else:\n",
    "            res = np.vectorize(len)(X)\n",
    "        return unsquash(res)"
   ]
  },
  {
   "cell_type": "code",
   "execution_count": 285,
   "metadata": {},
   "outputs": [],
   "source": [
    "class TfIdfLen(Transformer):\n",
    "    def __init__(self, add_len=True, **tfidf_params):\n",
    "        self.add_len = add_len\n",
    "        self.tfidf_params = tfidf_params.copy()\n",
    "\n",
    "    def get_params(self, deep=True):\n",
    "        output = self.tfidf_params\n",
    "        output.update({\"add_len\": self.add_len})\n",
    "        return output\n",
    "    \n",
    "    def set_params(self, **params):\n",
    "        self.tfidf_params.update(**params)\n",
    "    \n",
    "    def fit(self, X, y=None):\n",
    "        self.add_len = self.tfidf_params.pop(\"add_len\", self.add_len)\n",
    "        self.vectorizer = TfidfVectorizer(**self.tfidf_params)\n",
    "        self.vectorizer.fit(X)\n",
    "        return self\n",
    "    \n",
    "    def transform(self, X, **kwargs):\n",
    "        res = self.vectorizer.transform(X)\n",
    "        if self.add_len:\n",
    "            lens = (res > 0).sum(axis=1)\n",
    "            res = sparse.hstack([res, lens]).tocsr()\n",
    "        return res"
   ]
  },
  {
   "cell_type": "code",
   "execution_count": 284,
   "metadata": {},
   "outputs": [
    {
     "data": {
      "text/plain": [
       "<1x46 sparse matrix of type '<class 'numpy.float64'>'\n",
       "\twith 46 stored elements in Compressed Sparse Row format>"
      ]
     },
     "execution_count": 284,
     "metadata": {},
     "output_type": "execute_result"
    }
   ],
   "source": [
    "a = X_test.iloc[:1]#.values\n",
    "l = TfIdfLen(add_len=1, **tf_params)\n",
    "l.fit_transform(a)"
   ]
  },
  {
   "cell_type": "code",
   "execution_count": 62,
   "metadata": {},
   "outputs": [],
   "source": [
    "class MatchPattern(Transformer):\n",
    "    \n",
    "    def __init__(self, pattern, is_len, flags=re.U):\n",
    "        self.pattern = pattern\n",
    "        self.is_len = is_len\n",
    "        self.flags = flags\n",
    "        \n",
    "    def get_params(self, deep=True):\n",
    "        return dict(pattern=self.pattern, is_len=self.is_len, flags=self.flags)\n",
    "    \n",
    "    def transform(self, X, **kwargs):\n",
    "        if self.is_len:\n",
    "            func = lambda text: len(re.findall(self.pattern, text, self.flags))\n",
    "        else:\n",
    "            func = lambda text: bool(re.search(self.pattern, text, self.flags))\n",
    "        rez = np.vectorize(func)(X).astype(int)\n",
    "        return unsquash(rez)"
   ]
  },
  {
   "cell_type": "code",
   "execution_count": 63,
   "metadata": {},
   "outputs": [],
   "source": [
    "class EnsembleBinaryClassifier(BaseEstimator, ClassifierMixin, TransformerMixin):\n",
    "\n",
    "    def __init__(self, mode, weights=None):\n",
    "        self.mode = mode\n",
    "        self.weights = weights\n",
    "\n",
    "    def fit(self, X, y=None):\n",
    "        return self\n",
    "\n",
    "    def predict_proba(self, X):\n",
    "        ''' Predict (weighted) probabilities '''\n",
    "        probs = np.average(X, axis=1, weights=self.weights)\n",
    "        return np.column_stack((1-probs, probs))\n",
    "\n",
    "    def predict(self, X):\n",
    "        ''' Predict class labels. '''\n",
    "        if self.mode == 'average':\n",
    "            return binarize(self.predict_proba(X)[:,[1]], 0.5)\n",
    "        else:\n",
    "            res = binarize(X, 0.5)\n",
    "            return np.apply_along_axis(lambda x: np.bincount(x.astype(int), self.weights).argmax(), axis=1, arr=res)"
   ]
  },
  {
   "cell_type": "code",
   "execution_count": 64,
   "metadata": {},
   "outputs": [],
   "source": [
    "def build_ensemble(model_list, estimator=None):\n",
    "    models = []\n",
    "    for i, model in enumerate(model_list):\n",
    "        models.append(('model_transform'+str(i), ModelTransformer(model)))\n",
    "\n",
    "    if not estimator:\n",
    "        return FeatureUnion(models)\n",
    "    else:\n",
    "        return Pipeline([\n",
    "            ('features', FeatureUnion(models)),\n",
    "            ('estimator', estimator)\n",
    "            ])"
   ]
  },
  {
   "cell_type": "code",
   "execution_count": 260,
   "metadata": {},
   "outputs": [],
   "source": [
    "def get_vec_pipe(add_len=True, tfidf_params={}):\n",
    "    vectorizer = TfIdfLen(add_len, **tfidf_params)\n",
    "    vec_pipe = [\n",
    "        ('vec', vectorizer)]\n",
    "    return Pipeline(vec_pipe)"
   ]
  },
  {
   "cell_type": "code",
   "execution_count": 179,
   "metadata": {},
   "outputs": [],
   "source": [
    "def get_pattern_pipe(patterns):\n",
    "    pipes = []\n",
    "    for i, (patt, params) in enumerate(patterns):\n",
    "        kwargs = params.copy()\n",
    "        name = kwargs.pop(\"name\") + \"_\" + str(i)\n",
    "        temp = MatchPattern(pattern=patt, **kwargs)\n",
    "        pipes.append((name, temp))\n",
    "    return pipes"
   ]
  },
  {
   "cell_type": "code",
   "execution_count": 248,
   "metadata": {},
   "outputs": [],
   "source": [
    "def get_len_pipe(use_tfidf=True, vec_pipe=None):\n",
    "    len_pipe = [(\"length\", Length(use_tfidf))]\n",
    "    if use_tfidf:\n",
    "        len_pipe.insert(0, (\"vec\", vec_pipe))\n",
    "    return Pipeline(len_pipe)"
   ]
  },
  {
   "cell_type": "code",
   "execution_count": 181,
   "metadata": {},
   "outputs": [],
   "source": [
    "PATTERNS = [(r\"[\\(\\d][\\d\\s\\(\\)-]{8,15}\\d\", {\"name\": \"phone\",\n",
    "                                \"is_len\": 0}),\n",
    "           (r\"%|taxi|скидк|цін\", {\"name\": \"custom\",\n",
    "                                  \"is_len\": 0,\n",
    "                                  \"flags\": re.I | re.U})\n",
    "           ]"
   ]
  },
  {
   "cell_type": "code",
   "execution_count": 261,
   "metadata": {},
   "outputs": [],
   "source": [
    "def build_transform_pipe(tf_params, add_len=True, vec_mode=\"add\"):\n",
    "    vec_pipe = get_vec_pipe(add_len, **tf_params)\n",
    "    if vec_mode == \"only\":\n",
    "        return vec_pipe\n",
    "    patt_pipe = get_pattern_pipe(PATTERNS)\n",
    "    chain = [\n",
    "        ('converter', Converter()),\n",
    "        ('union', FeatureUnion([\n",
    "            ('vec', vec_pipe),\n",
    "            *patt_pipe\n",
    "        ]))\n",
    "    ]\n",
    "    return chain"
   ]
  },
  {
   "cell_type": "code",
   "execution_count": 426,
   "metadata": {},
   "outputs": [],
   "source": [
    "def build_classifier(name, seed=25):\n",
    "    if name == \"logit\":\n",
    "        model = LogisticRegression(C=1, class_weight=\"balanced\", random_state=seed, penalty=\"l2\")\n",
    "        model.grid_s = {'logit__C' : (0.1, 0.5, 1, 5, 10)}\n",
    "        model.grid_b = {'logit__C' : [(1)]}\n",
    "    elif name == \"nb\":\n",
    "        model = MultinomialNB(alpha=0.1) #class_prior=[0.5, 0.5])\n",
    "        model.grid_s = {'nb__alpha' : (0.1, 0.5, 1, 5, 10)}\n",
    "        model.grid_b = {'nb__alpha' : [(1)]}\n",
    "    model.name = name\n",
    "    return model"
   ]
  },
  {
   "cell_type": "code",
   "execution_count": 429,
   "metadata": {},
   "outputs": [],
   "source": [
    "def get_estimator_pipe(name, model, tf_params, vec_mode=\"add\"):\n",
    "    chain = build_transform_pipe(tf_params, vec_mode=vec_mode)\n",
    "    chain.append((name, model))\n",
    "    pipe = Pipeline(chain)\n",
    "    pipe.name = name\n",
    "    return pipe"
   ]
  },
  {
   "cell_type": "code",
   "execution_count": 423,
   "metadata": {},
   "outputs": [],
   "source": [
    "def get_all_classifiers(names):\n",
    "    return [build_classifier(name) for name in names]"
   ]
  },
  {
   "cell_type": "code",
   "execution_count": 427,
   "metadata": {},
   "outputs": [],
   "source": [
    "def build_all_pipes(tf_params, vec_mode=\"add\", names=[\"logit\", \"nb\"]):\n",
    "    clfs = get_all_classifiers(names)\n",
    "    return [get_estimator_pipe(clf.name, clf, tf_params, vec_mode) for clf in clfs]"
   ]
  },
  {
   "cell_type": "code",
   "execution_count": 286,
   "metadata": {},
   "outputs": [],
   "source": [
    "clf_log = LogisticRegression(random_state=25, class_weight=\"balanced\",                          \n",
    "                             C=0.1, penalty=\"l2\")\n",
    "clf_nb = MultinomialNB(alpha=0.1)#, class_prior=[0.5, 0.5])\n",
    "clf_ensem = EnsembleBinaryClassifier(mode=\"averag\", weights=[5, 5])  \n",
    "\n",
    "chain = build_transform_pipe(tf_params)\n",
    "chain.append(('estimator', clf_log))\n",
    "pipe = Pipeline(chain)"
   ]
  },
  {
   "cell_type": "code",
   "execution_count": 416,
   "metadata": {},
   "outputs": [],
   "source": [
    "cv_splitter = StratifiedKFold(n_splits=5, random_state=25, shuffle=True)"
   ]
  },
  {
   "cell_type": "code",
   "execution_count": 437,
   "metadata": {},
   "outputs": [],
   "source": [
    "pipes = build_all_pipes(tf_params)"
   ]
  },
  {
   "cell_type": "code",
   "execution_count": 451,
   "metadata": {},
   "outputs": [
    {
     "name": "stdout",
     "output_type": "stream",
     "text": [
      "Hypertuning model 1 out of 2: logit\n",
      "================================================================================\n",
      "Best score on training set (CV): 0.957\n",
      "Best parameters set:\n",
      "\tlogit__C: 0.5\n",
      "\tunion__vec__vec__max_features: 4000\n",
      "\tunion__vec__vec__ngram_range: (4, 4)\n",
      "\tunion__vec__vec__use_idf: 1\n",
      "0.9487 (+/-0.004049733402745225) for {'logit__C': 0.1, 'union__vec__vec__max_features': 2000, 'union__vec__vec__ngram_range': (3, 3), 'union__vec__vec__use_idf': 0}: [0.95681063 0.95302013 0.95138889 0.93333333 0.94915254]\n",
      "0.9441 (+/-0.006426988813357387) for {'logit__C': 0.1, 'union__vec__vec__max_features': 2000, 'union__vec__vec__ngram_range': (3, 3), 'union__vec__vec__use_idf': 1}: [0.95238095 0.9527027  0.93706294 0.9220339  0.95622896]\n",
      "0.9449 (+/-0.004158389720650883) for {'logit__C': 0.1, 'union__vec__vec__max_features': 2000, 'union__vec__vec__ngram_range': (4, 4), 'union__vec__vec__use_idf': 0}: [0.93559322 0.94197952 0.9375     0.95652174 0.9527027 ]\n",
      "0.9451 (+/-0.004089185428960916) for {'logit__C': 0.1, 'union__vec__vec__max_features': 2000, 'union__vec__vec__ngram_range': (4, 4), 'union__vec__vec__use_idf': 1}: [0.94594595 0.94352159 0.93425606 0.94237288 0.95945946]\n",
      "0.9431 (+/-0.00485163356342133) for {'logit__C': 0.1, 'union__vec__vec__max_features': 2000, 'union__vec__vec__ngram_range': (5, 5), 'union__vec__vec__use_idf': 0}: [0.93877551 0.94197952 0.93006993 0.95973154 0.94520548]\n",
      "0.9452 (+/-0.004467590621902168) for {'logit__C': 0.1, 'union__vec__vec__max_features': 2000, 'union__vec__vec__ngram_range': (5, 5), 'union__vec__vec__use_idf': 1}: [0.93602694 0.93959732 0.93835616 0.9559322  0.95622896]\n",
      "0.9383 (+/-0.0026149999074514024) for {'logit__C': 0.1, 'union__vec__vec__max_features': 2000, 'union__vec__vec__ngram_range': (3, 5), 'union__vec__vec__use_idf': 0}: [0.93687708 0.93288591 0.94158076 0.94666667 0.93333333]\n",
      "0.9303 (+/-0.003996695971508501) for {'logit__C': 0.1, 'union__vec__vec__max_features': 2000, 'union__vec__vec__ngram_range': (3, 5), 'union__vec__vec__use_idf': 1}: [0.92929293 0.92517007 0.9347079  0.91946309 0.94276094]\n",
      "0.9435 (+/-0.002630449242230444) for {'logit__C': 0.1, 'union__vec__vec__max_features': 2000, 'union__vec__vec__ngram_range': (3, 4), 'union__vec__vec__use_idf': 0}: [0.93687708 0.94314381 0.95205479 0.93959732 0.94594595]\n",
      "0.9364 (+/-0.0037546639132325027) for {'logit__C': 0.1, 'union__vec__vec__max_features': 2000, 'union__vec__vec__ngram_range': (3, 4), 'union__vec__vec__use_idf': 1}: [0.93288591 0.93197279 0.94482759 0.92666667 0.94557823]\n",
      "0.9500 (+/-0.0028697441374067705) for {'logit__C': 0.1, 'union__vec__vec__max_features': 2500, 'union__vec__vec__ngram_range': (3, 3), 'union__vec__vec__use_idf': 0}: [0.94983278 0.95622896 0.9550173  0.94       0.94915254]\n",
      "0.9487 (+/-0.004110123425260696) for {'logit__C': 0.1, 'union__vec__vec__max_features': 2500, 'union__vec__vec__ngram_range': (3, 3), 'union__vec__vec__use_idf': 1}: [0.9559322  0.94915254 0.93706294 0.94237288 0.95918367]\n",
      "0.9490 (+/-0.0042275422540528) for {'logit__C': 0.1, 'union__vec__vec__max_features': 2500, 'union__vec__vec__ngram_range': (4, 4), 'union__vec__vec__use_idf': 0}: [0.93559322 0.94915254 0.94482759 0.95652174 0.95918367]\n",
      "0.9479 (+/-0.0038640418024084564) for {'logit__C': 0.1, 'union__vec__vec__max_features': 2500, 'union__vec__vec__ngram_range': (4, 4), 'union__vec__vec__use_idf': 1}: [0.93559322 0.94983278 0.94520548 0.94949495 0.95945946]\n",
      "0.9418 (+/-0.00489986245987243) for {'logit__C': 0.1, 'union__vec__vec__max_features': 2500, 'union__vec__vec__ngram_range': (5, 5), 'union__vec__vec__use_idf': 0}: [0.93877551 0.94197952 0.93006993 0.95973154 0.93835616]\n",
      "0.9484 (+/-0.004476602578890804) for {'logit__C': 0.1, 'union__vec__vec__max_features': 2500, 'union__vec__vec__ngram_range': (5, 5), 'union__vec__vec__use_idf': 1}: [0.93877551 0.93959732 0.94809689 0.96296296 0.9527027 ]\n",
      "0.9452 (+/-0.002259680446110871) for {'logit__C': 0.1, 'union__vec__vec__max_features': 2500, 'union__vec__vec__ngram_range': (3, 5), 'union__vec__vec__use_idf': 0}: [0.94078947 0.93959732 0.95205479 0.94666667 0.94666667]\n",
      "0.9351 (+/-0.0020302639493376797) for {'logit__C': 0.1, 'union__vec__vec__max_features': 2500, 'union__vec__vec__ngram_range': (3, 5), 'union__vec__vec__use_idf': 1}: [0.93288591 0.93559322 0.93425606 0.93023256 0.94237288]\n",
      "0.9495 (+/-0.004008485918575918) for {'logit__C': 0.1, 'union__vec__vec__max_features': 2500, 'union__vec__vec__ngram_range': (3, 4), 'union__vec__vec__use_idf': 0}: [0.95709571 0.94630872 0.95862069 0.93645485 0.94915254]\n",
      "0.9381 (+/-0.002110000572371455) for {'logit__C': 0.1, 'union__vec__vec__max_features': 2500, 'union__vec__vec__ngram_range': (3, 4), 'union__vec__vec__use_idf': 1}: [0.94314381 0.93515358 0.93706294 0.93243243 0.94276094]\n",
      "0.9529 (+/-0.0033776415950607583) for {'logit__C': 0.1, 'union__vec__vec__max_features': 3000, 'union__vec__vec__ngram_range': (3, 3), 'union__vec__vec__use_idf': 0}: [0.94983278 0.95973154 0.96167247 0.94389439 0.94915254]\n",
      "0.9486 (+/-0.004275737465285816) for {'logit__C': 0.1, 'union__vec__vec__max_features': 3000, 'union__vec__vec__ngram_range': (3, 3), 'union__vec__vec__use_idf': 1}: [0.95238095 0.94880546 0.93333333 0.94915254 0.95945946]\n",
      "0.9496 (+/-0.0021242398449319595) for {'logit__C': 0.1, 'union__vec__vec__max_features': 3000, 'union__vec__vec__ngram_range': (4, 4), 'union__vec__vec__use_idf': 0}: [0.94557823 0.94557823 0.94809689 0.95652174 0.95238095]\n",
      "0.9472 (+/-0.004326960958928554) for {'logit__C': 0.1, 'union__vec__vec__max_features': 3000, 'union__vec__vec__ngram_range': (4, 4), 'union__vec__vec__use_idf': 1}: [0.93918919 0.94237288 0.94158076 0.94983278 0.96296296]\n",
      "0.9479 (+/-0.003908966549087311) for {'logit__C': 0.1, 'union__vec__vec__max_features': 3000, 'union__vec__vec__ngram_range': (5, 5), 'union__vec__vec__use_idf': 0}: [0.93877551 0.94915254 0.93992933 0.95973154 0.95205479]\n",
      "0.9511 (+/-0.00428317371592415) for {'logit__C': 0.1, 'union__vec__vec__max_features': 3000, 'union__vec__vec__ngram_range': (5, 5), 'union__vec__vec__use_idf': 1}: [0.93877551 0.95302013 0.94444444 0.96296296 0.95622896]\n",
      "0.9450 (+/-0.0012341486106422835) for {'logit__C': 0.1, 'union__vec__vec__max_features': 3000, 'union__vec__vec__ngram_range': (3, 5), 'union__vec__vec__use_idf': 0}: [0.94701987 0.94314381 0.94880546 0.94314381 0.94276094]\n",
      "0.9347 (+/-0.0056141702987311925) for {'logit__C': 0.1, 'union__vec__vec__max_features': 3000, 'union__vec__vec__ngram_range': (3, 5), 'union__vec__vec__use_idf': 1}: [0.93687708 0.93515358 0.93706294 0.91467577 0.94949495]\n",
      "0.9503 (+/-0.0035079279956702477) for {'logit__C': 0.1, 'union__vec__vec__max_features': 3000, 'union__vec__vec__ngram_range': (3, 4), 'union__vec__vec__use_idf': 0}: [0.95709571 0.94983278 0.95862069 0.93959732 0.94630872]\n",
      "0.9468 (+/-0.004016072227540968) for {'logit__C': 0.1, 'union__vec__vec__max_features': 3000, 'union__vec__vec__ngram_range': (3, 4), 'union__vec__vec__use_idf': 1}: [0.95016611 0.94915254 0.93706294 0.93877551 0.95890411]\n",
      "0.9541 (+/-0.0032199339247403163) for {'logit__C': 0.1, 'union__vec__vec__max_features': 3500, 'union__vec__vec__ngram_range': (3, 3), 'union__vec__vec__use_idf': 0}: [0.9527027  0.95652174 0.96527778 0.94701987 0.94915254]\n",
      "0.9494 (+/-0.005463746674133162) for {'logit__C': 0.1, 'union__vec__vec__max_features': 3500, 'union__vec__vec__ngram_range': (3, 3), 'union__vec__vec__use_idf': 1}: [0.94915254 0.94915254 0.93706294 0.94237288 0.96928328]\n",
      "0.9529 (+/-0.00398661552700496) for {'logit__C': 0.1, 'union__vec__vec__max_features': 3500, 'union__vec__vec__ngram_range': (4, 4), 'union__vec__vec__use_idf': 0}: [0.94557823 0.94197952 0.95470383 0.96       0.96245734]\n",
      "0.9519 (+/-0.004165072502517229) for {'logit__C': 0.1, 'union__vec__vec__max_features': 3500, 'union__vec__vec__ngram_range': (4, 4), 'union__vec__vec__use_idf': 1}: [0.94594595 0.95622896 0.94482759 0.94630872 0.96644295]\n",
      "0.9479 (+/-0.003687784744985932) for {'logit__C': 0.1, 'union__vec__vec__max_features': 3500, 'union__vec__vec__ngram_range': (5, 5), 'union__vec__vec__use_idf': 0}: [0.94197952 0.9527027  0.93661972 0.95622896 0.95205479]\n",
      "0.9462 (+/-0.004056390501587962) for {'logit__C': 0.1, 'union__vec__vec__max_features': 3500, 'union__vec__vec__ngram_range': (5, 5), 'union__vec__vec__use_idf': 1}: [0.93515358 0.95333333 0.9375     0.95238095 0.9527027 ]\n",
      "0.9475 (+/-0.003014201030175864) for {'logit__C': 0.1, 'union__vec__vec__max_features': 3500, 'union__vec__vec__ngram_range': (3, 5), 'union__vec__vec__use_idf': 0}: [0.95364238 0.94630872 0.95172414 0.93645485 0.94915254]\n",
      "0.9427 (+/-0.0023187176450069212) for {'logit__C': 0.1, 'union__vec__vec__max_features': 3500, 'union__vec__vec__ngram_range': (3, 5), 'union__vec__vec__use_idf': 1}: [0.93959732 0.94880546 0.94405594 0.93559322 0.94557823]\n",
      "0.9502 (+/-0.00372896802820964) for {'logit__C': 0.1, 'union__vec__vec__max_features': 3500, 'union__vec__vec__ngram_range': (3, 4), 'union__vec__vec__use_idf': 0}: [0.95333333 0.94949495 0.95862069 0.93645485 0.95302013]\n",
      "0.9488 (+/-0.004864047156780614) for {'logit__C': 0.1, 'union__vec__vec__max_features': 3500, 'union__vec__vec__ngram_range': (3, 4), 'union__vec__vec__use_idf': 1}: [0.95945946 0.94915254 0.94035088 0.93559322 0.95945946]\n",
      "0.9547 (+/-0.002667240376431037) for {'logit__C': 0.1, 'union__vec__vec__max_features': 4000, 'union__vec__vec__ngram_range': (3, 3), 'union__vec__vec__use_idf': 0}: [0.9527027  0.95973154 0.96167247 0.94701987 0.95238095]\n",
      "0.9501 (+/-0.0046957395644171085) for {'logit__C': 0.1, 'union__vec__vec__max_features': 4000, 'union__vec__vec__ngram_range': (3, 3), 'union__vec__vec__use_idf': 1}: [0.95238095 0.94557823 0.93706294 0.94949495 0.96575342]\n",
      "0.9543 (+/-0.002824937330661903) for {'logit__C': 0.1, 'union__vec__vec__max_features': 4000, 'union__vec__vec__ngram_range': (4, 4), 'union__vec__vec__use_idf': 0}: [0.94915254 0.94915254 0.95104895 0.95973154 0.96245734]\n",
      "0.9533 (+/-0.004307515866621379) for {'logit__C': 0.1, 'union__vec__vec__max_features': 4000, 'union__vec__vec__ngram_range': (4, 4), 'union__vec__vec__use_idf': 1}: [0.95302013 0.95973154 0.93793103 0.95302013 0.96296296]\n",
      "0.9486 (+/-0.003948584092290525) for {'logit__C': 0.1, 'union__vec__vec__max_features': 4000, 'union__vec__vec__ngram_range': (5, 5), 'union__vec__vec__use_idf': 0}: [0.94197952 0.9527027  0.93661972 0.95622896 0.9556314 ]\n",
      "0.9489 (+/-0.0026273417698293965) for {'logit__C': 0.1, 'union__vec__vec__max_features': 4000, 'union__vec__vec__ngram_range': (5, 5), 'union__vec__vec__use_idf': 1}: [0.94197952 0.94983278 0.94405594 0.95238095 0.95622896]\n",
      "0.9481 (+/-0.0032922191067513) for {'logit__C': 0.1, 'union__vec__vec__max_features': 4000, 'union__vec__vec__ngram_range': (3, 5), 'union__vec__vec__use_idf': 0}: [0.94666667 0.95622896 0.9550173  0.93959732 0.94276094]\n",
      "0.9495 (+/-0.004025181092464201) for {'logit__C': 0.1, 'union__vec__vec__max_features': 4000, 'union__vec__vec__ngram_range': (3, 5), 'union__vec__vec__use_idf': 1}: [0.94630872 0.96       0.93661972 0.94915254 0.9556314 ]\n",
      "0.9493 (+/-0.0030505609847480113) for {'logit__C': 0.1, 'union__vec__vec__max_features': 4000, 'union__vec__vec__ngram_range': (3, 4), 'union__vec__vec__use_idf': 0}: [0.94594595 0.95622896 0.9550173  0.93959732 0.94949495]\n",
      "0.9483 (+/-0.004948386257488174) for {'logit__C': 0.1, 'union__vec__vec__max_features': 4000, 'union__vec__vec__ngram_range': (3, 4), 'union__vec__vec__use_idf': 1}: [0.9559322  0.95652174 0.93379791 0.93877551 0.95622896]\n",
      "0.9484 (+/-0.004148067327539653) for {'logit__C': 0.5, 'union__vec__vec__max_features': 2000, 'union__vec__vec__ngram_range': (3, 3), 'union__vec__vec__use_idf': 0}: [0.95333333 0.95622896 0.94699647 0.93288591 0.95238095]\n",
      "0.9439 (+/-0.004069108613514167) for {'logit__C': 0.5, 'union__vec__vec__max_features': 2000, 'union__vec__vec__ngram_range': (3, 3), 'union__vec__vec__use_idf': 1}: [0.94915254 0.94949495 0.93706294 0.93150685 0.95238095]\n",
      "0.9463 (+/-0.002317884277073261) for {'logit__C': 0.5, 'union__vec__vec__max_features': 2000, 'union__vec__vec__ngram_range': (4, 4), 'union__vec__vec__use_idf': 0}: [0.94594595 0.93835616 0.94809689 0.94630872 0.9527027 ]\n",
      "0.9462 (+/-0.0030571290530626563) for {'logit__C': 0.5, 'union__vec__vec__max_features': 2000, 'union__vec__vec__ngram_range': (4, 4), 'union__vec__vec__use_idf': 1}: [0.94880546 0.94314381 0.9375     0.94557823 0.9559322 ]\n",
      "0.9443 (+/-0.004180688711753122) for {'logit__C': 0.5, 'union__vec__vec__max_features': 2000, 'union__vec__vec__ngram_range': (5, 5), 'union__vec__vec__use_idf': 0}: [0.94594595 0.94276094 0.9375     0.95945946 0.93602694]\n",
      "0.9439 (+/-0.007999996371335295) for {'logit__C': 0.5, 'union__vec__vec__max_features': 2000, 'union__vec__vec__ngram_range': (5, 5), 'union__vec__vec__use_idf': 1}: [0.91582492 0.94352159 0.94117647 0.95918367 0.95973154]\n",
      "0.9398 (+/-0.003311549785335345) for {'logit__C': 0.5, 'union__vec__vec__max_features': 2000, 'union__vec__vec__ngram_range': (3, 5), 'union__vec__vec__use_idf': 0}: [0.94352159 0.92881356 0.94809689 0.93645485 0.94197952]\n",
      "0.9354 (+/-0.007631781330938405) for {'logit__C': 0.5, 'union__vec__vec__max_features': 2000, 'union__vec__vec__ngram_range': (3, 5), 'union__vec__vec__use_idf': 1}: [0.93559322 0.93197279 0.93150685 0.91525424 0.96245734]\n",
      "0.9447 (+/-0.0038024798262403267) for {'logit__C': 0.5, 'union__vec__vec__max_features': 2000, 'union__vec__vec__ngram_range': (3, 4), 'union__vec__vec__use_idf': 0}: [0.94352159 0.94276094 0.94809689 0.93288591 0.95622896]\n",
      "0.9362 (+/-0.003208059123625595) for {'logit__C': 0.5, 'union__vec__vec__max_features': 2000, 'union__vec__vec__ngram_range': (3, 4), 'union__vec__vec__use_idf': 1}: [0.92976589 0.94197952 0.9347079  0.92929293 0.94520548]\n",
      "0.9492 (+/-0.004814114194803119) for {'logit__C': 0.5, 'union__vec__vec__max_features': 2500, 'union__vec__vec__ngram_range': (3, 3), 'union__vec__vec__use_idf': 0}: [0.94352159 0.95622896 0.95804196 0.93288591 0.95532646]\n",
      "0.9500 (+/-0.00515208178219142) for {'logit__C': 0.5, 'union__vec__vec__max_features': 2500, 'union__vec__vec__ngram_range': (3, 3), 'union__vec__vec__use_idf': 1}: [0.94915254 0.95945946 0.93379791 0.94520548 0.96245734]\n",
      "0.9464 (+/-0.0035698281450881955) for {'logit__C': 0.5, 'union__vec__vec__max_features': 2500, 'union__vec__vec__ngram_range': (4, 4), 'union__vec__vec__use_idf': 0}: [0.93288591 0.94557823 0.95104895 0.95016611 0.95238095]\n",
      "0.9484 (+/-0.005357079309798159) for {'logit__C': 0.5, 'union__vec__vec__max_features': 2500, 'union__vec__vec__ngram_range': (4, 4), 'union__vec__vec__use_idf': 1}: [0.93197279 0.95302013 0.94117647 0.9527027  0.96296296]\n",
      "0.9480 (+/-0.004900494681347181) for {'logit__C': 0.5, 'union__vec__vec__max_features': 2500, 'union__vec__vec__ngram_range': (5, 5), 'union__vec__vec__use_idf': 0}: [0.94594595 0.94880546 0.94035088 0.96621622 0.93877551]\n",
      "0.9435 (+/-0.0064594107743159695) for {'logit__C': 0.5, 'union__vec__vec__max_features': 2500, 'union__vec__vec__ngram_range': (5, 5), 'union__vec__vec__use_idf': 1}: [0.92150171 0.93959732 0.94482759 0.95945946 0.95238095]\n",
      "0.9420 (+/-0.004357871709646787) for {'logit__C': 0.5, 'union__vec__vec__max_features': 2500, 'union__vec__vec__ngram_range': (3, 5), 'union__vec__vec__use_idf': 0}: [0.93023256 0.93918919 0.95138889 0.93645485 0.9527027 ]\n",
      "0.9395 (+/-0.004421169341911908) for {'logit__C': 0.5, 'union__vec__vec__max_features': 2500, 'union__vec__vec__ngram_range': (3, 5), 'union__vec__vec__use_idf': 1}: [0.92976589 0.94197952 0.93425606 0.93602694 0.95532646]\n",
      "0.9459 (+/-0.005316499876003364) for {'logit__C': 0.5, 'union__vec__vec__max_features': 2500, 'union__vec__vec__ngram_range': (3, 4), 'union__vec__vec__use_idf': 0}: [0.95016611 0.94594595 0.95804196 0.9261745  0.94915254]\n",
      "0.9440 (+/-0.005348568105696068) for {'logit__C': 0.5, 'union__vec__vec__max_features': 2500, 'union__vec__vec__ngram_range': (3, 4), 'union__vec__vec__use_idf': 1}: [0.94314381 0.9556314  0.93706294 0.92832765 0.9559322 ]\n",
      "0.9526 (+/-0.004027959704032968) for {'logit__C': 0.5, 'union__vec__vec__max_features': 3000, 'union__vec__vec__ngram_range': (3, 3), 'union__vec__vec__use_idf': 0}: [0.94666667 0.95973154 0.95804196 0.93959732 0.95890411]\n",
      "0.9498 (+/-0.006067634591643463) for {'logit__C': 0.5, 'union__vec__vec__max_features': 3000, 'union__vec__vec__ngram_range': (3, 3), 'union__vec__vec__use_idf': 1}: [0.95238095 0.9559322  0.92957746 0.94520548 0.96598639]\n",
      "0.9483 (+/-0.005547851970412857) for {'logit__C': 0.5, 'union__vec__vec__max_features': 3000, 'union__vec__vec__ngram_range': (4, 4), 'union__vec__vec__use_idf': 0}: [0.93243243 0.94197952 0.95104895 0.95016611 0.96598639]\n",
      "0.9449 (+/-0.004307444803950929) for {'logit__C': 0.5, 'union__vec__vec__max_features': 3000, 'union__vec__vec__ngram_range': (4, 4), 'union__vec__vec__use_idf': 1}: [0.93559322 0.93877551 0.94117647 0.94949495 0.95945946]\n",
      "0.9536 (+/-0.004055048700167168) for {'logit__C': 0.5, 'union__vec__vec__max_features': 3000, 'union__vec__vec__ngram_range': (5, 5), 'union__vec__vec__use_idf': 0}: [0.94594595 0.95622896 0.94366197 0.96621622 0.9559322 ]\n",
      "0.9476 (+/-0.005468174938338725) for {'logit__C': 0.5, 'union__vec__vec__max_features': 3000, 'union__vec__vec__ngram_range': (5, 5), 'union__vec__vec__use_idf': 1}: [0.93197279 0.94630872 0.94076655 0.9559322  0.96296296]\n",
      "0.9474 (+/-0.00412283744740149) for {'logit__C': 0.5, 'union__vec__vec__max_features': 3000, 'union__vec__vec__ngram_range': (3, 5), 'union__vec__vec__use_idf': 0}: [0.94352159 0.9527027  0.9550173  0.93288591 0.9527027 ]\n",
      "0.9419 (+/-0.00621566448302553) for {'logit__C': 0.5, 'union__vec__vec__max_features': 3000, 'union__vec__vec__ngram_range': (3, 5), 'union__vec__vec__use_idf': 1}: [0.93687708 0.95238095 0.93706294 0.92413793 0.95918367]\n",
      "0.9498 (+/-0.006068560889814355) for {'logit__C': 0.5, 'union__vec__vec__max_features': 3000, 'union__vec__vec__ngram_range': (3, 4), 'union__vec__vec__use_idf': 0}: [0.95364238 0.95622896 0.95804196 0.92567568 0.95532646]\n",
      "0.9460 (+/-0.005079640401634036) for {'logit__C': 0.5, 'union__vec__vec__max_features': 3000, 'union__vec__vec__ngram_range': (3, 4), 'union__vec__vec__use_idf': 1}: [0.94983278 0.9527027  0.93706294 0.93150685 0.95890411]\n",
      "0.9554 (+/-0.0043933493099047255) for {'logit__C': 0.5, 'union__vec__vec__max_features': 3500, 'union__vec__vec__ngram_range': (3, 3), 'union__vec__vec__use_idf': 0}: [0.95302013 0.95973154 0.96527778 0.93959732 0.95918367]\n",
      "0.9505 (+/-0.005408813474353321) for {'logit__C': 0.5, 'union__vec__vec__max_features': 3500, 'union__vec__vec__ngram_range': (3, 3), 'union__vec__vec__use_idf': 1}: [0.94915254 0.9559322  0.93286219 0.94880546 0.96598639]\n",
      "0.9502 (+/-0.005031541369266843) for {'logit__C': 0.5, 'union__vec__vec__max_features': 3500, 'union__vec__vec__ngram_range': (4, 4), 'union__vec__vec__use_idf': 0}: [0.93877551 0.94197952 0.94736842 0.95681063 0.96621622]\n",
      "0.9524 (+/-0.005052173133540276) for {'logit__C': 0.5, 'union__vec__vec__max_features': 3500, 'union__vec__vec__ngram_range': (4, 4), 'union__vec__vec__use_idf': 1}: [0.94557823 0.9632107  0.94444444 0.94276094 0.96621622]\n",
      "0.9542 (+/-0.004343939185634781) for {'logit__C': 0.5, 'union__vec__vec__max_features': 3500, 'union__vec__vec__ngram_range': (5, 5), 'union__vec__vec__use_idf': 0}: [0.94197952 0.95622896 0.94699647 0.96621622 0.95945946]\n",
      "0.9436 (+/-0.005294890960484115) for {'logit__C': 0.5, 'union__vec__vec__max_features': 3500, 'union__vec__vec__ngram_range': (5, 5), 'union__vec__vec__use_idf': 1}: [0.92881356 0.94666667 0.93379791 0.95238095 0.95622896]\n",
      "0.9500 (+/-0.005406986697772771) for {'logit__C': 0.5, 'union__vec__vec__max_features': 3500, 'union__vec__vec__ngram_range': (3, 5), 'union__vec__vec__use_idf': 0}: [0.95016611 0.9527027  0.96167247 0.92976589 0.9556314 ]\n",
      "0.9487 (+/-0.003374118436491845) for {'logit__C': 0.5, 'union__vec__vec__max_features': 3500, 'union__vec__vec__ngram_range': (3, 5), 'union__vec__vec__use_idf': 1}: [0.94983278 0.95238095 0.94405594 0.93877551 0.95833333]\n",
      "0.9505 (+/-0.004854177627971942) for {'logit__C': 0.5, 'union__vec__vec__max_features': 3500, 'union__vec__vec__ngram_range': (3, 4), 'union__vec__vec__use_idf': 0}: [0.95333333 0.94949495 0.95438596 0.93288591 0.96219931]\n",
      "0.9487 (+/-0.004652507245326775) for {'logit__C': 0.5, 'union__vec__vec__max_features': 3500, 'union__vec__vec__ngram_range': (3, 4), 'union__vec__vec__use_idf': 1}: [0.9559322  0.94594595 0.94035088 0.93835616 0.96271186]\n",
      "0.9554 (+/-0.003378519903501392) for {'logit__C': 0.5, 'union__vec__vec__max_features': 4000, 'union__vec__vec__ngram_range': (3, 3), 'union__vec__vec__use_idf': 0}: [0.95302013 0.95973154 0.96167247 0.94314381 0.95918367]\n",
      "0.9504 (+/-0.00491263901020008) for {'logit__C': 0.5, 'union__vec__vec__max_features': 4000, 'union__vec__vec__ngram_range': (3, 3), 'union__vec__vec__use_idf': 1}: [0.9559322  0.94880546 0.93286219 0.95205479 0.96219931]\n",
      "0.9530 (+/-0.0037170471359850433) for {'logit__C': 0.5, 'union__vec__vec__max_features': 4000, 'union__vec__vec__ngram_range': (4, 4), 'union__vec__vec__use_idf': 0}: [0.94237288 0.94915254 0.95070423 0.96       0.96271186]\n",
      "0.9572 (+/-0.004442670349412687) for {'logit__C': 0.5, 'union__vec__vec__max_features': 4000, 'union__vec__vec__ngram_range': (4, 4), 'union__vec__vec__use_idf': 1}: [0.95622896 0.96644295 0.94076655 0.95945946 0.96296296]\n",
      "0.9562 (+/-0.0053358122401359325) for {'logit__C': 0.5, 'union__vec__vec__max_features': 4000, 'union__vec__vec__ngram_range': (5, 5), 'union__vec__vec__use_idf': 0}: [0.94197952 0.95622896 0.94699647 0.96969697 0.96621622]\n",
      "0.9476 (+/-0.002871964848354881) for {'logit__C': 0.5, 'union__vec__vec__max_features': 4000, 'union__vec__vec__ngram_range': (5, 5), 'union__vec__vec__use_idf': 1}: [0.94520548 0.94983278 0.9375     0.95238095 0.95302013]\n",
      "0.9519 (+/-0.006171237225496095) for {'logit__C': 0.5, 'union__vec__vec__max_features': 4000, 'union__vec__vec__ngram_range': (3, 5), 'union__vec__vec__use_idf': 0}: [0.95016611 0.95622896 0.96167247 0.92881356 0.96245734]\n",
      "0.9501 (+/-0.004148498319384792) for {'logit__C': 0.5, 'union__vec__vec__max_features': 4000, 'union__vec__vec__ngram_range': (3, 5), 'union__vec__vec__use_idf': 1}: [0.94949495 0.95302013 0.93661972 0.94915254 0.96245734]\n",
      "0.9517 (+/-0.00473085949521768) for {'logit__C': 0.5, 'union__vec__vec__max_features': 4000, 'union__vec__vec__ngram_range': (3, 4), 'union__vec__vec__use_idf': 0}: [0.95302013 0.95302013 0.95070423 0.93602694 0.96575342]\n",
      "0.9474 (+/-0.005169121452414386) for {'logit__C': 0.5, 'union__vec__vec__max_features': 4000, 'union__vec__vec__ngram_range': (3, 4), 'union__vec__vec__use_idf': 1}: [0.94557823 0.94949495 0.93706294 0.93877551 0.96598639]\n",
      "0.9475 (+/-0.005692230999285515) for {'logit__C': 1, 'union__vec__vec__max_features': 2000, 'union__vec__vec__ngram_range': (3, 3), 'union__vec__vec__use_idf': 0}: [0.95333333 0.95622896 0.94699647 0.92567568 0.95532646]\n",
      "0.9452 (+/-0.004077943644084722) for {'logit__C': 1, 'union__vec__vec__max_features': 2000, 'union__vec__vec__ngram_range': (3, 3), 'union__vec__vec__use_idf': 1}: [0.95238095 0.94949495 0.94035088 0.93150685 0.95238095]\n",
      "0.9463 (+/-0.0024509036160579667) for {'logit__C': 1, 'union__vec__vec__max_features': 2000, 'union__vec__vec__ngram_range': (4, 4), 'union__vec__vec__use_idf': 0}: [0.94594595 0.93835616 0.94444444 0.94983278 0.9527027 ]\n",
      "0.9455 (+/-0.003027738310169311) for {'logit__C': 1, 'union__vec__vec__max_features': 2000, 'union__vec__vec__ngram_range': (4, 4), 'union__vec__vec__use_idf': 1}: [0.94520548 0.94630872 0.9375     0.94237288 0.9559322 ]\n",
      "0.9450 (+/-0.003918954669351963) for {'logit__C': 1, 'union__vec__vec__max_features': 2000, 'union__vec__vec__ngram_range': (5, 5), 'union__vec__vec__use_idf': 0}: [0.94276094 0.94594595 0.93706294 0.95945946 0.93959732]\n",
      "0.9430 (+/-0.010284127837429626) for {'logit__C': 1, 'union__vec__vec__max_features': 2000, 'union__vec__vec__ngram_range': (5, 5), 'union__vec__vec__use_idf': 1}: [0.9047619  0.94352159 0.94482759 0.96245734 0.95945946]\n",
      "0.9398 (+/-0.004259902882993168) for {'logit__C': 1, 'union__vec__vec__max_features': 2000, 'union__vec__vec__ngram_range': (3, 5), 'union__vec__vec__use_idf': 0}: [0.93687708 0.92881356 0.9550173  0.94       0.93835616]\n",
      "0.9354 (+/-0.007574635682838346) for {'logit__C': 1, 'union__vec__vec__max_features': 2000, 'union__vec__vec__ngram_range': (3, 5), 'union__vec__vec__use_idf': 1}: [0.93602694 0.93877551 0.93150685 0.91156463 0.95890411]\n",
      "0.9473 (+/-0.004800601128318843) for {'logit__C': 1, 'union__vec__vec__max_features': 2000, 'union__vec__vec__ngram_range': (3, 4), 'union__vec__vec__use_idf': 0}: [0.94352159 0.93918919 0.95804196 0.93645485 0.95945946]\n",
      "0.9369 (+/-0.003749062520993284) for {'logit__C': 1, 'union__vec__vec__max_features': 2000, 'union__vec__vec__ngram_range': (3, 4), 'union__vec__vec__use_idf': 1}: [0.92976589 0.94197952 0.9347079  0.92929293 0.94880546]\n",
      "0.9484 (+/-0.0038174733520513885) for {'logit__C': 1, 'union__vec__vec__max_features': 2500, 'union__vec__vec__ngram_range': (3, 3), 'union__vec__vec__use_idf': 0}: [0.94352159 0.95622896 0.95070423 0.93602694 0.95532646]\n",
      "0.9478 (+/-0.005638380087137158) for {'logit__C': 1, 'union__vec__vec__max_features': 2500, 'union__vec__vec__ngram_range': (3, 3), 'union__vec__vec__use_idf': 1}: [0.94915254 0.9559322  0.93006993 0.94158076 0.96245734]\n",
      "0.9456 (+/-0.004418859731590067) for {'logit__C': 1, 'union__vec__vec__max_features': 2500, 'union__vec__vec__ngram_range': (4, 4), 'union__vec__vec__use_idf': 0}: [0.92929293 0.94557823 0.94736842 0.95016611 0.9556314 ]\n",
      "0.9490 (+/-0.004887569078996682) for {'logit__C': 1, 'union__vec__vec__max_features': 2500, 'union__vec__vec__ngram_range': (4, 4), 'union__vec__vec__use_idf': 1}: [0.93515358 0.95302013 0.94117647 0.9527027  0.96296296]\n",
      "0.9508 (+/-0.004233468890913608) for {'logit__C': 1, 'union__vec__vec__max_features': 2500, 'union__vec__vec__ngram_range': (5, 5), 'union__vec__vec__use_idf': 0}: [0.94276094 0.95238095 0.94366197 0.96621622 0.94915254]\n",
      "0.9408 (+/-0.005590231755239997) for {'logit__C': 1, 'union__vec__vec__max_features': 2500, 'union__vec__vec__ngram_range': (5, 5), 'union__vec__vec__use_idf': 1}: [0.92150171 0.94       0.94117647 0.9559322  0.94557823]\n",
      "0.9440 (+/-0.006212233395093701) for {'logit__C': 1, 'union__vec__vec__max_features': 2500, 'union__vec__vec__ngram_range': (3, 5), 'union__vec__vec__use_idf': 0}: [0.93023256 0.93559322 0.96167247 0.93645485 0.9559322 ]\n",
      "0.9395 (+/-0.00424888372435666) for {'logit__C': 1, 'union__vec__vec__max_features': 2500, 'union__vec__vec__ngram_range': (3, 5), 'union__vec__vec__use_idf': 1}: [0.92976589 0.93835616 0.93793103 0.93602694 0.95532646]\n",
      "0.9450 (+/-0.00695143488113028) for {'logit__C': 1, 'union__vec__vec__max_features': 2500, 'union__vec__vec__ngram_range': (3, 4), 'union__vec__vec__use_idf': 0}: [0.94666667 0.94557823 0.95804196 0.91891892 0.9556314 ]\n",
      "0.9440 (+/-0.005315304707044331) for {'logit__C': 1, 'union__vec__vec__max_features': 2500, 'union__vec__vec__ngram_range': (3, 4), 'union__vec__vec__use_idf': 1}: [0.94314381 0.9556314  0.93706294 0.92832765 0.9556314 ]\n",
      "0.9512 (+/-0.00483798760592969) for {'logit__C': 1, 'union__vec__vec__max_features': 3000, 'union__vec__vec__ngram_range': (3, 3), 'union__vec__vec__use_idf': 0}: [0.94352159 0.95973154 0.95804196 0.93602694 0.95890411]\n",
      "0.9512 (+/-0.005634113321013576) for {'logit__C': 1, 'union__vec__vec__max_features': 3000, 'union__vec__vec__ngram_range': (3, 3), 'union__vec__vec__use_idf': 1}: [0.94915254 0.95945946 0.93286219 0.94845361 0.96598639]\n",
      "0.9475 (+/-0.006611514953300182) for {'logit__C': 1, 'union__vec__vec__max_features': 3000, 'union__vec__vec__ngram_range': (4, 4), 'union__vec__vec__use_idf': 0}: [0.92881356 0.94197952 0.95070423 0.94666667 0.96949153]\n",
      "0.9427 (+/-0.004011781173573883) for {'logit__C': 1, 'union__vec__vec__max_features': 3000, 'union__vec__vec__ngram_range': (4, 4), 'union__vec__vec__use_idf': 1}: [0.93197279 0.93835616 0.94117647 0.94594595 0.9559322 ]\n",
      "0.9556 (+/-0.00348987810866111) for {'logit__C': 1, 'union__vec__vec__max_features': 3000, 'union__vec__vec__ngram_range': (5, 5), 'union__vec__vec__use_idf': 0}: [0.94915254 0.95945946 0.94699647 0.96621622 0.95622896]\n",
      "0.9468 (+/-0.0053431098749263176) for {'logit__C': 1, 'union__vec__vec__max_features': 3000, 'union__vec__vec__ngram_range': (5, 5), 'union__vec__vec__use_idf': 1}: [0.93150685 0.94630872 0.94076655 0.95238095 0.9632107 ]\n",
      "0.9479 (+/-0.005102229446861471) for {'logit__C': 1, 'union__vec__vec__max_features': 3000, 'union__vec__vec__ngram_range': (3, 5), 'union__vec__vec__use_idf': 0}: [0.94       0.9527027  0.96167247 0.93288591 0.95238095]\n",
      "0.9439 (+/-0.007114173341284311) for {'logit__C': 1, 'union__vec__vec__max_features': 3000, 'union__vec__vec__ngram_range': (3, 5), 'union__vec__vec__use_idf': 1}: [0.94       0.95238095 0.93706294 0.92413793 0.96598639]\n",
      "0.9498 (+/-0.006068560889814355) for {'logit__C': 1, 'union__vec__vec__max_features': 3000, 'union__vec__vec__ngram_range': (3, 4), 'union__vec__vec__use_idf': 0}: [0.95364238 0.95622896 0.95804196 0.92567568 0.95532646]\n",
      "0.9472 (+/-0.005295416561688901) for {'logit__C': 1, 'union__vec__vec__max_features': 3000, 'union__vec__vec__ngram_range': (3, 4), 'union__vec__vec__use_idf': 1}: [0.94630872 0.9559322  0.93706294 0.9347079  0.96219931]\n",
      "0.9525 (+/-0.003702068568088181) for {'logit__C': 1, 'union__vec__vec__max_features': 3500, 'union__vec__vec__ngram_range': (3, 3), 'union__vec__vec__use_idf': 0}: [0.94983278 0.95973154 0.95438596 0.93959732 0.95918367]\n",
      "0.9512 (+/-0.00589745507962672) for {'logit__C': 1, 'union__vec__vec__max_features': 3500, 'union__vec__vec__ngram_range': (3, 3), 'union__vec__vec__use_idf': 1}: [0.94915254 0.9559322  0.93286219 0.94880546 0.96928328]\n",
      "0.9523 (+/-0.0055216271415684925) for {'logit__C': 1, 'union__vec__vec__max_features': 3500, 'union__vec__vec__ngram_range': (4, 4), 'union__vec__vec__use_idf': 0}: [0.93559322 0.94880546 0.95070423 0.95681063 0.96949153]\n",
      "0.9517 (+/-0.003930607965254856) for {'logit__C': 1, 'union__vec__vec__max_features': 3500, 'union__vec__vec__ngram_range': (4, 4), 'union__vec__vec__use_idf': 1}: [0.94557823 0.95973154 0.94444444 0.94594595 0.96271186]\n",
      "0.9542 (+/-0.0039971695897631524) for {'logit__C': 1, 'union__vec__vec__max_features': 3500, 'union__vec__vec__ngram_range': (5, 5), 'union__vec__vec__use_idf': 0}: [0.94237288 0.95945946 0.94699647 0.95945946 0.96271186]\n",
      "0.9435 (+/-0.005850626222859467) for {'logit__C': 1, 'union__vec__vec__max_features': 3500, 'union__vec__vec__ngram_range': (5, 5), 'union__vec__vec__use_idf': 1}: [0.92881356 0.94983278 0.93006993 0.95238095 0.95652174]\n",
      "0.9485 (+/-0.004214719544803699) for {'logit__C': 1, 'union__vec__vec__max_features': 3500, 'union__vec__vec__ngram_range': (3, 5), 'union__vec__vec__use_idf': 0}: [0.95016611 0.9527027  0.95804196 0.93288591 0.94845361]\n",
      "0.9487 (+/-0.0024117986997264163) for {'logit__C': 1, 'union__vec__vec__max_features': 3500, 'union__vec__vec__ngram_range': (3, 5), 'union__vec__vec__use_idf': 1}: [0.94983278 0.95238095 0.94405594 0.94237288 0.9550173 ]\n",
      "0.9497 (+/-0.0047602280800438015) for {'logit__C': 1, 'union__vec__vec__max_features': 3500, 'union__vec__vec__ngram_range': (3, 4), 'union__vec__vec__use_idf': 0}: [0.95333333 0.94949495 0.95070423 0.93288591 0.96219931]\n",
      "0.9493 (+/-0.004602935513177286) for {'logit__C': 1, 'union__vec__vec__max_features': 3500, 'union__vec__vec__ngram_range': (3, 4), 'union__vec__vec__use_idf': 1}: [0.9559322  0.94915254 0.94035088 0.93835616 0.96271186]\n",
      "0.9532 (+/-0.002748972655353355) for {'logit__C': 1, 'union__vec__vec__max_features': 4000, 'union__vec__vec__ngram_range': (3, 3), 'union__vec__vec__use_idf': 0}: [0.95302013 0.95973154 0.95438596 0.94314381 0.9556314 ]\n",
      "0.9497 (+/-0.004546495231622281) for {'logit__C': 1, 'union__vec__vec__max_features': 4000, 'union__vec__vec__ngram_range': (3, 3), 'union__vec__vec__use_idf': 1}: [0.9559322  0.94880546 0.93286219 0.95205479 0.95890411]\n",
      "0.9536 (+/-0.00463554103844789) for {'logit__C': 1, 'union__vec__vec__max_features': 4000, 'union__vec__vec__ngram_range': (4, 4), 'union__vec__vec__use_idf': 0}: [0.93877551 0.95238095 0.95070423 0.96       0.96621622]\n",
      "0.9558 (+/-0.004333865976547715) for {'logit__C': 1, 'union__vec__vec__max_features': 4000, 'union__vec__vec__ngram_range': (4, 4), 'union__vec__vec__use_idf': 1}: [0.9527027  0.96644295 0.94076655 0.95945946 0.95945946]\n",
      "0.9549 (+/-0.005487051700104594) for {'logit__C': 1, 'union__vec__vec__max_features': 4000, 'union__vec__vec__ngram_range': (5, 5), 'union__vec__vec__use_idf': 0}: [0.93877551 0.95622896 0.94699647 0.96296296 0.96949153]\n",
      "0.9474 (+/-0.006009045921382749) for {'logit__C': 1, 'union__vec__vec__max_features': 4000, 'union__vec__vec__ngram_range': (5, 5), 'union__vec__vec__use_idf': 1}: [0.94158076 0.94666667 0.93006993 0.95238095 0.96644295]\n",
      "0.9505 (+/-0.0057614272447909926) for {'logit__C': 1, 'union__vec__vec__max_features': 4000, 'union__vec__vec__ngram_range': (3, 5), 'union__vec__vec__use_idf': 0}: [0.95016611 0.95622896 0.95470383 0.92881356 0.96245734]\n",
      "0.9514 (+/-0.004786205673396104) for {'logit__C': 1, 'union__vec__vec__max_features': 4000, 'union__vec__vec__ngram_range': (3, 5), 'union__vec__vec__use_idf': 1}: [0.94949495 0.95622896 0.93661972 0.94880546 0.96575342]\n",
      "0.9522 (+/-0.005276615327918778) for {'logit__C': 1, 'union__vec__vec__max_features': 4000, 'union__vec__vec__ngram_range': (3, 4), 'union__vec__vec__use_idf': 0}: [0.95302013 0.95302013 0.95070423 0.93559322 0.96885813]\n",
      "0.9473 (+/-0.005516332310625668) for {'logit__C': 1, 'union__vec__vec__max_features': 4000, 'union__vec__vec__ngram_range': (3, 4), 'union__vec__vec__use_idf': 1}: [0.94880546 0.94949495 0.93706294 0.93515358 0.96598639]\n",
      "0.9489 (+/-0.006609450329129298) for {'logit__C': 5, 'union__vec__vec__max_features': 2000, 'union__vec__vec__ngram_range': (3, 3), 'union__vec__vec__use_idf': 0}: [0.94983278 0.95622896 0.94699647 0.92567568 0.96551724]\n",
      "0.9478 (+/-0.005161683706070382) for {'logit__C': 5, 'union__vec__vec__max_features': 2000, 'union__vec__vec__ngram_range': (3, 3), 'union__vec__vec__use_idf': 1}: [0.9556314  0.95238095 0.94035088 0.93150685 0.95918367]\n",
      "0.9469 (+/-0.002190195693850987) for {'logit__C': 5, 'union__vec__vec__max_features': 2000, 'union__vec__vec__ngram_range': (4, 4), 'union__vec__vec__use_idf': 0}: [0.94237288 0.94197952 0.95104895 0.94630872 0.9527027 ]\n",
      "0.9445 (+/-0.004212613478255829) for {'logit__C': 5, 'union__vec__vec__max_features': 2000, 'union__vec__vec__ngram_range': (4, 4), 'union__vec__vec__use_idf': 1}: [0.93425606 0.95302013 0.94076655 0.93877551 0.9559322 ]\n",
      "0.9499 (+/-0.004502121464524643) for {'logit__C': 5, 'union__vec__vec__max_features': 2000, 'union__vec__vec__ngram_range': (5, 5), 'union__vec__vec__use_idf': 0}: [0.93645485 0.94630872 0.94773519 0.96296296 0.9559322 ]\n",
      "0.9424 (+/-0.007857145320857194) for {'logit__C': 5, 'union__vec__vec__max_features': 2000, 'union__vec__vec__ngram_range': (5, 5), 'union__vec__vec__use_idf': 1}: [0.91156463 0.95333333 0.94520548 0.9527027  0.94949495]\n",
      "0.9404 (+/-0.0040039470055107705) for {'logit__C': 5, 'union__vec__vec__max_features': 2000, 'union__vec__vec__ngram_range': (3, 5), 'union__vec__vec__use_idf': 0}: [0.94352159 0.93197279 0.95104895 0.93023256 0.94520548]\n",
      "0.9324 (+/-0.008135900138103076) for {'logit__C': 5, 'union__vec__vec__max_features': 2000, 'union__vec__vec__ngram_range': (3, 5), 'union__vec__vec__use_idf': 1}: [0.93602694 0.94237288 0.91349481 0.91467577 0.9556314 ]\n",
      "0.9472 (+/-0.004900281720745601) for {'logit__C': 5, 'union__vec__vec__max_features': 2000, 'union__vec__vec__ngram_range': (3, 4), 'union__vec__vec__use_idf': 0}: [0.93645485 0.94197952 0.96167247 0.94       0.9559322 ]\n",
      "0.9375 (+/-0.004298833068255763) for {'logit__C': 5, 'union__vec__vec__max_features': 2000, 'union__vec__vec__ngram_range': (3, 4), 'union__vec__vec__use_idf': 1}: [0.92976589 0.94197952 0.93425606 0.92929293 0.95205479]\n",
      "0.9462 (+/-0.005881860883557431) for {'logit__C': 5, 'union__vec__vec__max_features': 2500, 'union__vec__vec__ngram_range': (3, 3), 'union__vec__vec__use_idf': 0}: [0.94352159 0.95622896 0.94035088 0.92881356 0.96193772]\n",
      "0.9471 (+/-0.005825033627444106) for {'logit__C': 5, 'union__vec__vec__max_features': 2500, 'union__vec__vec__ngram_range': (3, 3), 'union__vec__vec__use_idf': 1}: [0.9527027  0.95238095 0.92957746 0.93835616 0.96245734]\n",
      "0.9481 (+/-0.0036231371021558873) for {'logit__C': 5, 'union__vec__vec__max_features': 2500, 'union__vec__vec__ngram_range': (4, 4), 'union__vec__vec__use_idf': 0}: [0.93918919 0.94520548 0.95438596 0.94314381 0.95862069]\n",
      "0.9475 (+/-0.004223330029431835) for {'logit__C': 5, 'union__vec__vec__max_features': 2500, 'union__vec__vec__ngram_range': (4, 4), 'union__vec__vec__use_idf': 1}: [0.93515358 0.94949495 0.94117647 0.95238095 0.95918367]\n",
      "0.9481 (+/-0.005454086968319459) for {'logit__C': 5, 'union__vec__vec__max_features': 2500, 'union__vec__vec__ngram_range': (5, 5), 'union__vec__vec__use_idf': 0}: [0.93602694 0.95945946 0.94366197 0.96271186 0.93877551]\n",
      "0.9380 (+/-0.006212003852505215) for {'logit__C': 5, 'union__vec__vec__max_features': 2500, 'union__vec__vec__ngram_range': (5, 5), 'union__vec__vec__use_idf': 1}: [0.91780822 0.94039735 0.93379791 0.9559322  0.94237288]\n",
      "0.9473 (+/-0.004666647939602051) for {'logit__C': 5, 'union__vec__vec__max_features': 2500, 'union__vec__vec__ngram_range': (3, 5), 'union__vec__vec__use_idf': 0}: [0.93377483 0.94557823 0.96167247 0.94314381 0.95238095]\n",
      "0.9366 (+/-0.005015416870831783) for {'logit__C': 5, 'union__vec__vec__max_features': 2500, 'union__vec__vec__ngram_range': (3, 5), 'union__vec__vec__use_idf': 1}: [0.9261745  0.94520548 0.93103448 0.92881356 0.95172414]\n",
      "0.9435 (+/-0.005217386373875086) for {'logit__C': 5, 'union__vec__vec__max_features': 2500, 'union__vec__vec__ngram_range': (3, 4), 'union__vec__vec__use_idf': 0}: [0.94666667 0.94197952 0.95804196 0.92567568 0.94520548]\n",
      "0.9432 (+/-0.005434923424328535) for {'logit__C': 5, 'union__vec__vec__max_features': 2500, 'union__vec__vec__ngram_range': (3, 4), 'union__vec__vec__use_idf': 1}: [0.94314381 0.95238095 0.94035088 0.92465753 0.9556314 ]\n",
      "0.9519 (+/-0.006398714886454303) for {'logit__C': 5, 'union__vec__vec__max_features': 3000, 'union__vec__vec__ngram_range': (3, 3), 'union__vec__vec__use_idf': 0}: [0.94352159 0.95973154 0.95438596 0.93243243 0.96928328]\n",
      "0.9511 (+/-0.005413936570082603) for {'logit__C': 5, 'union__vec__vec__max_features': 3000, 'union__vec__vec__ngram_range': (3, 3), 'union__vec__vec__use_idf': 1}: [0.95238095 0.9559322  0.93286219 0.94845361 0.96598639]\n",
      "0.9481 (+/-0.00594076145214955) for {'logit__C': 5, 'union__vec__vec__max_features': 3000, 'union__vec__vec__ngram_range': (4, 4), 'union__vec__vec__use_idf': 0}: [0.93243243 0.94520548 0.94699647 0.94666667 0.96928328]\n",
      "0.9411 (+/-0.004711882365441081) for {'logit__C': 5, 'union__vec__vec__max_features': 3000, 'union__vec__vec__ngram_range': (4, 4), 'union__vec__vec__use_idf': 1}: [0.92832765 0.9347079  0.94117647 0.94557823 0.9559322 ]\n",
      "0.9495 (+/-0.00373787648591718) for {'logit__C': 5, 'union__vec__vec__max_features': 3000, 'union__vec__vec__ngram_range': (5, 5), 'union__vec__vec__use_idf': 0}: [0.93918919 0.95622896 0.94366197 0.95918367 0.94949495]\n",
      "0.9420 (+/-0.005717495172283417) for {'logit__C': 5, 'union__vec__vec__max_features': 3000, 'union__vec__vec__ngram_range': (5, 5), 'union__vec__vec__use_idf': 1}: [0.92832765 0.94352159 0.92957746 0.95238095 0.95622896]\n",
      "0.9457 (+/-0.004498132284701472) for {'logit__C': 5, 'union__vec__vec__max_features': 3000, 'union__vec__vec__ngram_range': (3, 5), 'union__vec__vec__use_idf': 0}: [0.94       0.94197952 0.96167247 0.93602694 0.94880546]\n",
      "0.9438 (+/-0.00730349591367108) for {'logit__C': 5, 'union__vec__vec__max_features': 3000, 'union__vec__vec__ngram_range': (3, 5), 'union__vec__vec__use_idf': 1}: [0.93959732 0.94915254 0.93379791 0.92733564 0.96928328]\n",
      "0.9511 (+/-0.006700074981369289) for {'logit__C': 5, 'union__vec__vec__max_features': 3000, 'union__vec__vec__ngram_range': (3, 4), 'union__vec__vec__use_idf': 0}: [0.95364238 0.95622896 0.95438596 0.92567568 0.96551724]\n",
      "0.9486 (+/-0.006174885390999827) for {'logit__C': 5, 'union__vec__vec__max_features': 3000, 'union__vec__vec__ngram_range': (3, 4), 'union__vec__vec__use_idf': 1}: [0.94276094 0.9559322  0.93706294 0.93793103 0.96928328]\n",
      "0.9511 (+/-0.004433100919213505) for {'logit__C': 5, 'union__vec__vec__max_features': 3500, 'union__vec__vec__ngram_range': (3, 3), 'union__vec__vec__use_idf': 0}: [0.94666667 0.95973154 0.95438596 0.93602694 0.95890411]\n",
      "0.9525 (+/-0.006014136777196442) for {'logit__C': 5, 'union__vec__vec__max_features': 3500, 'union__vec__vec__ngram_range': (3, 3), 'union__vec__vec__use_idf': 1}: [0.94915254 0.95918367 0.93286219 0.95205479 0.96928328]\n",
      "0.9508 (+/-0.005943477735466733) for {'logit__C': 5, 'union__vec__vec__max_features': 3500, 'union__vec__vec__ngram_range': (4, 4), 'union__vec__vec__use_idf': 0}: [0.93197279 0.94880546 0.95070423 0.95333333 0.96928328]\n",
      "0.9515 (+/-0.004679420075266765) for {'logit__C': 5, 'union__vec__vec__max_features': 3500, 'union__vec__vec__ngram_range': (4, 4), 'union__vec__vec__use_idf': 1}: [0.94520548 0.9527027  0.94444444 0.94594595 0.96928328]\n",
      "0.9524 (+/-0.003936147921603904) for {'logit__C': 5, 'union__vec__vec__max_features': 3500, 'union__vec__vec__ngram_range': (5, 5), 'union__vec__vec__use_idf': 0}: [0.93959732 0.95973154 0.94699647 0.95918367 0.95652174]\n",
      "0.9400 (+/-0.005579514956836133) for {'logit__C': 5, 'union__vec__vec__max_features': 3500, 'union__vec__vec__ngram_range': (5, 5), 'union__vec__vec__use_idf': 1}: [0.92567568 0.94630872 0.92957746 0.94237288 0.95622896]\n",
      "0.9484 (+/-0.00353371878924397) for {'logit__C': 5, 'union__vec__vec__max_features': 3500, 'union__vec__vec__ngram_range': (3, 5), 'union__vec__vec__use_idf': 0}: [0.95016611 0.94915254 0.95804196 0.93602694 0.94845361]\n",
      "0.9466 (+/-0.002339645442848798) for {'logit__C': 5, 'union__vec__vec__max_features': 3500, 'union__vec__vec__ngram_range': (3, 5), 'union__vec__vec__use_idf': 1}: [0.94276094 0.95238095 0.94076655 0.94557823 0.95172414]\n",
      "0.9529 (+/-0.006036745127258078) for {'logit__C': 5, 'union__vec__vec__max_features': 3500, 'union__vec__vec__ngram_range': (3, 4), 'union__vec__vec__use_idf': 0}: [0.96       0.9527027  0.95070423 0.93243243 0.96885813]\n",
      "0.9486 (+/-0.004658519514769526) for {'logit__C': 5, 'union__vec__vec__max_features': 3500, 'union__vec__vec__ngram_range': (3, 4), 'union__vec__vec__use_idf': 1}: [0.94520548 0.94915254 0.94035088 0.94197952 0.96621622]\n",
      "0.9516 (+/-0.0037826593820685377) for {'logit__C': 5, 'union__vec__vec__max_features': 4000, 'union__vec__vec__ngram_range': (3, 3), 'union__vec__vec__use_idf': 0}: [0.95302013 0.96296296 0.95070423 0.93918919 0.95205479]\n",
      "0.9504 (+/-0.004560533025187853) for {'logit__C': 5, 'union__vec__vec__max_features': 4000, 'union__vec__vec__ngram_range': (3, 3), 'union__vec__vec__use_idf': 1}: [0.9559322  0.95205479 0.93286219 0.95205479 0.95890411]\n",
      "0.9529 (+/-0.0049564924584141) for {'logit__C': 5, 'union__vec__vec__max_features': 4000, 'union__vec__vec__ngram_range': (4, 4), 'union__vec__vec__use_idf': 0}: [0.93877551 0.9559322  0.95070423 0.94983278 0.96928328]\n",
      "0.9556 (+/-0.004663426786308988) for {'logit__C': 5, 'union__vec__vec__max_features': 4000, 'union__vec__vec__ngram_range': (4, 4), 'union__vec__vec__use_idf': 1}: [0.94915254 0.96271186 0.94076655 0.95945946 0.96598639]\n",
      "0.9523 (+/-0.0035270406804686623) for {'logit__C': 5, 'union__vec__vec__max_features': 4000, 'union__vec__vec__ngram_range': (5, 5), 'union__vec__vec__use_idf': 0}: [0.94594595 0.95302013 0.94326241 0.96271186 0.95652174]\n",
      "0.9441 (+/-0.004780711774530835) for {'logit__C': 5, 'union__vec__vec__max_features': 4000, 'union__vec__vec__ngram_range': (5, 5), 'union__vec__vec__use_idf': 1}: [0.94158076 0.94666667 0.93006993 0.94237288 0.95973154]\n",
      "0.9504 (+/-0.005734762912408244) for {'logit__C': 5, 'union__vec__vec__max_features': 4000, 'union__vec__vec__ngram_range': (3, 5), 'union__vec__vec__use_idf': 0}: [0.95016611 0.95622896 0.95470383 0.92881356 0.96219931]\n",
      "0.9506 (+/-0.0047299792515670454) for {'logit__C': 5, 'union__vec__vec__max_features': 4000, 'union__vec__vec__ngram_range': (3, 5), 'union__vec__vec__use_idf': 1}: [0.94949495 0.9559322  0.93992933 0.94197952 0.96575342]\n",
      "0.9530 (+/-0.0053417487800662975) for {'logit__C': 5, 'union__vec__vec__max_features': 4000, 'union__vec__vec__ngram_range': (3, 4), 'union__vec__vec__use_idf': 0}: [0.95652174 0.95302013 0.95104895 0.93559322 0.96885813]\n",
      "0.9479 (+/-0.004945340349560014) for {'logit__C': 5, 'union__vec__vec__max_features': 4000, 'union__vec__vec__ngram_range': (3, 4), 'union__vec__vec__use_idf': 1}: [0.94880546 0.94594595 0.93706294 0.94158076 0.96598639]\n",
      "0.9495 (+/-0.006663661047310437) for {'logit__C': 10, 'union__vec__vec__max_features': 2000, 'union__vec__vec__ngram_range': (3, 3), 'union__vec__vec__use_idf': 0}: [0.95302013 0.95622896 0.94699647 0.92567568 0.96551724]\n",
      "0.9485 (+/-0.0049609956655353145) for {'logit__C': 10, 'union__vec__vec__max_features': 2000, 'union__vec__vec__ngram_range': (3, 3), 'union__vec__vec__use_idf': 1}: [0.9556314  0.95238095 0.94366197 0.93150685 0.95918367]\n",
      "0.9468 (+/-0.002147983872004385) for {'logit__C': 10, 'union__vec__vec__max_features': 2000, 'union__vec__vec__ngram_range': (4, 4), 'union__vec__vec__use_idf': 0}: [0.94237288 0.94197952 0.95104895 0.94630872 0.95238095]\n",
      "0.9445 (+/-0.004212613478255829) for {'logit__C': 10, 'union__vec__vec__max_features': 2000, 'union__vec__vec__ngram_range': (4, 4), 'union__vec__vec__use_idf': 1}: [0.93425606 0.95302013 0.94076655 0.93877551 0.9559322 ]\n",
      "0.9466 (+/-0.0034313003816719367) for {'logit__C': 10, 'union__vec__vec__max_features': 2000, 'union__vec__vec__ngram_range': (5, 5), 'union__vec__vec__use_idf': 0}: [0.93333333 0.94983278 0.94773519 0.95302013 0.94915254]\n",
      "0.9430 (+/-0.007231525712740125) for {'logit__C': 10, 'union__vec__vec__max_features': 2000, 'union__vec__vec__ngram_range': (5, 5), 'union__vec__vec__use_idf': 1}: [0.91467577 0.95333333 0.94520548 0.94915254 0.9527027 ]\n",
      "0.9404 (+/-0.0044773904075282485) for {'logit__C': 10, 'union__vec__vec__max_features': 2000, 'union__vec__vec__ngram_range': (3, 5), 'union__vec__vec__use_idf': 0}: [0.94352159 0.93197279 0.95470383 0.92976589 0.94197952]\n",
      "0.9317 (+/-0.008597065885527529) for {'logit__C': 10, 'union__vec__vec__max_features': 2000, 'union__vec__vec__ngram_range': (3, 5), 'union__vec__vec__use_idf': 1}: [0.93602694 0.94237288 0.90972222 0.91467577 0.9556314 ]\n",
      "0.9465 (+/-0.004834506059825837) for {'logit__C': 10, 'union__vec__vec__max_features': 2000, 'union__vec__vec__ngram_range': (3, 4), 'union__vec__vec__use_idf': 0}: [0.93645485 0.94557823 0.96167247 0.93645485 0.95238095]\n",
      "0.9379 (+/-0.005034846877146913) for {'logit__C': 10, 'union__vec__vec__max_features': 2000, 'union__vec__vec__ngram_range': (3, 4), 'union__vec__vec__use_idf': 1}: [0.92976589 0.95205479 0.93055556 0.92881356 0.94809689]\n",
      "0.9469 (+/-0.005370183034552942) for {'logit__C': 10, 'union__vec__vec__max_features': 2500, 'union__vec__vec__ngram_range': (3, 3), 'union__vec__vec__use_idf': 0}: [0.94352159 0.95622896 0.94035088 0.93243243 0.96193772]\n",
      "0.9483 (+/-0.005552764900376171) for {'logit__C': 10, 'union__vec__vec__max_features': 2500, 'union__vec__vec__ngram_range': (3, 3), 'union__vec__vec__use_idf': 1}: [0.9556314  0.95238095 0.93286219 0.93793103 0.96245734]\n",
      "0.9467 (+/-0.004239439038718154) for {'logit__C': 10, 'union__vec__vec__max_features': 2500, 'union__vec__vec__ngram_range': (4, 4), 'union__vec__vec__use_idf': 0}: [0.93559322 0.94197952 0.95438596 0.94314381 0.95862069]\n",
      "0.9460 (+/-0.004732013605433909) for {'logit__C': 10, 'union__vec__vec__max_features': 2500, 'union__vec__vec__ngram_range': (4, 4), 'union__vec__vec__use_idf': 1}: [0.93150685 0.94594595 0.94117647 0.95238095 0.95918367]\n",
      "0.9461 (+/-0.005826980402216718) for {'logit__C': 10, 'union__vec__vec__max_features': 2500, 'union__vec__vec__ngram_range': (5, 5), 'union__vec__vec__use_idf': 0}: [0.92929293 0.95945946 0.94035088 0.95918367 0.94237288]\n",
      "0.9355 (+/-0.006068854507848568) for {'logit__C': 10, 'union__vec__vec__max_features': 2500, 'union__vec__vec__ngram_range': (5, 5), 'union__vec__vec__use_idf': 1}: [0.91780822 0.93377483 0.93379791 0.9559322  0.93602694]\n",
      "0.9460 (+/-0.005062129810853321) for {'logit__C': 10, 'union__vec__vec__max_features': 2500, 'union__vec__vec__ngram_range': (3, 5), 'union__vec__vec__use_idf': 0}: [0.93023256 0.94557823 0.96167247 0.94314381 0.94915254]\n",
      "0.9372 (+/-0.004876439116196309) for {'logit__C': 10, 'union__vec__vec__max_features': 2500, 'union__vec__vec__ngram_range': (3, 5), 'union__vec__vec__use_idf': 1}: [0.9261745  0.94520548 0.93425606 0.92881356 0.95172414]\n",
      "0.9442 (+/-0.005214114035139708) for {'logit__C': 10, 'union__vec__vec__max_features': 2500, 'union__vec__vec__ngram_range': (3, 4), 'union__vec__vec__use_idf': 0}: [0.94666667 0.94557823 0.95804196 0.92567568 0.94520548]\n",
      "0.9425 (+/-0.005483894465415716) for {'logit__C': 10, 'union__vec__vec__max_features': 2500, 'union__vec__vec__ngram_range': (3, 4), 'union__vec__vec__use_idf': 1}: [0.93959732 0.95238095 0.94035088 0.92465753 0.9556314 ]\n",
      "0.9497 (+/-0.006949305929780954) for {'logit__C': 10, 'union__vec__vec__max_features': 3000, 'union__vec__vec__ngram_range': (3, 3), 'union__vec__vec__use_idf': 0}: [0.94352159 0.95973154 0.94699647 0.92881356 0.96928328]\n",
      "0.9497 (+/-0.00596120915051764) for {'logit__C': 10, 'union__vec__vec__max_features': 3000, 'union__vec__vec__ngram_range': (3, 3), 'union__vec__vec__use_idf': 1}: [0.94880546 0.95945946 0.93286219 0.94158076 0.96598639]\n",
      "0.9495 (+/-0.004399179910802279) for {'logit__C': 10, 'union__vec__vec__max_features': 3000, 'union__vec__vec__ngram_range': (4, 4), 'union__vec__vec__use_idf': 0}: [0.93959732 0.94520548 0.94699647 0.94983278 0.96575342]\n",
      "0.9417 (+/-0.005879013645410755) for {'logit__C': 10, 'union__vec__vec__max_features': 3000, 'union__vec__vec__ngram_range': (4, 4), 'union__vec__vec__use_idf': 1}: [0.92832765 0.9347079  0.9375     0.94557823 0.96245734]\n",
      "0.9483 (+/-0.004700296801510604) for {'logit__C': 10, 'union__vec__vec__max_features': 3000, 'union__vec__vec__ngram_range': (5, 5), 'union__vec__vec__use_idf': 0}: [0.93288591 0.95622896 0.94366197 0.95918367 0.94949495]\n",
      "0.9422 (+/-0.004646680992733795) for {'logit__C': 10, 'union__vec__vec__max_features': 3000, 'union__vec__vec__ngram_range': (5, 5), 'union__vec__vec__use_idf': 1}: [0.93197279 0.94701987 0.93006993 0.95238095 0.94949495]\n",
      "0.9464 (+/-0.0046750433821424915) for {'logit__C': 10, 'union__vec__vec__max_features': 3000, 'union__vec__vec__ngram_range': (3, 5), 'union__vec__vec__use_idf': 0}: [0.94       0.94197952 0.96167247 0.93602694 0.95238095]\n",
      "0.9424 (+/-0.007255491192448094) for {'logit__C': 10, 'union__vec__vec__max_features': 3000, 'union__vec__vec__ngram_range': (3, 5), 'union__vec__vec__use_idf': 1}: [0.93602694 0.95238095 0.93055556 0.92733564 0.96575342]\n",
      "0.9511 (+/-0.005759501243520479) for {'logit__C': 10, 'union__vec__vec__max_features': 3000, 'union__vec__vec__ngram_range': (3, 4), 'union__vec__vec__use_idf': 0}: [0.95364238 0.95622896 0.95438596 0.92881356 0.96219931]\n",
      "0.9493 (+/-0.006740746710847434) for {'logit__C': 10, 'union__vec__vec__max_features': 3000, 'union__vec__vec__ngram_range': (3, 4), 'union__vec__vec__use_idf': 1}: [0.94276094 0.9559322  0.93706294 0.93793103 0.97260274]\n",
      "0.9517 (+/-0.005264762561650643) for {'logit__C': 10, 'union__vec__vec__max_features': 3500, 'union__vec__vec__ngram_range': (3, 3), 'union__vec__vec__use_idf': 0}: [0.94666667 0.95973154 0.95070423 0.93559322 0.96598639]\n",
      "0.9518 (+/-0.006070546673771078) for {'logit__C': 10, 'union__vec__vec__max_features': 3500, 'union__vec__vec__ngram_range': (3, 3), 'union__vec__vec__use_idf': 1}: [0.94915254 0.95918367 0.93286219 0.94845361 0.96928328]\n",
      "0.9515 (+/-0.005387558970402645) for {'logit__C': 10, 'union__vec__vec__max_features': 3500, 'union__vec__vec__ngram_range': (4, 4), 'union__vec__vec__use_idf': 0}: [0.93559322 0.94880546 0.95070423 0.95333333 0.96928328]\n",
      "0.9508 (+/-0.004928927072530303) for {'logit__C': 10, 'union__vec__vec__max_features': 3500, 'union__vec__vec__ngram_range': (4, 4), 'union__vec__vec__use_idf': 1}: [0.94197952 0.95238095 0.94444444 0.94594595 0.96928328]\n",
      "0.9532 (+/-0.0049912839233134864) for {'logit__C': 10, 'union__vec__vec__max_features': 3500, 'union__vec__vec__ngram_range': (5, 5), 'union__vec__vec__use_idf': 0}: [0.93645485 0.95973154 0.94699647 0.96271186 0.96      ]\n",
      "0.9400 (+/-0.00471802823837675) for {'logit__C': 10, 'union__vec__vec__max_features': 3500, 'union__vec__vec__ngram_range': (5, 5), 'union__vec__vec__use_idf': 1}: [0.92881356 0.94666667 0.92957746 0.94237288 0.9527027 ]\n",
      "0.9477 (+/-0.0035139514091352335) for {'logit__C': 10, 'union__vec__vec__max_features': 3500, 'union__vec__vec__ngram_range': (3, 5), 'union__vec__vec__use_idf': 0}: [0.94666667 0.94915254 0.95804196 0.93602694 0.94845361]\n",
      "0.9473 (+/-0.0023552464902280314) for {'logit__C': 10, 'union__vec__vec__max_features': 3500, 'union__vec__vec__ngram_range': (3, 5), 'union__vec__vec__use_idf': 1}: [0.94276094 0.95238095 0.94076655 0.94880546 0.95172414]\n",
      "0.9529 (+/-0.006036745127258078) for {'logit__C': 10, 'union__vec__vec__max_features': 3500, 'union__vec__vec__ngram_range': (3, 4), 'union__vec__vec__use_idf': 0}: [0.96       0.9527027  0.95070423 0.93243243 0.96885813]\n",
      "0.9492 (+/-0.005282708816692495) for {'logit__C': 10, 'union__vec__vec__max_features': 3500, 'union__vec__vec__ngram_range': (3, 4), 'union__vec__vec__use_idf': 1}: [0.94520548 0.94915254 0.94035088 0.94197952 0.96949153]\n",
      "0.9515 (+/-0.003887444827027444) for {'logit__C': 10, 'union__vec__vec__max_features': 4000, 'union__vec__vec__ngram_range': (3, 3), 'union__vec__vec__use_idf': 0}: [0.94949495 0.96296296 0.95070423 0.93918919 0.95532646]\n",
      "0.9496 (+/-0.00529087457189324) for {'logit__C': 10, 'union__vec__vec__max_features': 4000, 'union__vec__vec__ngram_range': (3, 3), 'union__vec__vec__use_idf': 1}: [0.9559322  0.95205479 0.92907801 0.95205479 0.95890411]\n",
      "0.9529 (+/-0.0049564924584141) for {'logit__C': 10, 'union__vec__vec__max_features': 4000, 'union__vec__vec__ngram_range': (4, 4), 'union__vec__vec__use_idf': 0}: [0.93877551 0.9559322  0.95070423 0.94983278 0.96928328]\n",
      "0.9563 (+/-0.004972487573432128) for {'logit__C': 10, 'union__vec__vec__max_features': 4000, 'union__vec__vec__ngram_range': (4, 4), 'union__vec__vec__use_idf': 1}: [0.94915254 0.96621622 0.94076655 0.95945946 0.96598639]\n",
      "0.9522 (+/-0.0028043295564184824) for {'logit__C': 10, 'union__vec__vec__max_features': 4000, 'union__vec__vec__ngram_range': (5, 5), 'union__vec__vec__use_idf': 0}: [0.94915254 0.95302013 0.94326241 0.95918367 0.95652174]\n",
      "0.9420 (+/-0.004177869171520819) for {'logit__C': 10, 'union__vec__vec__max_features': 4000, 'union__vec__vec__ngram_range': (5, 5), 'union__vec__vec__use_idf': 1}: [0.94158076 0.94       0.93006993 0.94237288 0.95622896]\n",
      "0.9518 (+/-0.005449689887621663) for {'logit__C': 10, 'union__vec__vec__max_features': 4000, 'union__vec__vec__ngram_range': (3, 5), 'union__vec__vec__use_idf': 0}: [0.95016611 0.95622896 0.95470383 0.93243243 0.96551724]\n",
      "0.9500 (+/-0.005743398739681186) for {'logit__C': 10, 'union__vec__vec__max_features': 4000, 'union__vec__vec__ngram_range': (3, 5), 'union__vec__vec__use_idf': 1}: [0.94949495 0.95945946 0.93992933 0.93515358 0.96575342]\n",
      "0.9537 (+/-0.00477378913184887) for {'logit__C': 10, 'union__vec__vec__max_features': 4000, 'union__vec__vec__ngram_range': (3, 4), 'union__vec__vec__use_idf': 0}: [0.95652174 0.95302013 0.95104895 0.93918919 0.96885813]\n",
      "0.9491 (+/-0.004844731007214239) for {'logit__C': 10, 'union__vec__vec__max_features': 4000, 'union__vec__vec__ngram_range': (3, 4), 'union__vec__vec__use_idf': 1}: [0.95205479 0.94557823 0.93706294 0.94482759 0.96598639]\n",
      "Hypertuning model 2 out of 2: nb\n",
      "================================================================================\n",
      "Best score on training set (CV): 0.920\n",
      "Best parameters set:\n",
      "\tnb__alpha: 10\n",
      "\tunion__vec__vec__max_features: 3500\n",
      "\tunion__vec__vec__ngram_range: (5, 5)\n",
      "\tunion__vec__vec__use_idf: 0\n",
      "0.8709 (+/-0.010087696251157638) for {'nb__alpha': 0.1, 'union__vec__vec__max_features': 2000, 'union__vec__vec__ngram_range': (3, 3), 'union__vec__vec__use_idf': 0}: [0.86419753 0.9022082  0.84415584 0.85981308 0.88401254]\n",
      "0.8383 (+/-0.01118322376416028) for {'nb__alpha': 0.1, 'union__vec__vec__max_features': 2000, 'union__vec__vec__ngram_range': (3, 3), 'union__vec__vec__use_idf': 1}: [0.83185841 0.86850153 0.80996885 0.82142857 0.8597561 ]\n",
      "0.8850 (+/-0.007004731948761966) for {'nb__alpha': 0.1, 'union__vec__vec__max_features': 2000, 'union__vec__vec__ngram_range': (4, 4), 'union__vec__vec__use_idf': 0}: [0.89808917 0.88753799 0.87012987 0.9015873  0.86746988]\n",
      "0.8530 (+/-0.008543242138847643) for {'nb__alpha': 0.1, 'union__vec__vec__max_features': 2000, 'union__vec__vec__ngram_range': (4, 4), 'union__vec__vec__use_idf': 1}: [0.87730061 0.86390533 0.83280757 0.85626911 0.83478261]\n",
      "0.8976 (+/-0.007560192662141411) for {'nb__alpha': 0.1, 'union__vec__vec__max_features': 2000, 'union__vec__vec__ngram_range': (5, 5), 'union__vec__vec__use_idf': 0}: [0.91909385 0.90909091 0.88745981 0.89589905 0.87654321]\n",
      "0.8697 (+/-0.006949021248197624) for {'nb__alpha': 0.1, 'union__vec__vec__max_features': 2000, 'union__vec__vec__ngram_range': (5, 5), 'union__vec__vec__use_idf': 1}: [0.89375    0.87087087 0.86349206 0.86930091 0.85106383]\n",
      "0.8171 (+/-0.012047918493598712) for {'nb__alpha': 0.1, 'union__vec__vec__max_features': 2000, 'union__vec__vec__ngram_range': (3, 5), 'union__vec__vec__use_idf': 0}: [0.79765396 0.8253012  0.80952381 0.85981308 0.79310345]\n",
      "0.7854 (+/-0.012009045600445342) for {'nb__alpha': 0.1, 'union__vec__vec__max_features': 2000, 'union__vec__vec__ngram_range': (3, 5), 'union__vec__vec__use_idf': 1}: [0.76966292 0.78962536 0.78409091 0.82738095 0.75616438]\n",
      "0.8347 (+/-0.0062701568015302855) for {'nb__alpha': 0.1, 'union__vec__vec__max_features': 2000, 'union__vec__vec__ngram_range': (3, 4), 'union__vec__vec__use_idf': 0}: [0.83529412 0.8313253  0.83536585 0.85538462 0.81609195]\n",
      "0.8032 (+/-0.006032117523952582) for {'nb__alpha': 0.1, 'union__vec__vec__max_features': 2000, 'union__vec__vec__ngram_range': (3, 4), 'union__vec__vec__use_idf': 1}: [0.80222841 0.80938416 0.79883382 0.82111437 0.78453039]\n",
      "0.8740 (+/-0.008048240293731808) for {'nb__alpha': 0.1, 'union__vec__vec__max_features': 2500, 'union__vec__vec__ngram_range': (3, 3), 'union__vec__vec__use_idf': 0}: [0.86604361 0.89655172 0.8496732  0.87227414 0.88535032]\n",
      "0.8451 (+/-0.010236741543739826) for {'nb__alpha': 0.1, 'union__vec__vec__max_features': 2500, 'union__vec__vec__ngram_range': (3, 3), 'union__vec__vec__use_idf': 1}: [0.83483483 0.87654321 0.82018927 0.83333333 0.86068111]\n",
      "0.8917 (+/-0.006572991181333769) for {'nb__alpha': 0.1, 'union__vec__vec__max_features': 2500, 'union__vec__vec__ngram_range': (4, 4), 'union__vec__vec__use_idf': 0}: [0.90384615 0.90909091 0.87662338 0.89102564 0.87804878]\n",
      "0.8633 (+/-0.006802198483802922) for {'nb__alpha': 0.1, 'union__vec__vec__max_features': 2500, 'union__vec__vec__ngram_range': (4, 4), 'union__vec__vec__use_idf': 1}: [0.88615385 0.86390533 0.85350318 0.86687307 0.84615385]\n",
      "0.9000 (+/-0.004623384750730652) for {'nb__alpha': 0.1, 'union__vec__vec__max_features': 2500, 'union__vec__vec__ngram_range': (5, 5), 'union__vec__vec__use_idf': 0}: [0.91025641 0.90342679 0.90032154 0.90342679 0.88271605]\n",
      "0.8790 (+/-0.005455926632465268) for {'nb__alpha': 0.1, 'union__vec__vec__max_features': 2500, 'union__vec__vec__ngram_range': (5, 5), 'union__vec__vec__use_idf': 1}: [0.89375    0.87537994 0.88253968 0.88271605 0.86060606]\n",
      "0.8235 (+/-0.008342408573461446) for {'nb__alpha': 0.1, 'union__vec__vec__max_features': 2500, 'union__vec__vec__ngram_range': (3, 5), 'union__vec__vec__use_idf': 0}: [0.8057971  0.8238806  0.82985075 0.85106383 0.80681818]\n",
      "0.7963 (+/-0.008870511160729157) for {'nb__alpha': 0.1, 'union__vec__vec__max_features': 2500, 'union__vec__vec__ngram_range': (3, 5), 'union__vec__vec__use_idf': 1}: [0.7679558  0.80466472 0.8        0.82111437 0.78787879]\n",
      "0.8503 (+/-0.0039352080797339616) for {'nb__alpha': 0.1, 'union__vec__vec__max_features': 2500, 'union__vec__vec__ngram_range': (3, 4), 'union__vec__vec__use_idf': 0}: [0.85373134 0.85889571 0.8447205  0.85626911 0.83775811]\n",
      "0.8152 (+/-0.003370853921947477) for {'nb__alpha': 0.1, 'union__vec__vec__max_features': 2500, 'union__vec__vec__ngram_range': (3, 4), 'union__vec__vec__use_idf': 1}: [0.81609195 0.82492582 0.80473373 0.81176471 0.8184438 ]\n",
      "0.8860 (+/-0.006092118489842306) for {'nb__alpha': 0.1, 'union__vec__vec__max_features': 3000, 'union__vec__vec__ngram_range': (3, 3), 'union__vec__vec__use_idf': 0}: [0.87227414 0.90506329 0.87417219 0.88535032 0.89308176]\n",
      "0.8607 (+/-0.010252366262190855) for {'nb__alpha': 0.1, 'union__vec__vec__max_features': 3000, 'union__vec__vec__ngram_range': (3, 3), 'union__vec__vec__use_idf': 1}: [0.8440367  0.8952381  0.83870968 0.85448916 0.87116564]\n",
      "0.8952 (+/-0.0046350828192194314) for {'nb__alpha': 0.1, 'union__vec__vec__max_features': 3000, 'union__vec__vec__ngram_range': (4, 4), 'union__vec__vec__use_idf': 0}: [0.90793651 0.90342679 0.88387097 0.89389068 0.88685015]\n",
      "0.8727 (+/-0.0029144757346468066) for {'nb__alpha': 0.1, 'union__vec__vec__max_features': 3000, 'union__vec__vec__ngram_range': (4, 4), 'union__vec__vec__use_idf': 1}: [0.87654321 0.87878788 0.86900958 0.87619048 0.86309524]\n",
      "0.9028 (+/-0.004738026178184896) for {'nb__alpha': 0.1, 'union__vec__vec__max_features': 3000, 'union__vec__vec__ngram_range': (5, 5), 'union__vec__vec__use_idf': 0}: [0.91558442 0.9068323  0.89967638 0.90506329 0.88685015]\n",
      "0.8833 (+/-0.0036020094291305325) for {'nb__alpha': 0.1, 'union__vec__vec__max_features': 3000, 'union__vec__vec__ngram_range': (5, 5), 'union__vec__vec__use_idf': 1}: [0.89028213 0.87730061 0.88535032 0.89096573 0.87272727]\n",
      "0.8336 (+/-0.005520253166035252) for {'nb__alpha': 0.1, 'union__vec__vec__max_features': 3000, 'union__vec__vec__ngram_range': (3, 5), 'union__vec__vec__use_idf': 0}: [0.8184438  0.82985075 0.83987915 0.85106383 0.82898551]\n",
      "0.8076 (+/-0.005668824641493243) for {'nb__alpha': 0.1, 'union__vec__vec__max_features': 3000, 'union__vec__vec__ngram_range': (3, 5), 'union__vec__vec__use_idf': 1}: [0.7890411  0.81524927 0.81524927 0.81871345 0.8       ]\n",
      "0.8504 (+/-0.0025514464417221924) for {'nb__alpha': 0.1, 'union__vec__vec__max_features': 3000, 'union__vec__vec__ngram_range': (3, 4), 'union__vec__vec__use_idf': 0}: [0.84684685 0.85714286 0.8490566  0.85538462 0.84365782]\n",
      "0.8182 (+/-0.005353681265384887) for {'nb__alpha': 0.1, 'union__vec__vec__max_features': 3000, 'union__vec__vec__ngram_range': (3, 4), 'union__vec__vec__use_idf': 1}: [0.82997118 0.82352941 0.80722892 0.80351906 0.8265896 ]\n",
      "0.8903 (+/-0.008151561590352303) for {'nb__alpha': 0.1, 'union__vec__vec__max_features': 3500, 'union__vec__vec__ngram_range': (3, 3), 'union__vec__vec__use_idf': 0}: [0.88050314 0.91025641 0.86378738 0.89808917 0.89873418]\n",
      "0.8648 (+/-0.013003096587213417) for {'nb__alpha': 0.1, 'union__vec__vec__max_features': 3500, 'union__vec__vec__ngram_range': (3, 3), 'union__vec__vec__use_idf': 1}: [0.84210526 0.90384615 0.83552632 0.85714286 0.88544892]\n",
      "0.9025 (+/-0.0036601260892801307) for {'nb__alpha': 0.1, 'union__vec__vec__max_features': 3500, 'union__vec__vec__ngram_range': (4, 4), 'union__vec__vec__use_idf': 0}: [0.90095847 0.90909091 0.88888889 0.90675241 0.9068323 ]\n",
      "0.8797 (+/-0.006937676122915155) for {'nb__alpha': 0.1, 'union__vec__vec__max_features': 3500, 'union__vec__vec__ngram_range': (4, 4), 'union__vec__vec__use_idf': 1}: [0.86604361 0.90184049 0.8802589  0.88607595 0.86404834]\n",
      "0.9071 (+/-0.006772083598035757) for {'nb__alpha': 0.1, 'union__vec__vec__max_features': 3500, 'union__vec__vec__ngram_range': (5, 5), 'union__vec__vec__use_idf': 0}: [0.92207792 0.89719626 0.90429043 0.92307692 0.88888889]\n",
      "0.8886 (+/-0.00627986017778189) for {'nb__alpha': 0.1, 'union__vec__vec__max_features': 3500, 'union__vec__vec__ngram_range': (5, 5), 'union__vec__vec__use_idf': 1}: [0.9022082  0.87730061 0.88311688 0.90506329 0.87537994]\n",
      "0.8410 (+/-0.004262298657801669) for {'nb__alpha': 0.1, 'union__vec__vec__max_features': 3500, 'union__vec__vec__ngram_range': (3, 5), 'union__vec__vec__use_idf': 0}: [0.83775811 0.84431138 0.85538462 0.8373494  0.82997118]\n",
      "0.8150 (+/-0.0038657473799328535) for {'nb__alpha': 0.1, 'union__vec__vec__max_features': 3500, 'union__vec__vec__ngram_range': (3, 5), 'union__vec__vec__use_idf': 1}: [0.80681818 0.82111437 0.82634731 0.80701754 0.81355932]\n",
      "0.8557 (+/-0.0037478349155350625) for {'nb__alpha': 0.1, 'union__vec__vec__max_features': 3500, 'union__vec__vec__ngram_range': (3, 4), 'union__vec__vec__use_idf': 0}: [0.84939759 0.86666667 0.84542587 0.85802469 0.85885886]\n",
      "0.8344 (+/-0.005127341683125207) for {'nb__alpha': 0.1, 'union__vec__vec__max_features': 3500, 'union__vec__vec__ngram_range': (3, 4), 'union__vec__vec__use_idf': 1}: [0.82697947 0.84705882 0.82208589 0.82985075 0.84615385]\n",
      "0.8916 (+/-0.007630530595971383) for {'nb__alpha': 0.1, 'union__vec__vec__max_features': 4000, 'union__vec__vec__ngram_range': (3, 3), 'union__vec__vec__use_idf': 0}: [0.88607595 0.91025641 0.86557377 0.89456869 0.9015873 ]\n",
      "0.8719 (+/-0.01231435694905844) for {'nb__alpha': 0.1, 'union__vec__vec__max_features': 4000, 'union__vec__vec__ngram_range': (3, 3), 'union__vec__vec__use_idf': 1}: [0.85893417 0.89456869 0.83660131 0.86520376 0.9044586 ]\n",
      "0.9019 (+/-0.006569744800042874) for {'nb__alpha': 0.1, 'union__vec__vec__max_features': 4000, 'union__vec__vec__ngram_range': (4, 4), 'union__vec__vec__use_idf': 0}: [0.91025641 0.90625    0.87581699 0.91025641 0.9068323 ]\n",
      "0.8840 (+/-0.003574694777760296) for {'nb__alpha': 0.1, 'union__vec__vec__max_features': 4000, 'union__vec__vec__ngram_range': (4, 4), 'union__vec__vec__use_idf': 1}: [0.8847352  0.89375    0.87662338 0.88958991 0.87537994]\n",
      "0.9115 (+/-0.006547207374167442) for {'nb__alpha': 0.1, 'union__vec__vec__max_features': 4000, 'union__vec__vec__ngram_range': (5, 5), 'union__vec__vec__use_idf': 0}: [0.92903226 0.90282132 0.91390728 0.9201278  0.89164087]\n",
      "0.8899 (+/-0.006934749278282666) for {'nb__alpha': 0.1, 'union__vec__vec__max_features': 4000, 'union__vec__vec__ngram_range': (5, 5), 'union__vec__vec__use_idf': 1}: [0.90506329 0.87804878 0.89542484 0.9015873  0.86930091]\n",
      "0.8396 (+/-0.003546730689920294) for {'nb__alpha': 0.1, 'union__vec__vec__max_features': 4000, 'union__vec__vec__ngram_range': (3, 5), 'union__vec__vec__use_idf': 0}: [0.82840237 0.84431138 0.84923077 0.83987915 0.83625731]\n",
      "0.8113 (+/-0.00291811928819766) for {'nb__alpha': 0.1, 'union__vec__vec__max_features': 4000, 'union__vec__vec__ngram_range': (3, 5), 'union__vec__vec__use_idf': 1}: [0.80911681 0.81395349 0.81415929 0.80115274 0.81818182]\n",
      "0.8654 (+/-0.00710890106264185) for {'nb__alpha': 0.1, 'union__vec__vec__max_features': 4000, 'union__vec__vec__ngram_range': (3, 4), 'union__vec__vec__use_idf': 0}: [0.86060606 0.89164087 0.8490566  0.8597561  0.86585366]\n",
      "0.8423 (+/-0.0047491369283812436) for {'nb__alpha': 0.1, 'union__vec__vec__max_features': 4000, 'union__vec__vec__ngram_range': (3, 4), 'union__vec__vec__use_idf': 1}: [0.83832335 0.85459941 0.82972136 0.83679525 0.85207101]\n",
      "0.8665 (+/-0.008823574948726529) for {'nb__alpha': 0.5, 'union__vec__vec__max_features': 2000, 'union__vec__vec__ngram_range': (3, 3), 'union__vec__vec__use_idf': 0}: [0.86153846 0.89096573 0.84142395 0.85714286 0.88125   ]\n",
      "0.8374 (+/-0.012820831656712724) for {'nb__alpha': 0.5, 'union__vec__vec__max_features': 2000, 'union__vec__vec__ngram_range': (3, 3), 'union__vec__vec__use_idf': 1}: [0.83431953 0.87009063 0.80864198 0.81065089 0.86322188]\n",
      "0.8855 (+/-0.005723364471661523) for {'nb__alpha': 0.5, 'union__vec__vec__max_features': 2000, 'union__vec__vec__ngram_range': (4, 4), 'union__vec__vec__use_idf': 0}: [0.88958991 0.88414634 0.87261146 0.90506329 0.87613293]\n",
      "0.8542 (+/-0.0077394272279572305) for {'nb__alpha': 0.5, 'union__vec__vec__max_features': 2000, 'union__vec__vec__ngram_range': (4, 4), 'union__vec__vec__use_idf': 1}: [0.87195122 0.86470588 0.83647799 0.86322188 0.83478261]\n",
      "0.8973 (+/-0.006552787464570503) for {'nb__alpha': 0.5, 'union__vec__vec__max_features': 2000, 'union__vec__vec__ngram_range': (5, 5), 'union__vec__vec__use_idf': 0}: [0.91612903 0.90342679 0.88958991 0.9        0.87730061]\n",
      "0.8696 (+/-0.00726126041319745) for {'nb__alpha': 0.5, 'union__vec__vec__max_features': 2000, 'union__vec__vec__ngram_range': (5, 5), 'union__vec__vec__use_idf': 1}: [0.89375    0.87164179 0.85893417 0.87272727 0.85106383]\n",
      "0.8170 (+/-0.012117849189253184) for {'nb__alpha': 0.5, 'union__vec__vec__max_features': 2000, 'union__vec__vec__ngram_range': (3, 5), 'union__vec__vec__use_idf': 0}: [0.79532164 0.8238806  0.81305638 0.85981308 0.79310345]\n",
      "0.7825 (+/-0.010289908041460355) for {'nb__alpha': 0.5, 'union__vec__vec__max_features': 2000, 'union__vec__vec__ngram_range': (3, 5), 'union__vec__vec__use_idf': 1}: [0.76966292 0.78735632 0.78186969 0.81764706 0.75616438]\n",
      "0.8303 (+/-0.004697593959150603) for {'nb__alpha': 0.5, 'union__vec__vec__max_features': 2000, 'union__vec__vec__ngram_range': (3, 4), 'union__vec__vec__use_idf': 0}: [0.83040936 0.83483483 0.83030303 0.84242424 0.81375358]\n",
      "0.8013 (+/-0.005583883580332623) for {'nb__alpha': 0.5, 'union__vec__vec__max_features': 2000, 'union__vec__vec__ngram_range': (3, 4), 'union__vec__vec__use_idf': 1}: [0.80222841 0.80938416 0.7942029  0.81632653 0.78453039]\n",
      "0.8711 (+/-0.008500299887924705) for {'nb__alpha': 0.5, 'union__vec__vec__max_features': 2500, 'union__vec__vec__ngram_range': (3, 3), 'union__vec__vec__use_idf': 0}: [0.85889571 0.89375    0.8534202  0.8597561  0.88958991]\n",
      "0.8422 (+/-0.010704297508581775) for {'nb__alpha': 0.5, 'union__vec__vec__max_features': 2500, 'union__vec__vec__ngram_range': (3, 3), 'union__vec__vec__use_idf': 1}: [0.82985075 0.87730061 0.81761006 0.83086053 0.85538462]\n",
      "0.8867 (+/-0.0049332993878450256) for {'nb__alpha': 0.5, 'union__vec__vec__max_features': 2500, 'union__vec__vec__ngram_range': (4, 4), 'union__vec__vec__use_idf': 0}: [0.89808917 0.89440994 0.87179487 0.89028213 0.87878788]\n",
      "0.8628 (+/-0.0068834182388888086) for {'nb__alpha': 0.5, 'union__vec__vec__max_features': 2500, 'union__vec__vec__ngram_range': (4, 4), 'union__vec__vec__use_idf': 1}: [0.88343558 0.86725664 0.84375    0.86769231 0.85207101]\n",
      "0.8948 (+/-0.004731155433153346) for {'nb__alpha': 0.5, 'union__vec__vec__max_features': 2500, 'union__vec__vec__ngram_range': (5, 5), 'union__vec__vec__use_idf': 0}: [0.90734824 0.89783282 0.88888889 0.9        0.88      ]\n",
      "0.8779 (+/-0.006474473243261768) for {'nb__alpha': 0.5, 'union__vec__vec__max_features': 2500, 'union__vec__vec__ngram_range': (5, 5), 'union__vec__vec__use_idf': 1}: [0.89719626 0.87613293 0.86875    0.88685015 0.86060606]\n",
      "0.8202 (+/-0.008000433141028655) for {'nb__alpha': 0.5, 'union__vec__vec__max_features': 2500, 'union__vec__vec__ngram_range': (3, 5), 'union__vec__vec__use_idf': 0}: [0.80229226 0.82738095 0.82111437 0.84592145 0.80453258]\n",
      "0.7935 (+/-0.0075896352311849114) for {'nb__alpha': 0.5, 'union__vec__vec__max_features': 2500, 'union__vec__vec__ngram_range': (3, 5), 'union__vec__vec__use_idf': 1}: [0.7700831  0.80466472 0.79320113 0.81395349 0.78571429]\n",
      "0.8456 (+/-0.003921375365239375) for {'nb__alpha': 0.5, 'union__vec__vec__max_features': 2500, 'union__vec__vec__ngram_range': (3, 4), 'union__vec__vec__use_idf': 0}: [0.85119048 0.85365854 0.83692308 0.85106383 0.83529412]\n",
      "0.8160 (+/-0.0030137817609743158) for {'nb__alpha': 0.5, 'union__vec__vec__max_features': 2500, 'union__vec__vec__ngram_range': (3, 4), 'union__vec__vec__use_idf': 1}: [0.82285714 0.820059   0.80588235 0.8128655  0.8184438 ]\n",
      "0.8790 (+/-0.009071645446483206) for {'nb__alpha': 0.5, 'union__vec__vec__max_features': 3000, 'union__vec__vec__ngram_range': (3, 3), 'union__vec__vec__use_idf': 0}: [0.86956522 0.90506329 0.8516129  0.87850467 0.89028213]\n",
      "0.8601 (+/-0.010762084924026385) for {'nb__alpha': 0.5, 'union__vec__vec__max_features': 3000, 'union__vec__vec__ngram_range': (3, 3), 'union__vec__vec__use_idf': 1}: [0.84848485 0.89655172 0.8370607  0.84662577 0.87195122]\n",
      "0.8921 (+/-0.004654637255726101) for {'nb__alpha': 0.5, 'union__vec__vec__max_features': 3000, 'union__vec__vec__ngram_range': (4, 4), 'union__vec__vec__use_idf': 0}: [0.9015873  0.89440994 0.88102894 0.9022082  0.88145897]\n",
      "0.8723 (+/-0.00351279432004274) for {'nb__alpha': 0.5, 'union__vec__vec__max_features': 3000, 'union__vec__vec__ngram_range': (4, 4), 'union__vec__vec__use_idf': 1}: [0.87730061 0.87951807 0.86435331 0.87697161 0.86309524]\n",
      "0.8994 (+/-0.00428431403173204) for {'nb__alpha': 0.5, 'union__vec__vec__max_features': 3000, 'union__vec__vec__ngram_range': (5, 5), 'union__vec__vec__use_idf': 0}: [0.91025641 0.90062112 0.90322581 0.89873418 0.88414634]\n",
      "0.8799 (+/-0.004633241145438452) for {'nb__alpha': 0.5, 'union__vec__vec__max_features': 3000, 'union__vec__vec__ngram_range': (5, 5), 'union__vec__vec__use_idf': 1}: [0.8875     0.88073394 0.86604361 0.89164087 0.87349398]\n",
      "0.8290 (+/-0.0036923840097256165) for {'nb__alpha': 0.5, 'union__vec__vec__max_features': 3000, 'union__vec__vec__ngram_range': (3, 5), 'union__vec__vec__use_idf': 0}: [0.81609195 0.82840237 0.83333333 0.83832335 0.82898551]\n",
      "0.8042 (+/-0.00559376927419948) for {'nb__alpha': 0.5, 'union__vec__vec__max_features': 3000, 'union__vec__vec__ngram_range': (3, 5), 'union__vec__vec__use_idf': 1}: [0.78474114 0.8128655  0.80691643 0.81632653 0.8       ]\n",
      "0.8470 (+/-0.0017549005016669578) for {'nb__alpha': 0.5, 'union__vec__vec__max_features': 3000, 'union__vec__vec__ngram_range': (3, 4), 'union__vec__vec__use_idf': 0}: [0.84615385 0.85196375 0.84735202 0.84848485 0.84117647]\n",
      "0.8184 (+/-0.004065228791082667) for {'nb__alpha': 0.5, 'union__vec__vec__max_features': 3000, 'union__vec__vec__ngram_range': (3, 4), 'union__vec__vec__use_idf': 1}: [0.82997118 0.81871345 0.80838323 0.81049563 0.82420749]\n",
      "0.8860 (+/-0.007970257385740472) for {'nb__alpha': 0.5, 'union__vec__vec__max_features': 3500, 'union__vec__vec__ngram_range': (3, 3), 'union__vec__vec__use_idf': 0}: [0.87774295 0.9022082  0.85901639 0.89171975 0.89937107]\n",
      "0.8655 (+/-0.012049540169399062) for {'nb__alpha': 0.5, 'union__vec__vec__max_features': 3500, 'union__vec__vec__ngram_range': (3, 3), 'union__vec__vec__use_idf': 1}: [0.84662577 0.9015873  0.83495146 0.86153846 0.88271605]\n",
      "0.8985 (+/-0.0029998986927208928) for {'nb__alpha': 0.5, 'union__vec__vec__max_features': 3500, 'union__vec__vec__ngram_range': (4, 4), 'union__vec__vec__use_idf': 0}: [0.89808917 0.89783282 0.88961039 0.90851735 0.89846154]\n",
      "0.8794 (+/-0.0063785711728446) for {'nb__alpha': 0.5, 'union__vec__vec__max_features': 3500, 'union__vec__vec__ngram_range': (4, 4), 'union__vec__vec__use_idf': 1}: [0.87037037 0.89908257 0.86538462 0.88958991 0.87272727]\n",
      "0.9016 (+/-0.005354290145069846) for {'nb__alpha': 0.5, 'union__vec__vec__max_features': 3500, 'union__vec__vec__ngram_range': (5, 5), 'union__vec__vec__use_idf': 0}: [0.90675241 0.89783282 0.9025974  0.91666667 0.88414634]\n",
      "0.8856 (+/-0.005875501038111851) for {'nb__alpha': 0.5, 'union__vec__vec__max_features': 3500, 'union__vec__vec__ngram_range': (5, 5), 'union__vec__vec__use_idf': 1}: [0.89937107 0.88073394 0.87539936 0.9        0.87272727]\n",
      "0.8373 (+/-0.003154201806547872) for {'nb__alpha': 0.5, 'union__vec__vec__max_features': 3500, 'union__vec__vec__ngram_range': (3, 5), 'union__vec__vec__use_idf': 0}: [0.83139535 0.84431138 0.8449848  0.8358209  0.82997118]\n",
      "0.8114 (+/-0.003602390463465045) for {'nb__alpha': 0.5, 'union__vec__vec__max_features': 3500, 'union__vec__vec__ngram_range': (3, 5), 'union__vec__vec__use_idf': 1}: [0.8101983  0.81632653 0.82248521 0.80346821 0.80446927]\n",
      "0.8562 (+/-0.004716945421507155) for {'nb__alpha': 0.5, 'union__vec__vec__max_features': 3500, 'union__vec__vec__ngram_range': (3, 4), 'union__vec__vec__use_idf': 0}: [0.8502994  0.87195122 0.84375    0.85626911 0.85885886]\n",
      "0.8333 (+/-0.005451519778851533) for {'nb__alpha': 0.5, 'union__vec__vec__max_features': 3500, 'union__vec__vec__ngram_range': (3, 4), 'union__vec__vec__use_idf': 1}: [0.82798834 0.84795322 0.81846154 0.82840237 0.84365782]\n",
      "0.8890 (+/-0.00873597777269863) for {'nb__alpha': 0.5, 'union__vec__vec__max_features': 4000, 'union__vec__vec__ngram_range': (3, 3), 'union__vec__vec__use_idf': 0}: [0.88888889 0.90734824 0.85714286 0.88958991 0.9022082 ]\n",
      "0.8719 (+/-0.011935472178101323) for {'nb__alpha': 0.5, 'union__vec__vec__max_features': 4000, 'union__vec__vec__ngram_range': (3, 3), 'union__vec__vec__use_idf': 1}: [0.86335404 0.89240506 0.83495146 0.86604361 0.90282132]\n",
      "0.9012 (+/-0.006408430243967994) for {'nb__alpha': 0.5, 'union__vec__vec__max_features': 4000, 'union__vec__vec__ngram_range': (4, 4), 'union__vec__vec__use_idf': 0}: [0.91373802 0.90342679 0.87947883 0.91373802 0.89570552]\n",
      "0.8843 (+/-0.005941084602662966) for {'nb__alpha': 0.5, 'union__vec__vec__max_features': 4000, 'union__vec__vec__ngram_range': (4, 4), 'union__vec__vec__use_idf': 1}: [0.88819876 0.89783282 0.86451613 0.89308176 0.87804878]\n",
      "0.9064 (+/-0.0055852029494812385) for {'nb__alpha': 0.5, 'union__vec__vec__max_features': 4000, 'union__vec__vec__ngram_range': (5, 5), 'union__vec__vec__use_idf': 0}: [0.91961415 0.90342679 0.90849673 0.91373802 0.88685015]\n",
      "0.8898 (+/-0.006991269619221123) for {'nb__alpha': 0.5, 'union__vec__vec__max_features': 4000, 'union__vec__vec__ngram_range': (5, 5), 'union__vec__vec__use_idf': 1}: [0.90506329 0.87804878 0.89389068 0.90282132 0.86930091]\n",
      "0.8362 (+/-0.0033448431605316) for {'nb__alpha': 0.5, 'union__vec__vec__max_features': 4000, 'union__vec__vec__ngram_range': (3, 5), 'union__vec__vec__use_idf': 0}: [0.8245614  0.83928571 0.83890578 0.84431138 0.83381924]\n",
      "0.8059 (+/-0.0032838722278223076) for {'nb__alpha': 0.5, 'union__vec__vec__max_features': 4000, 'union__vec__vec__ngram_range': (3, 5), 'union__vec__vec__use_idf': 1}: [0.80681818 0.81034483 0.80466472 0.79428571 0.81355932]\n",
      "0.8620 (+/-0.005651926690747643) for {'nb__alpha': 0.5, 'union__vec__vec__max_features': 4000, 'union__vec__vec__ngram_range': (3, 4), 'union__vec__vec__use_idf': 0}: [0.85885886 0.88343558 0.85       0.85714286 0.86060606]\n",
      "0.8406 (+/-0.005189191667338784) for {'nb__alpha': 0.5, 'union__vec__vec__max_features': 4000, 'union__vec__vec__ngram_range': (3, 4), 'union__vec__vec__use_idf': 1}: [0.83679525 0.85294118 0.82352941 0.84023669 0.84955752]\n",
      "0.8630 (+/-0.010041160413045994) for {'nb__alpha': 1, 'union__vec__vec__max_features': 2000, 'union__vec__vec__ngram_range': (3, 3), 'union__vec__vec__use_idf': 0}: [0.85889571 0.89096573 0.8370607  0.84756098 0.88050314]\n",
      "0.8344 (+/-0.013156729737402895) for {'nb__alpha': 1, 'union__vec__vec__max_features': 2000, 'union__vec__vec__ngram_range': (3, 3), 'union__vec__vec__use_idf': 1}: [0.83529412 0.86404834 0.80615385 0.80351906 0.86322188]\n",
      "0.8860 (+/-0.00574856615661307) for {'nb__alpha': 1, 'union__vec__vec__max_features': 2000, 'union__vec__vec__ngram_range': (4, 4), 'union__vec__vec__use_idf': 0}: [0.89028213 0.88414634 0.87619048 0.90566038 0.87349398]\n",
      "0.8515 (+/-0.008414039031513972) for {'nb__alpha': 1, 'union__vec__vec__max_features': 2000, 'union__vec__vec__ngram_range': (4, 4), 'union__vec__vec__use_idf': 1}: [0.87272727 0.85714286 0.83125    0.86404834 0.83236994]\n",
      "0.8944 (+/-0.006696448373252411) for {'nb__alpha': 1, 'union__vec__vec__max_features': 2000, 'union__vec__vec__ngram_range': (5, 5), 'union__vec__vec__use_idf': 0}: [0.91318328 0.89719626 0.88125    0.90282132 0.87730061]\n",
      "0.8691 (+/-0.006805769638873664) for {'nb__alpha': 1, 'union__vec__vec__max_features': 2000, 'union__vec__vec__ngram_range': (5, 5), 'union__vec__vec__use_idf': 1}: [0.89096573 0.87164179 0.85893417 0.87272727 0.85106383]\n",
      "0.8160 (+/-0.012667232430087974) for {'nb__alpha': 1, 'union__vec__vec__max_features': 2000, 'union__vec__vec__ngram_range': (3, 5), 'union__vec__vec__use_idf': 0}: [0.79532164 0.82142857 0.81415929 0.86068111 0.78857143]\n",
      "0.7810 (+/-0.01059331375401996) for {'nb__alpha': 1, 'union__vec__vec__max_features': 2000, 'union__vec__vec__ngram_range': (3, 5), 'union__vec__vec__use_idf': 1}: [0.76111111 0.78735632 0.78531073 0.81524927 0.75616438]\n",
      "0.8310 (+/-0.006509185855977352) for {'nb__alpha': 1, 'union__vec__vec__max_features': 2000, 'union__vec__vec__ngram_range': (3, 4), 'union__vec__vec__use_idf': 0}: [0.82798834 0.83832335 0.8313253  0.84848485 0.80911681]\n",
      "0.8009 (+/-0.005746953878550755) for {'nb__alpha': 1, 'union__vec__vec__max_features': 2000, 'union__vec__vec__ngram_range': (3, 4), 'union__vec__vec__use_idf': 1}: [0.80222841 0.80938416 0.79190751 0.81632653 0.78453039]\n",
      "0.8684 (+/-0.009955930651449592) for {'nb__alpha': 1, 'union__vec__vec__max_features': 2500, 'union__vec__vec__ngram_range': (3, 3), 'union__vec__vec__use_idf': 0}: [0.85889571 0.89375    0.84244373 0.85714286 0.88958991]\n",
      "0.8436 (+/-0.010914615176338094) for {'nb__alpha': 1, 'union__vec__vec__max_features': 2500, 'union__vec__vec__ngram_range': (3, 3), 'union__vec__vec__use_idf': 1}: [0.83333333 0.88       0.81761006 0.83185841 0.85538462]\n",
      "0.8869 (+/-0.005002300530659259) for {'nb__alpha': 1, 'union__vec__vec__max_features': 2500, 'union__vec__vec__ngram_range': (4, 4), 'union__vec__vec__use_idf': 0}: [0.89240506 0.89440994 0.86984127 0.89655172 0.88145897]\n",
      "0.8612 (+/-0.007383560200772223) for {'nb__alpha': 1, 'union__vec__vec__max_features': 2500, 'union__vec__vec__ngram_range': (4, 4), 'union__vec__vec__use_idf': 1}: [0.88073394 0.86470588 0.84375    0.87195122 0.84457478]\n",
      "0.8917 (+/-0.006382025272093488) for {'nb__alpha': 1, 'union__vec__vec__max_features': 2500, 'union__vec__vec__ngram_range': (5, 5), 'union__vec__vec__use_idf': 0}: [0.91025641 0.89230769 0.88125    0.9        0.87461774]\n",
      "0.8779 (+/-0.006474473243261768) for {'nb__alpha': 1, 'union__vec__vec__max_features': 2500, 'union__vec__vec__ngram_range': (5, 5), 'union__vec__vec__use_idf': 1}: [0.89719626 0.87613293 0.86875    0.88685015 0.86060606]\n",
      "0.8207 (+/-0.00856847832998526) for {'nb__alpha': 1, 'union__vec__vec__max_features': 2500, 'union__vec__vec__ngram_range': (3, 5), 'union__vec__vec__use_idf': 0}: [0.8045977  0.82738095 0.81976744 0.84939759 0.80225989]\n",
      "0.7917 (+/-0.008030454296895384) for {'nb__alpha': 1, 'union__vec__vec__max_features': 2500, 'union__vec__vec__ngram_range': (3, 5), 'union__vec__vec__use_idf': 1}: [0.7679558  0.80466472 0.78651685 0.81395349 0.78571429]\n",
      "0.8436 (+/-0.005717720489124944) for {'nb__alpha': 1, 'union__vec__vec__max_features': 2500, 'union__vec__vec__ngram_range': (3, 4), 'union__vec__vec__use_idf': 0}: [0.85459941 0.85365854 0.8404908  0.84592145 0.82318841]\n",
      "0.8151 (+/-0.0026164935708649167) for {'nb__alpha': 1, 'union__vec__vec__max_features': 2500, 'union__vec__vec__ngram_range': (3, 4), 'union__vec__vec__use_idf': 1}: [0.82051282 0.81764706 0.80588235 0.8128655  0.8184438 ]\n",
      "0.8769 (+/-0.008784298147842743) for {'nb__alpha': 1, 'union__vec__vec__max_features': 3000, 'union__vec__vec__ngram_range': (3, 3), 'union__vec__vec__use_idf': 0}: [0.86956522 0.89937107 0.8488746  0.8757764  0.89096573]\n",
      "0.8582 (+/-0.010775290466127237) for {'nb__alpha': 1, 'union__vec__vec__max_features': 3000, 'union__vec__vec__ngram_range': (3, 3), 'union__vec__vec__use_idf': 1}: [0.84592145 0.89375    0.83544304 0.8440367  0.87195122]\n",
      "0.8898 (+/-0.005959122006423342) for {'nb__alpha': 1, 'union__vec__vec__max_features': 3000, 'union__vec__vec__ngram_range': (4, 4), 'union__vec__vec__use_idf': 0}: [0.9044586  0.88615385 0.87421384 0.90282132 0.88145897]\n",
      "0.8716 (+/-0.004525599774791251) for {'nb__alpha': 1, 'union__vec__vec__max_features': 3000, 'union__vec__vec__ngram_range': (4, 4), 'union__vec__vec__use_idf': 1}: [0.87461774 0.88023952 0.85893417 0.88125    0.86309524]\n",
      "0.8968 (+/-0.005668690413219475) for {'nb__alpha': 1, 'union__vec__vec__max_features': 3000, 'union__vec__vec__ngram_range': (5, 5), 'union__vec__vec__use_idf': 0}: [0.91318328 0.89230769 0.8974359  0.9022082  0.87878788]\n",
      "0.8779 (+/-0.005147957680140047) for {'nb__alpha': 1, 'union__vec__vec__max_features': 3000, 'union__vec__vec__ngram_range': (5, 5), 'union__vec__vec__use_idf': 1}: [0.8875     0.88145897 0.86335404 0.88888889 0.86826347]\n",
      "0.8249 (+/-0.003588111625820824) for {'nb__alpha': 1, 'union__vec__vec__max_features': 3000, 'union__vec__vec__ngram_range': (3, 5), 'union__vec__vec__use_idf': 0}: [0.8184438  0.82840237 0.82352941 0.83679525 0.81714286]\n",
      "0.8037 (+/-0.005165700897311649) for {'nb__alpha': 1, 'union__vec__vec__max_features': 3000, 'union__vec__vec__ngram_range': (3, 5), 'union__vec__vec__use_idf': 1}: [0.78688525 0.81049563 0.80691643 0.81632653 0.79778393]\n",
      "0.8429 (+/-0.0005652226621453697) for {'nb__alpha': 1, 'union__vec__vec__max_features': 3000, 'union__vec__vec__ngram_range': (3, 4), 'union__vec__vec__use_idf': 0}: [0.84117647 0.84431138 0.84210526 0.84337349 0.84365782]\n",
      "0.8181 (+/-0.0046928989066501) for {'nb__alpha': 1, 'union__vec__vec__max_features': 3000, 'union__vec__vec__ngram_range': (3, 4), 'union__vec__vec__use_idf': 1}: [0.82997118 0.82215743 0.80838323 0.8057971  0.82420749]\n",
      "0.8814 (+/-0.008220416454950799) for {'nb__alpha': 1, 'union__vec__vec__max_features': 3500, 'union__vec__vec__ngram_range': (3, 3), 'union__vec__vec__use_idf': 0}: [0.87774295 0.89937107 0.8534202  0.87974684 0.89655172]\n",
      "0.8660 (+/-0.01115293154450607) for {'nb__alpha': 1, 'union__vec__vec__max_features': 3500, 'union__vec__vec__ngram_range': (3, 3), 'union__vec__vec__use_idf': 1}: [0.84662577 0.9022082  0.84244373 0.85889571 0.88      ]\n",
      "0.8945 (+/-0.005180002403722051) for {'nb__alpha': 1, 'union__vec__vec__max_features': 3500, 'union__vec__vec__ngram_range': (4, 4), 'union__vec__vec__use_idf': 0}: [0.90095847 0.88888889 0.87820513 0.90851735 0.89570552]\n",
      "0.8783 (+/-0.007214167086715268) for {'nb__alpha': 1, 'union__vec__vec__max_features': 3500, 'union__vec__vec__ngram_range': (4, 4), 'union__vec__vec__use_idf': 1}: [0.87384615 0.89634146 0.85987261 0.89375    0.86746988]\n",
      "0.9033 (+/-0.006663227934309857) for {'nb__alpha': 1, 'union__vec__vec__max_features': 3500, 'union__vec__vec__ngram_range': (5, 5), 'union__vec__vec__use_idf': 0}: [0.91612903 0.89506173 0.90095847 0.9201278  0.88414634]\n",
      "0.8842 (+/-0.006659021587263356) for {'nb__alpha': 1, 'union__vec__vec__max_features': 3500, 'union__vec__vec__ngram_range': (5, 5), 'union__vec__vec__use_idf': 1}: [0.90282132 0.87804878 0.87261146 0.89719626 0.87009063]\n",
      "0.8359 (+/-0.003407889354533183) for {'nb__alpha': 1, 'union__vec__vec__max_features': 3500, 'union__vec__vec__ngram_range': (3, 5), 'union__vec__vec__use_idf': 0}: [0.82898551 0.83928571 0.84592145 0.83775811 0.82758621]\n",
      "0.8120 (+/-0.003224513715281363) for {'nb__alpha': 1, 'union__vec__vec__max_features': 3500, 'union__vec__vec__ngram_range': (3, 5), 'union__vec__vec__use_idf': 1}: [0.81355932 0.8173913  0.820059   0.8045977  0.80446927]\n",
      "0.8555 (+/-0.003996280771516803) for {'nb__alpha': 1, 'union__vec__vec__max_features': 3500, 'union__vec__vec__ngram_range': (3, 4), 'union__vec__vec__use_idf': 0}: [0.85628743 0.86666667 0.84210526 0.85365854 0.85885886]\n",
      "0.8298 (+/-0.00687293952403483) for {'nb__alpha': 1, 'union__vec__vec__max_features': 3500, 'union__vec__vec__ngram_range': (3, 4), 'union__vec__vec__use_idf': 1}: [0.8255814  0.84795322 0.80851064 0.8259587  0.84117647]\n",
      "0.8867 (+/-0.007224232783526671) for {'nb__alpha': 1, 'union__vec__vec__max_features': 4000, 'union__vec__vec__ngram_range': (3, 3), 'union__vec__vec__use_idf': 0}: [0.88607595 0.9015873  0.85993485 0.88958991 0.89655172]\n",
      "0.8688 (+/-0.011479284684244797) for {'nb__alpha': 1, 'union__vec__vec__max_features': 4000, 'union__vec__vec__ngram_range': (3, 3), 'union__vec__vec__use_idf': 1}: [0.86068111 0.89240506 0.83225806 0.86419753 0.89440994]\n",
      "0.8978 (+/-0.005833752711358663) for {'nb__alpha': 1, 'union__vec__vec__max_features': 4000, 'union__vec__vec__ngram_range': (4, 4), 'union__vec__vec__use_idf': 0}: [0.91082803 0.89783282 0.87741935 0.90734824 0.89570552]\n",
      "0.8832 (+/-0.005803302536240327) for {'nb__alpha': 1, 'union__vec__vec__max_features': 4000, 'union__vec__vec__ngram_range': (4, 4), 'union__vec__vec__use_idf': 1}: [0.88819876 0.89506173 0.86451613 0.89308176 0.87537994]\n",
      "0.9057 (+/-0.007153247761443471) for {'nb__alpha': 1, 'union__vec__vec__max_features': 4000, 'union__vec__vec__ngram_range': (5, 5), 'union__vec__vec__use_idf': 0}: [0.92307692 0.89506173 0.90909091 0.91719745 0.88414634]\n",
      "0.8860 (+/-0.007515258250451612) for {'nb__alpha': 1, 'union__vec__vec__max_features': 4000, 'union__vec__vec__ngram_range': (5, 5), 'union__vec__vec__use_idf': 1}: [0.9022082  0.87804878 0.88817891 0.9        0.86144578]\n",
      "0.8339 (+/-0.004263593999572335) for {'nb__alpha': 1, 'union__vec__vec__max_features': 4000, 'union__vec__vec__ngram_range': (3, 5), 'union__vec__vec__use_idf': 0}: [0.81976744 0.83928571 0.83383686 0.8452381  0.83139535]\n",
      "0.8057 (+/-0.0029534412356541752) for {'nb__alpha': 1, 'union__vec__vec__max_features': 4000, 'union__vec__vec__ngram_range': (3, 5), 'union__vec__vec__use_idf': 1}: [0.80681818 0.80802292 0.80466472 0.79545455 0.81355932]\n",
      "0.8585 (+/-0.00621756582423171) for {'nb__alpha': 1, 'union__vec__vec__max_features': 4000, 'union__vec__vec__ngram_range': (3, 4), 'union__vec__vec__use_idf': 0}: [0.85885886 0.87537994 0.83692308 0.85800604 0.86322188]\n",
      "0.8376 (+/-0.005385666313968517) for {'nb__alpha': 1, 'union__vec__vec__max_features': 4000, 'union__vec__vec__ngram_range': (3, 4), 'union__vec__vec__use_idf': 1}: [0.84365782 0.85043988 0.81846154 0.83529412 0.84023669]\n",
      "0.8589 (+/-0.010396301850373208) for {'nb__alpha': 5, 'union__vec__vec__max_features': 2000, 'union__vec__vec__ngram_range': (3, 3), 'union__vec__vec__use_idf': 0}: [0.8597561  0.88198758 0.83018868 0.84146341 0.88125   ]\n",
      "0.8329 (+/-0.013068788426203569) for {'nb__alpha': 5, 'union__vec__vec__max_features': 2000, 'union__vec__vec__ngram_range': (3, 3), 'union__vec__vec__use_idf': 1}: [0.83529412 0.85628743 0.79878049 0.80813953 0.86585366]\n",
      "0.8884 (+/-0.008270614235425749) for {'nb__alpha': 5, 'union__vec__vec__max_features': 2000, 'union__vec__vec__ngram_range': (4, 4), 'union__vec__vec__use_idf': 0}: [0.89308176 0.88685015 0.86335404 0.9148265  0.88414634]\n",
      "0.8445 (+/-0.00789567423051822) for {'nb__alpha': 5, 'union__vec__vec__max_features': 2000, 'union__vec__vec__ngram_range': (4, 4), 'union__vec__vec__use_idf': 1}: [0.85970149 0.84971098 0.82634731 0.86144578 0.8252149 ]\n",
      "0.8954 (+/-0.006291165496776947) for {'nb__alpha': 5, 'union__vec__vec__max_features': 2000, 'union__vec__vec__ngram_range': (5, 5), 'union__vec__vec__use_idf': 0}: [0.90032154 0.88819876 0.88253968 0.91772152 0.88819876]\n",
      "0.8616 (+/-0.0050180877409380775) for {'nb__alpha': 5, 'union__vec__vec__max_features': 2000, 'union__vec__vec__ngram_range': (5, 5), 'union__vec__vec__use_idf': 1}: [0.87461774 0.86390533 0.85538462 0.86826347 0.84592145]\n",
      "0.8140 (+/-0.013022789047859935) for {'nb__alpha': 5, 'union__vec__vec__max_features': 2000, 'union__vec__vec__ngram_range': (3, 5), 'union__vec__vec__use_idf': 0}: [0.79069767 0.82882883 0.8057971  0.85714286 0.78753541]\n",
      "0.7791 (+/-0.012884011090622679) for {'nb__alpha': 5, 'union__vec__vec__max_features': 2000, 'union__vec__vec__ngram_range': (3, 5), 'union__vec__vec__use_idf': 1}: [0.75690608 0.78857143 0.78089888 0.82111437 0.74796748]\n",
      "0.8272 (+/-0.0077573666014088705) for {'nb__alpha': 5, 'union__vec__vec__max_features': 2000, 'union__vec__vec__ngram_range': (3, 4), 'union__vec__vec__use_idf': 0}: [0.81948424 0.84084084 0.8115942  0.8502994  0.81375358]\n",
      "0.7964 (+/-0.005583569487642554) for {'nb__alpha': 5, 'union__vec__vec__max_features': 2000, 'union__vec__vec__ngram_range': (3, 4), 'union__vec__vec__use_idf': 1}: [0.7890411  0.8128655  0.7977208  0.80229226 0.78021978]\n",
      "0.8649 (+/-0.011645106451417996) for {'nb__alpha': 5, 'union__vec__vec__max_features': 2500, 'union__vec__vec__ngram_range': (3, 3), 'union__vec__vec__use_idf': 0}: [0.86956522 0.8875     0.82539683 0.85448916 0.8875    ]\n",
      "0.8399 (+/-0.009191657793281002) for {'nb__alpha': 5, 'union__vec__vec__max_features': 2500, 'union__vec__vec__ngram_range': (3, 3), 'union__vec__vec__use_idf': 1}: [0.83086053 0.86666667 0.81619938 0.83040936 0.85538462]\n",
      "0.8925 (+/-0.004866125416085171) for {'nb__alpha': 5, 'union__vec__vec__max_features': 2500, 'union__vec__vec__ngram_range': (4, 4), 'union__vec__vec__use_idf': 0}: [0.89308176 0.89506173 0.87697161 0.90734824 0.8902439 ]\n",
      "0.8510 (+/-0.006818266106604155) for {'nb__alpha': 5, 'union__vec__vec__max_features': 2500, 'union__vec__vec__ngram_range': (4, 4), 'union__vec__vec__use_idf': 1}: [0.86850153 0.85465116 0.83076923 0.86060606 0.84057971]\n",
      "0.8967 (+/-0.006916527034576996) for {'nb__alpha': 5, 'union__vec__vec__max_features': 2500, 'union__vec__vec__ngram_range': (5, 5), 'union__vec__vec__use_idf': 0}: [0.90322581 0.89096573 0.88607595 0.92063492 0.88271605]\n",
      "0.8691 (+/-0.004387874576730906) for {'nb__alpha': 5, 'union__vec__vec__max_features': 2500, 'union__vec__vec__ngram_range': (5, 5), 'union__vec__vec__use_idf': 1}: [0.87804878 0.86904762 0.86419753 0.87878788 0.85542169]\n",
      "0.8161 (+/-0.010552679342010556) for {'nb__alpha': 5, 'union__vec__vec__max_features': 2500, 'union__vec__vec__ngram_range': (3, 5), 'union__vec__vec__use_idf': 0}: [0.79202279 0.83832335 0.80113636 0.84431138 0.80453258]\n",
      "0.7879 (+/-0.00843739679320086) for {'nb__alpha': 5, 'union__vec__vec__max_features': 2500, 'union__vec__vec__ngram_range': (3, 5), 'union__vec__vec__use_idf': 1}: [0.76584022 0.8057971  0.79108635 0.80571429 0.77088949]\n",
      "0.8357 (+/-0.00372195141891945) for {'nb__alpha': 5, 'union__vec__vec__max_features': 2500, 'union__vec__vec__ngram_range': (3, 4), 'union__vec__vec__use_idf': 0}: [0.8372093  0.8358209  0.82882883 0.84866469 0.82798834]\n",
      "0.8076 (+/-0.002750592786399733) for {'nb__alpha': 5, 'union__vec__vec__max_features': 2500, 'union__vec__vec__ngram_range': (3, 4), 'union__vec__vec__use_idf': 1}: [0.81355932 0.81395349 0.8        0.80346821 0.80681818]\n",
      "0.8692 (+/-0.01130836080512215) for {'nb__alpha': 5, 'union__vec__vec__max_features': 3000, 'union__vec__vec__ngram_range': (3, 3), 'union__vec__vec__use_idf': 0}: [0.86604361 0.89028213 0.83067093 0.86520376 0.89375   ]\n",
      "0.8525 (+/-0.010985119730473142) for {'nb__alpha': 5, 'union__vec__vec__max_features': 3000, 'union__vec__vec__ngram_range': (3, 3), 'union__vec__vec__use_idf': 1}: [0.84592145 0.88271605 0.82242991 0.83928571 0.87195122]\n",
      "0.8981 (+/-0.0057813838878299564) for {'nb__alpha': 5, 'union__vec__vec__max_features': 3000, 'union__vec__vec__ngram_range': (4, 4), 'union__vec__vec__use_idf': 0}: [0.91025641 0.88819876 0.88607595 0.91373802 0.89230769]\n",
      "0.8705 (+/-0.005735189151482487) for {'nb__alpha': 5, 'union__vec__vec__max_features': 3000, 'union__vec__vec__ngram_range': (4, 4), 'union__vec__vec__use_idf': 1}: [0.87878788 0.87240356 0.85981308 0.88615385 0.85545723]\n",
      "0.9002 (+/-0.0072258568860943196) for {'nb__alpha': 5, 'union__vec__vec__max_features': 3000, 'union__vec__vec__ngram_range': (5, 5), 'union__vec__vec__use_idf': 0}: [0.90909091 0.89375    0.89171975 0.92356688 0.88271605]\n",
      "0.8728 (+/-0.004371964061513859) for {'nb__alpha': 5, 'union__vec__vec__max_features': 3000, 'union__vec__vec__ngram_range': (5, 5), 'union__vec__vec__use_idf': 1}: [0.87306502 0.87687688 0.86419753 0.88685015 0.86309524]\n",
      "0.8192 (+/-0.006346028032771032) for {'nb__alpha': 5, 'union__vec__vec__max_features': 3000, 'union__vec__vec__ngram_range': (3, 5), 'union__vec__vec__use_idf': 0}: [0.80802292 0.8259587  0.81632653 0.84023669 0.8056338 ]\n",
      "0.7971 (+/-0.004908918554479933) for {'nb__alpha': 5, 'union__vec__vec__max_features': 3000, 'union__vec__vec__ngram_range': (3, 5), 'union__vec__vec__use_idf': 1}: [0.78590786 0.8115942  0.79096045 0.80571429 0.79120879]\n",
      "0.8445 (+/-0.005055719511192757) for {'nb__alpha': 5, 'union__vec__vec__max_features': 3000, 'union__vec__vec__ngram_range': (3, 4), 'union__vec__vec__use_idf': 0}: [0.84365782 0.85196375 0.82674772 0.85628743 0.84365782]\n",
      "0.8133 (+/-0.004586636942363731) for {'nb__alpha': 5, 'union__vec__vec__max_features': 3000, 'union__vec__vec__ngram_range': (3, 4), 'union__vec__vec__use_idf': 1}: [0.82621083 0.81034483 0.8        0.80924855 0.82051282]\n",
      "0.8759 (+/-0.009770794254522474) for {'nb__alpha': 5, 'union__vec__vec__max_features': 3500, 'union__vec__vec__ngram_range': (3, 3), 'union__vec__vec__use_idf': 0}: [0.87697161 0.89873418 0.84142395 0.87261146 0.88958991]\n",
      "0.8559 (+/-0.011120223858369813) for {'nb__alpha': 5, 'union__vec__vec__max_features': 3500, 'union__vec__vec__ngram_range': (3, 3), 'union__vec__vec__use_idf': 1}: [0.84146341 0.88819876 0.82758621 0.84756098 0.87461774]\n",
      "0.8982 (+/-0.004407105267014228) for {'nb__alpha': 5, 'union__vec__vec__max_features': 3500, 'union__vec__vec__ngram_range': (4, 4), 'union__vec__vec__use_idf': 0}: [0.90384615 0.89655172 0.88461538 0.91082803 0.89506173]\n",
      "0.8716 (+/-0.005253971863055724) for {'nb__alpha': 5, 'union__vec__vec__max_features': 3500, 'union__vec__vec__ngram_range': (4, 4), 'union__vec__vec__use_idf': 1}: [0.87195122 0.88288288 0.86163522 0.88343558 0.85798817]\n",
      "0.9085 (+/-0.006701619478971505) for {'nb__alpha': 5, 'union__vec__vec__max_features': 3500, 'union__vec__vec__ngram_range': (5, 5), 'union__vec__vec__use_idf': 0}: [0.91205212 0.90851735 0.8961039  0.93159609 0.89440994]\n",
      "0.8764 (+/-0.006963892913980609) for {'nb__alpha': 5, 'union__vec__vec__max_features': 3500, 'union__vec__vec__ngram_range': (5, 5), 'union__vec__vec__use_idf': 1}: [0.89096573 0.87009063 0.86335404 0.89506173 0.86227545]\n",
      "0.8321 (+/-0.0038814498898666156) for {'nb__alpha': 5, 'union__vec__vec__max_features': 3500, 'union__vec__vec__ngram_range': (3, 5), 'union__vec__vec__use_idf': 0}: [0.82898551 0.84431138 0.82111437 0.83625731 0.82997118]\n",
      "0.8069 (+/-0.0031246277740892094) for {'nb__alpha': 5, 'union__vec__vec__max_features': 3500, 'union__vec__vec__ngram_range': (3, 5), 'union__vec__vec__use_idf': 1}: [0.8033241  0.81375358 0.8150289  0.8        0.80222841]\n",
      "0.8504 (+/-0.005301923758221165) for {'nb__alpha': 5, 'union__vec__vec__max_features': 3500, 'union__vec__vec__ngram_range': (3, 4), 'union__vec__vec__use_idf': 0}: [0.8452381  0.86666667 0.83435583 0.85196375 0.85373134]\n",
      "0.8271 (+/-0.005366387199212399) for {'nb__alpha': 5, 'union__vec__vec__max_features': 3500, 'union__vec__vec__ngram_range': (3, 4), 'union__vec__vec__use_idf': 1}: [0.82898551 0.83573487 0.80838323 0.82352941 0.83870968]\n",
      "0.8800 (+/-0.008208060207524025) for {'nb__alpha': 5, 'union__vec__vec__max_features': 4000, 'union__vec__vec__ngram_range': (3, 3), 'union__vec__vec__use_idf': 0}: [0.88253968 0.89456869 0.85064935 0.87619048 0.89589905]\n",
      "0.8653 (+/-0.010865352633600424) for {'nb__alpha': 5, 'union__vec__vec__max_features': 4000, 'union__vec__vec__ngram_range': (3, 3), 'union__vec__vec__use_idf': 1}: [0.85276074 0.89308176 0.83809524 0.85365854 0.88888889]\n",
      "0.9018 (+/-0.005803190613081734) for {'nb__alpha': 5, 'union__vec__vec__max_features': 4000, 'union__vec__vec__ngram_range': (4, 4), 'union__vec__vec__use_idf': 0}: [0.90734824 0.90851735 0.88673139 0.91666667 0.88957055]\n",
      "0.8781 (+/-0.008481454600143056) for {'nb__alpha': 5, 'union__vec__vec__max_features': 4000, 'union__vec__vec__ngram_range': (4, 4), 'union__vec__vec__use_idf': 1}: [0.89164087 0.89296636 0.85443038 0.89096573 0.86053412]\n",
      "0.9118 (+/-0.00675634815184192) for {'nb__alpha': 5, 'union__vec__vec__max_features': 4000, 'union__vec__vec__ngram_range': (5, 5), 'union__vec__vec__use_idf': 0}: [0.91856678 0.90566038 0.8990228  0.93506494 0.90062112]\n",
      "0.8828 (+/-0.008238533552464178) for {'nb__alpha': 5, 'union__vec__vec__max_features': 4000, 'union__vec__vec__ngram_range': (5, 5), 'union__vec__vec__use_idf': 1}: [0.90625    0.87349398 0.87421384 0.89783282 0.86227545]\n",
      "0.8373 (+/-0.0033330848437774082) for {'nb__alpha': 5, 'union__vec__vec__max_features': 4000, 'union__vec__vec__ngram_range': (3, 5), 'union__vec__vec__use_idf': 0}: [0.83139535 0.84684685 0.82840237 0.84117647 0.83870968]\n",
      "0.8029 (+/-0.0031979042988804544) for {'nb__alpha': 5, 'union__vec__vec__max_features': 4000, 'union__vec__vec__ngram_range': (3, 5), 'union__vec__vec__use_idf': 1}: [0.80898876 0.80571429 0.79310345 0.79775281 0.80898876]\n",
      "0.8553 (+/-0.007415829881108111) for {'nb__alpha': 5, 'union__vec__vec__max_features': 4000, 'union__vec__vec__ngram_range': (3, 4), 'union__vec__vec__use_idf': 0}: [0.85885886 0.87009063 0.82822086 0.85285285 0.86666667]\n",
      "0.8344 (+/-0.003269667093005304) for {'nb__alpha': 5, 'union__vec__vec__max_features': 4000, 'union__vec__vec__ngram_range': (3, 4), 'union__vec__vec__use_idf': 1}: [0.84302326 0.83573487 0.82424242 0.83040936 0.83870968]\n",
      "0.8616 (+/-0.01099867734213116) for {'nb__alpha': 10, 'union__vec__vec__max_features': 2000, 'union__vec__vec__ngram_range': (3, 3), 'union__vec__vec__use_idf': 0}: [0.8625     0.87850467 0.82315113 0.85714286 0.88679245]\n",
      "0.8264 (+/-0.012062234861679651) for {'nb__alpha': 10, 'union__vec__vec__max_features': 2000, 'union__vec__vec__ngram_range': (3, 3), 'union__vec__vec__use_idf': 1}: [0.83040936 0.85119048 0.79393939 0.80346821 0.85285285]\n",
      "0.8947 (+/-0.007014850110072403) for {'nb__alpha': 10, 'union__vec__vec__max_features': 2000, 'union__vec__vec__ngram_range': (4, 4), 'union__vec__vec__use_idf': 0}: [0.90196078 0.88819876 0.87341772 0.91558442 0.89440994]\n",
      "0.8380 (+/-0.008799876512802857) for {'nb__alpha': 10, 'union__vec__vec__max_features': 2000, 'union__vec__vec__ngram_range': (4, 4), 'union__vec__vec__use_idf': 1}: [0.84615385 0.84971098 0.81415929 0.85970149 0.82051282]\n",
      "0.8990 (+/-0.009740824971562543) for {'nb__alpha': 10, 'union__vec__vec__max_features': 2000, 'union__vec__vec__ngram_range': (5, 5), 'union__vec__vec__use_idf': 0}: [0.89333333 0.89456869 0.87662338 0.93548387 0.8952381 ]\n",
      "0.8603 (+/-0.005374289474588021) for {'nb__alpha': 10, 'union__vec__vec__max_features': 2000, 'union__vec__vec__ngram_range': (5, 5), 'union__vec__vec__use_idf': 1}: [0.87195122 0.86135693 0.85106383 0.87164179 0.8452381 ]\n",
      "0.8120 (+/-0.012097974652588467) for {'nb__alpha': 10, 'union__vec__vec__max_features': 2000, 'union__vec__vec__ngram_range': (3, 5), 'union__vec__vec__use_idf': 0}: [0.79532164 0.82282282 0.79885057 0.85454545 0.78857143]\n",
      "0.7761 (+/-0.01223263146478646) for {'nb__alpha': 10, 'union__vec__vec__max_features': 2000, 'union__vec__vec__ngram_range': (3, 5), 'union__vec__vec__use_idf': 1}: [0.75824176 0.78632479 0.77437326 0.81632653 0.74530831]\n",
      "0.8296 (+/-0.009700135013647464) for {'nb__alpha': 10, 'union__vec__vec__max_features': 2000, 'union__vec__vec__ngram_range': (3, 4), 'union__vec__vec__use_idf': 0}: [0.81395349 0.84337349 0.80938416 0.86060606 0.82080925]\n",
      "0.7911 (+/-0.005273512911673395) for {'nb__alpha': 10, 'union__vec__vec__max_features': 2000, 'union__vec__vec__ngram_range': (3, 4), 'union__vec__vec__use_idf': 1}: [0.7826087  0.80346821 0.79213483 0.80113636 0.77595628]\n",
      "0.8691 (+/-0.009805151544872522) for {'nb__alpha': 10, 'union__vec__vec__max_features': 2500, 'union__vec__vec__ngram_range': (3, 3), 'union__vec__vec__use_idf': 0}: [0.86984127 0.88888889 0.83225806 0.87261146 0.88178914]\n",
      "0.8343 (+/-0.009606109798692765) for {'nb__alpha': 10, 'union__vec__vec__max_features': 2500, 'union__vec__vec__ngram_range': (3, 3), 'union__vec__vec__use_idf': 1}: [0.8259587  0.85885886 0.80615385 0.82798834 0.85276074]\n",
      "0.9036 (+/-0.005989109191240987) for {'nb__alpha': 10, 'union__vec__vec__max_features': 2500, 'union__vec__vec__ngram_range': (4, 4), 'union__vec__vec__use_idf': 0}: [0.9025974  0.90506329 0.88387097 0.92156863 0.90506329]\n",
      "0.8496 (+/-0.00819680019678439) for {'nb__alpha': 10, 'union__vec__vec__max_features': 2500, 'union__vec__vec__ngram_range': (4, 4), 'union__vec__vec__use_idf': 1}: [0.86666667 0.85714286 0.82674772 0.86404834 0.83333333]\n",
      "0.9100 (+/-0.009837426363227878) for {'nb__alpha': 10, 'union__vec__vec__max_features': 2500, 'union__vec__vec__ngram_range': (5, 5), 'union__vec__vec__use_idf': 0}: [0.92307692 0.90322581 0.8852459  0.94078947 0.8974359 ]\n",
      "0.8623 (+/-0.0060614103858107615) for {'nb__alpha': 10, 'union__vec__vec__max_features': 2500, 'union__vec__vec__ngram_range': (5, 5), 'union__vec__vec__use_idf': 1}: [0.87272727 0.86646884 0.85106383 0.87613293 0.8452381 ]\n",
      "0.8211 (+/-0.012133098295875491) for {'nb__alpha': 10, 'union__vec__vec__max_features': 2500, 'union__vec__vec__ngram_range': (3, 5), 'union__vec__vec__use_idf': 0}: [0.79190751 0.8358209  0.80802292 0.86060606 0.80911681]\n",
      "0.7827 (+/-0.009339446517839502) for {'nb__alpha': 10, 'union__vec__vec__max_features': 2500, 'union__vec__vec__ngram_range': (3, 5), 'union__vec__vec__use_idf': 1}: [0.75675676 0.80346821 0.78453039 0.80225989 0.76675603]\n",
      "0.8402 (+/-0.0041381302312031715) for {'nb__alpha': 10, 'union__vec__vec__max_features': 2500, 'union__vec__vec__ngram_range': (3, 4), 'union__vec__vec__use_idf': 0}: [0.8452381  0.84337349 0.82674772 0.8502994  0.83529412]\n",
      "0.8066 (+/-0.0035473521573943395) for {'nb__alpha': 10, 'union__vec__vec__max_features': 2500, 'union__vec__vec__ngram_range': (3, 4), 'union__vec__vec__use_idf': 1}: [0.81355932 0.80924855 0.79310345 0.81034483 0.80681818]\n",
      "0.8668 (+/-0.010228975791341065) for {'nb__alpha': 10, 'union__vec__vec__max_features': 3000, 'union__vec__vec__ngram_range': (3, 3), 'union__vec__vec__use_idf': 0}: [0.86261981 0.88673139 0.83006536 0.87012987 0.88461538]\n",
      "0.8502 (+/-0.01018521747122252) for {'nb__alpha': 10, 'union__vec__vec__max_features': 3000, 'union__vec__vec__ngram_range': (3, 3), 'union__vec__vec__use_idf': 1}: [0.8452381  0.87730061 0.82242991 0.83679525 0.86930091]\n",
      "0.9111 (+/-0.0055199057103697356) for {'nb__alpha': 10, 'union__vec__vec__max_features': 3000, 'union__vec__vec__ngram_range': (4, 4), 'union__vec__vec__use_idf': 0}: [0.9205298  0.90793651 0.89836066 0.92715232 0.9015873 ]\n",
      "0.8627 (+/-0.0066010500258008534) for {'nb__alpha': 10, 'union__vec__vec__max_features': 3000, 'union__vec__vec__ngram_range': (4, 4), 'union__vec__vec__use_idf': 1}: [0.87349398 0.86725664 0.8440367  0.87804878 0.85043988]\n",
      "0.9150 (+/-0.009052332275098482) for {'nb__alpha': 10, 'union__vec__vec__max_features': 3000, 'union__vec__vec__ngram_range': (5, 5), 'union__vec__vec__use_idf': 0}: [0.92255892 0.91558442 0.88963211 0.94352159 0.90384615]\n",
      "0.8696 (+/-0.0053907106888271515) for {'nb__alpha': 10, 'union__vec__vec__max_features': 3000, 'union__vec__vec__ngram_range': (5, 5), 'union__vec__vec__use_idf': 1}: [0.87850467 0.86904762 0.86153846 0.88414634 0.85459941]\n",
      "0.8247 (+/-0.006444481673490128) for {'nb__alpha': 10, 'union__vec__vec__max_features': 3000, 'union__vec__vec__ngram_range': (3, 5), 'union__vec__vec__use_idf': 0}: [0.80924855 0.8259587  0.82352941 0.84776119 0.81714286]\n",
      "0.7912 (+/-0.005541836870633839) for {'nb__alpha': 10, 'union__vec__vec__max_features': 3000, 'union__vec__vec__ngram_range': (3, 5), 'union__vec__vec__use_idf': 1}: [0.78378378 0.80924855 0.79213483 0.7943662  0.77628032]\n",
      "0.8512 (+/-0.006501421829528178) for {'nb__alpha': 10, 'union__vec__vec__max_features': 3000, 'union__vec__vec__ngram_range': (3, 4), 'union__vec__vec__use_idf': 0}: [0.85542169 0.86238532 0.82568807 0.85626911 0.85628743]\n",
      "0.8100 (+/-0.004852310359558148) for {'nb__alpha': 10, 'union__vec__vec__max_features': 3000, 'union__vec__vec__ngram_range': (3, 4), 'union__vec__vec__use_idf': 1}: [0.82485876 0.80802292 0.79651163 0.80453258 0.81586402]\n",
      "0.8641 (+/-0.010222830492286526) for {'nb__alpha': 10, 'union__vec__vec__max_features': 3500, 'union__vec__vec__ngram_range': (3, 3), 'union__vec__vec__use_idf': 0}: [0.85623003 0.88961039 0.82943144 0.86842105 0.87662338]\n",
      "0.8473 (+/-0.010325377265327352) for {'nb__alpha': 10, 'union__vec__vec__max_features': 3500, 'union__vec__vec__ngram_range': (3, 3), 'union__vec__vec__use_idf': 1}: [0.8373494  0.87730061 0.82352941 0.83233533 0.86585366]\n",
      "0.9120 (+/-0.0045612459874203246) for {'nb__alpha': 10, 'union__vec__vec__max_features': 3500, 'union__vec__vec__ngram_range': (4, 4), 'union__vec__vec__use_idf': 0}: [0.92358804 0.91262136 0.89932886 0.92       0.9044586 ]\n",
      "0.8699 (+/-0.005417988779589841) for {'nb__alpha': 10, 'union__vec__vec__max_features': 3500, 'union__vec__vec__ngram_range': (4, 4), 'union__vec__vec__use_idf': 1}: [0.87384615 0.87761194 0.85893417 0.88343558 0.85545723]\n",
      "0.9205 (+/-0.009274076862664774) for {'nb__alpha': 10, 'union__vec__vec__max_features': 3500, 'union__vec__vec__ngram_range': (5, 5), 'union__vec__vec__use_idf': 0}: [0.93197279 0.92715232 0.88659794 0.94       0.91666667]\n",
      "0.8740 (+/-0.0062471447372820215) for {'nb__alpha': 10, 'union__vec__vec__max_features': 3500, 'union__vec__vec__ngram_range': (5, 5), 'union__vec__vec__use_idf': 1}: [0.89096573 0.86826347 0.86335404 0.88685015 0.86053412]\n",
      "0.8399 (+/-0.0030290209531112) for {'nb__alpha': 10, 'union__vec__vec__max_features': 3500, 'union__vec__vec__ngram_range': (3, 5), 'union__vec__vec__use_idf': 0}: [0.83284457 0.84684685 0.83233533 0.84365782 0.84365782]\n",
      "0.8019 (+/-0.0029722194807648146) for {'nb__alpha': 10, 'union__vec__vec__max_features': 3500, 'union__vec__vec__ngram_range': (3, 5), 'union__vec__vec__use_idf': 1}: [0.7967033  0.81142857 0.80571429 0.79551821 0.8       ]\n",
      "0.8576 (+/-0.007220688680636957) for {'nb__alpha': 10, 'union__vec__vec__max_features': 3500, 'union__vec__vec__ngram_range': (3, 4), 'union__vec__vec__use_idf': 0}: [0.85800604 0.87116564 0.83076923 0.85893417 0.86930091]\n",
      "0.8196 (+/-0.006702108777792857) for {'nb__alpha': 10, 'union__vec__vec__max_features': 3500, 'union__vec__vec__ngram_range': (3, 4), 'union__vec__vec__use_idf': 1}: [0.8252149  0.83333333 0.79881657 0.80924855 0.83139535]\n",
      "0.8679 (+/-0.006351013527383033) for {'nb__alpha': 10, 'union__vec__vec__max_features': 4000, 'union__vec__vec__ngram_range': (3, 3), 'union__vec__vec__use_idf': 0}: [0.8627451  0.87868852 0.84536082 0.87417219 0.87868852]\n",
      "0.8577 (+/-0.010769802834837857) for {'nb__alpha': 10, 'union__vec__vec__max_features': 4000, 'union__vec__vec__ngram_range': (3, 3), 'union__vec__vec__use_idf': 1}: [0.84756098 0.88819876 0.83280757 0.84179104 0.87804878]\n",
      "0.9151 (+/-0.0073747314130263785) for {'nb__alpha': 10, 'union__vec__vec__max_features': 4000, 'union__vec__vec__ngram_range': (4, 4), 'union__vec__vec__use_idf': 0}: [0.93288591 0.91503268 0.88813559 0.91946309 0.9201278 ]\n",
      "0.8750 (+/-0.008392135597416348) for {'nb__alpha': 10, 'union__vec__vec__max_features': 4000, 'union__vec__vec__ngram_range': (4, 4), 'union__vec__vec__use_idf': 1}: [0.88888889 0.89090909 0.85625    0.88615385 0.85294118]\n",
      "0.9157 (+/-0.00905180875754653) for {'nb__alpha': 10, 'union__vec__vec__max_features': 4000, 'union__vec__vec__ngram_range': (5, 5), 'union__vec__vec__use_idf': 0}: [0.93197279 0.91638796 0.88501742 0.93559322 0.90967742]\n",
      "0.8796 (+/-0.006938734310030181) for {'nb__alpha': 10, 'union__vec__vec__max_features': 4000, 'union__vec__vec__ngram_range': (5, 5), 'union__vec__vec__use_idf': 1}: [0.9        0.87164179 0.87147335 0.89164087 0.86309524]\n",
      "0.8421 (+/-0.003958430290339486) for {'nb__alpha': 10, 'union__vec__vec__max_features': 4000, 'union__vec__vec__ngram_range': (3, 5), 'union__vec__vec__use_idf': 0}: [0.84615385 0.84684685 0.82634731 0.8452381  0.84615385]\n",
      "0.7993 (+/-0.0023827142279632574) for {'nb__alpha': 10, 'union__vec__vec__max_features': 4000, 'union__vec__vec__ngram_range': (3, 5), 'union__vec__vec__use_idf': 1}: [0.8033241  0.80113636 0.79202279 0.79551821 0.80446927]\n",
      "0.8559 (+/-0.00868524223532466) for {'nb__alpha': 10, 'union__vec__vec__max_features': 4000, 'union__vec__vec__ngram_range': (3, 4), 'union__vec__vec__use_idf': 0}: [0.85626911 0.87925697 0.82822086 0.84829721 0.86769231]\n",
      "0.8283 (+/-0.0046290157631749) for {'nb__alpha': 10, 'union__vec__vec__max_features': 4000, 'union__vec__vec__ngram_range': (3, 4), 'union__vec__vec__use_idf': 1}: [0.84057971 0.82857143 0.8119403  0.82898551 0.83139535]\n"
     ]
    }
   ],
   "source": [
    "grid_tf = {\"union__vec__vec__use_idf\": [0, 1],\n",
    "           \"union__vec__vec__ngram_range\": [(3,3), (4,4), (5,5), (3,5), (3,4)],\n",
    "           \"union__vec__vec__max_features\": range(2000, 4500, 500)}\n",
    "best = []\n",
    "best_score = []\n",
    "grid = \"grid_s\"\n",
    "for i in range(len(pipes)):\n",
    "    pipe = pipes[i]\n",
    "\n",
    "    print(f\"Hypertuning model {i+1} out of {len(pipes)}: {pipe.name}\")\n",
    "    print(\"================================================================================\")\n",
    "\n",
    "    this_grid = getattr(pipe.steps[-1][1], grid)\n",
    "    this_grid.update(grid_tf)\n",
    "    gs = GridSearchCV(pipe, this_grid, scoring=\"f1\", cv=cv_splitter, n_jobs=-1, verbose=False)\n",
    "    model = gs.fit(X, y)\n",
    "\n",
    "    print(f\"Best score on training set (CV): {gs.best_score_:0.3f}\" )\n",
    "    print(\"Best parameters set:\")\n",
    "    best_parameters = gs.best_estimator_.get_params()\n",
    "    for param_name in sorted(this_grid.keys()):\n",
    "        print(f\"\\t{param_name}: {best_parameters[param_name]}\")\n",
    "\n",
    "    for params, mean_score, scores in gs.grid_scores_:\n",
    "        print(f\"{mean_score:0.4f} (+/-{scores.std() / 2}) for {params}: {scores}\")\n",
    "\n",
    "    # Assess and predict (validation error etc.)\n",
    "#     print \"\\nPredict: \"\n",
    "#     yp_val = model.predict(X_val)\n",
    "#     diff = y_val - yp_val\n",
    "#     print \"Auroc val:\", auroc(y_val, yp_val)\n",
    "#     print classification_report(y_val, yp_val)\n",
    "#     metrics.confusion_matrix\n",
    "\n",
    "#     best.append(gs.best_estimator_)\n",
    "#     print \"10-fold cross-validation of best instance on whole set...\"\n",
    "#     tr_roc = np.mean(cross_validation.cross_val_score(gs.best_estimator_, X, y, cv=10, scoring='roc_auc', verbose=2))\n",
    "#     best_score.append(tr_roc)\n",
    "#     print \"Mean score: \",  tr_roc\n",
    "#     print \"================================================================================\""
   ]
  },
  {
   "cell_type": "code",
   "execution_count": 224,
   "metadata": {},
   "outputs": [],
   "source": [
    "# sms = \"привіт заходь до нас у ввечері додому\"\n",
    "# ham, spam = pipe.predict_proba(sms)[0]\n",
    "# print(f\"Probability ham: {ham*100:0.3f}%\\nProbability spam: {spam*100:.3f}%\")"
   ]
  },
  {
   "cell_type": "code",
   "execution_count": 225,
   "metadata": {},
   "outputs": [
    {
     "data": {
      "text/plain": [
       "Pipeline(memory=None,\n",
       "     steps=[('converter', <__main__.Converter object at 0x7fb867a477b8>), ('union', FeatureUnion(n_jobs=1,\n",
       "       transformer_list=[('vec', Pipeline(memory=None,\n",
       "     steps=[('vectorizer', <__main__.TfIdfLen object at 0x7fb867bf2f28>)])), ('phone_0', <__main__.MatchPattern object at 0x7fb867a47780>), ('c...alty='l2', random_state=25,\n",
       "          solver='liblinear', tol=0.0001, verbose=0, warm_start=False))])"
      ]
     },
     "execution_count": 225,
     "metadata": {},
     "output_type": "execute_result"
    },
    {
     "name": "stdout",
     "output_type": "stream",
     "text": [
      "AUC: 0.995\n",
      "Recall: 0.950\n",
      "Precision: 0.981\n",
      "F1: 0.966\n",
      "Accuracy: 0.986\n",
      "\n",
      "Confusion matrix:\n",
      "      pred_ham  pred_spam\n",
      "ham        823          4\n",
      "spam        11        211\n",
      "\n",
      "Report:\n",
      "             precision    recall  f1-score   support\n",
      "\n",
      "          0       0.99      1.00      0.99       827\n",
      "          1       0.98      0.95      0.97       222\n",
      "\n",
      "avg / total       0.99      0.99      0.99      1049\n",
      "\n"
     ]
    }
   ],
   "source": [
    "pipe.fit(X_train, y_train)\n",
    "pred = pipe.predict(X_test)\n",
    "proba = pipe.predict_proba(X_test)[:, 1]\n",
    "output, report, conf_matrix = calc_metrics(y_test, pred, proba, labels=[\"ham\", \"spam\"], \n",
    "                                           print_=True, mode=\"binary\")"
   ]
  }
 ],
 "metadata": {
  "kernelspec": {
   "display_name": "Python 3",
   "language": "python",
   "name": "python3"
  },
  "language_info": {
   "codemirror_mode": {
    "name": "ipython",
    "version": 3
   },
   "file_extension": ".py",
   "mimetype": "text/x-python",
   "name": "python",
   "nbconvert_exporter": "python",
   "pygments_lexer": "ipython3",
   "version": "3.6.0"
  }
 },
 "nbformat": 4,
 "nbformat_minor": 2
}
