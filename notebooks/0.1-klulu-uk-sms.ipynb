{
 "cells": [
  {
   "cell_type": "code",
   "execution_count": 1,
   "metadata": {},
   "outputs": [],
   "source": [
    "%load_ext autoreload"
   ]
  },
  {
   "cell_type": "code",
   "execution_count": 2,
   "metadata": {},
   "outputs": [],
   "source": [
    "%autoreload 1"
   ]
  },
  {
   "cell_type": "code",
   "execution_count": 52,
   "metadata": {},
   "outputs": [],
   "source": [
    "%aimport src.config\n",
    "%aimport src.helpers"
   ]
  },
  {
   "cell_type": "code",
   "execution_count": 17,
   "metadata": {},
   "outputs": [],
   "source": [
    "import numpy as np\n",
    "from pathlib import Path\n",
    "from time import time\n",
    "import json\n",
    "import pandas as pd\n",
    "from xml.etree.ElementTree import iterparse\n",
    "from datetime import datetime"
   ]
  },
  {
   "cell_type": "code",
   "execution_count": 53,
   "metadata": {},
   "outputs": [],
   "source": [
    "from src.config import data_dir\n",
    "from src.helpers import calc_metrics"
   ]
  },
  {
   "cell_type": "markdown",
   "metadata": {},
   "source": [
    "#### Process raw SMS data"
   ]
  },
  {
   "cell_type": "code",
   "execution_count": 51,
   "metadata": {},
   "outputs": [],
   "source": [
    "filename = \"karim-sms-allow.xml\"\n",
    "source = data_dir / filename\n",
    "data = []\n",
    "for event, elem in iterparse(source):\n",
    "    if elem.tag == \"sms\":\n",
    "        #if any(elem.attrib[\"body\"]==r[\"text\"] for r in data):\n",
    "        #    continue\n",
    "        record = {}\n",
    "        record[\"text\"] = elem.attrib[\"body\"]\n",
    "        record[\"contact_name\"] = elem.attrib[\"contact_name\"]\n",
    "        record[\"address\"] = elem.attrib[\"address\"]\n",
    "        record[\"timestamp\"] = int(elem.attrib[\"date\"])\n",
    "        record[\"type\"] = elem.attrib[\"type\"]\n",
    "        data.append(record)"
   ]
  },
  {
   "cell_type": "code",
   "execution_count": 55,
   "metadata": {},
   "outputs": [],
   "source": [
    "df = pd.DataFrame(data)\n",
    "df.to_excel(data_dir / \"karim-sms-allow.xlsx\", index=False)"
   ]
  },
  {
   "cell_type": "markdown",
   "metadata": {},
   "source": [
    "#### Read labeled data"
   ]
  },
  {
   "cell_type": "code",
   "execution_count": 46,
   "metadata": {},
   "outputs": [],
   "source": [
    "labeled_filename = \"karim-sms-allow-labeled.xlsx\"\n",
    "labeled = pd.read_excel(data_dir / labeled_filename, sheet_name=\"total sms\")\n",
    "labeled[\"timestamp\"] = (labeled[\"timestamp\"] / 1000).map(datetime.fromtimestamp)\n",
    "labeled[\"resp\"] = 0"
   ]
  },
  {
   "cell_type": "code",
   "execution_count": 41,
   "metadata": {},
   "outputs": [],
   "source": [
    "mapp = {\"ham\": 0, \"spam\": 1}"
   ]
  },
  {
   "cell_type": "code",
   "execution_count": 47,
   "metadata": {},
   "outputs": [],
   "source": [
    "responses_filename = \"SMS Data Collection (Responses).xlsx\"\n",
    "responses = pd.read_excel(data_dir / responses_filename)\n",
    "responses = responses.rename(columns={\"SMS text\": \"text\", \n",
    "                                      \"Is it a spam or ham?\": \"label\",\n",
    "                                     \"Timestamp\": \"timestamp\"})\n",
    "responses[\"resp\"] = 1\n",
    "responses[\"label\"] = responses[\"label\"].map(lambda x: mapp.get(x, x))"
   ]
  },
  {
   "cell_type": "code",
   "execution_count": 54,
   "metadata": {},
   "outputs": [],
   "source": [
    "total = pd.concat([labeled, responses], ignore_index=True)\n",
    "total.to_excel(data_dir / \"sms-uk-total.xlsx\")"
   ]
  },
  {
   "cell_type": "code",
   "execution_count": 51,
   "metadata": {},
   "outputs": [
    {
     "data": {
      "text/plain": [
       "(3497, 8)"
      ]
     },
     "execution_count": 51,
     "metadata": {},
     "output_type": "execute_result"
    },
    {
     "data": {
      "text/plain": [
       "0    78.81\n",
       "1    21.19\n",
       "Name: label, dtype: float64"
      ]
     },
     "execution_count": 51,
     "metadata": {},
     "output_type": "execute_result"
    },
    {
     "data": {
      "text/html": [
       "<div>\n",
       "<style scoped>\n",
       "    .dataframe tbody tr th:only-of-type {\n",
       "        vertical-align: middle;\n",
       "    }\n",
       "\n",
       "    .dataframe tbody tr th {\n",
       "        vertical-align: top;\n",
       "    }\n",
       "\n",
       "    .dataframe thead th {\n",
       "        text-align: right;\n",
       "    }\n",
       "</style>\n",
       "<table border=\"1\" class=\"dataframe\">\n",
       "  <thead>\n",
       "    <tr style=\"text-align: right;\">\n",
       "      <th></th>\n",
       "      <th>address</th>\n",
       "      <th>contact_name</th>\n",
       "      <th>text</th>\n",
       "      <th>timestamp</th>\n",
       "      <th>type</th>\n",
       "      <th>label</th>\n",
       "      <th>service</th>\n",
       "      <th>resp</th>\n",
       "    </tr>\n",
       "  </thead>\n",
       "  <tbody>\n",
       "    <tr>\n",
       "      <th>3223</th>\n",
       "      <td>+380631576335</td>\n",
       "      <td>Dad</td>\n",
       "      <td>I can't talk right now. I'll call you back sho...</td>\n",
       "      <td>2018-04-27 17:45:49.700</td>\n",
       "      <td>2</td>\n",
       "      <td>0</td>\n",
       "      <td>1</td>\n",
       "      <td>0</td>\n",
       "    </tr>\n",
       "    <tr>\n",
       "      <th>3224</th>\n",
       "      <td>+380937808130</td>\n",
       "      <td>Танька</td>\n",
       "      <td>Я  вже на зв’язку з 28.04 02:40. Передзвоніть ...</td>\n",
       "      <td>2018-04-28 02:40:12.545</td>\n",
       "      <td>1</td>\n",
       "      <td>0</td>\n",
       "      <td>1</td>\n",
       "      <td>0</td>\n",
       "    </tr>\n",
       "    <tr>\n",
       "      <th>3225</th>\n",
       "      <td>lifecell</td>\n",
       "      <td>(Unknown)</td>\n",
       "      <td>Я намагався Вам додзвонитися. Передзвоніть мен...</td>\n",
       "      <td>2018-04-28 12:55:47.947</td>\n",
       "      <td>1</td>\n",
       "      <td>0</td>\n",
       "      <td>1</td>\n",
       "      <td>0</td>\n",
       "    </tr>\n",
       "    <tr>\n",
       "      <th>3226</th>\n",
       "      <td>+380638197928</td>\n",
       "      <td>Mom</td>\n",
       "      <td>У Вас пропущених дзвінків: 1 від мене, останн...</td>\n",
       "      <td>2018-04-28 14:41:39.942</td>\n",
       "      <td>1</td>\n",
       "      <td>0</td>\n",
       "      <td>1</td>\n",
       "      <td>0</td>\n",
       "    </tr>\n",
       "    <tr>\n",
       "      <th>3227</th>\n",
       "      <td>+380442251208</td>\n",
       "      <td>(Unknown)</td>\n",
       "      <td>У Вас пропущених дзвінків: 1 від мене, останн...</td>\n",
       "      <td>2018-04-30 09:27:35.264</td>\n",
       "      <td>1</td>\n",
       "      <td>0</td>\n",
       "      <td>1</td>\n",
       "      <td>0</td>\n",
       "    </tr>\n",
       "  </tbody>\n",
       "</table>\n",
       "</div>"
      ],
      "text/plain": [
       "            address contact_name  \\\n",
       "3223  +380631576335          Dad   \n",
       "3224  +380937808130       Танька   \n",
       "3225       lifecell    (Unknown)   \n",
       "3226  +380638197928          Mom   \n",
       "3227  +380442251208    (Unknown)   \n",
       "\n",
       "                                                   text  \\\n",
       "3223  I can't talk right now. I'll call you back sho...   \n",
       "3224  Я  вже на зв’язку з 28.04 02:40. Передзвоніть ...   \n",
       "3225  Я намагався Вам додзвонитися. Передзвоніть мен...   \n",
       "3226   У Вас пропущених дзвінків: 1 від мене, останн...   \n",
       "3227   У Вас пропущених дзвінків: 1 від мене, останн...   \n",
       "\n",
       "                   timestamp  type  label  service  resp  \n",
       "3223 2018-04-27 17:45:49.700     2      0        1     0  \n",
       "3224 2018-04-28 02:40:12.545     1      0        1     0  \n",
       "3225 2018-04-28 12:55:47.947     1      0        1     0  \n",
       "3226 2018-04-28 14:41:39.942     1      0        1     0  \n",
       "3227 2018-04-30 09:27:35.264     1      0        1     0  "
      ]
     },
     "execution_count": 51,
     "metadata": {},
     "output_type": "execute_result"
    }
   ],
   "source": [
    "# Check dimensionality and class imbalance\n",
    "total.shape\n",
    "total.label.value_counts(normalize=True).round(5)*100\n",
    "labeled.tail()"
   ]
  },
  {
   "cell_type": "code",
   "execution_count": null,
   "metadata": {},
   "outputs": [],
   "source": []
  }
 ],
 "metadata": {
  "kernelspec": {
   "display_name": "Python 3",
   "language": "python",
   "name": "python3"
  },
  "language_info": {
   "codemirror_mode": {
    "name": "ipython",
    "version": 3
   },
   "file_extension": ".py",
   "mimetype": "text/x-python",
   "name": "python",
   "nbconvert_exporter": "python",
   "pygments_lexer": "ipython3",
   "version": "3.6.0"
  }
 },
 "nbformat": 4,
 "nbformat_minor": 2
}
