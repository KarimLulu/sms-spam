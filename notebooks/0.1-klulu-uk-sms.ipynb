{
 "cells": [
  {
   "cell_type": "code",
   "execution_count": 2,
   "metadata": {},
   "outputs": [],
   "source": [
    "%load_ext autoreload"
   ]
  },
  {
   "cell_type": "code",
   "execution_count": 3,
   "metadata": {},
   "outputs": [],
   "source": [
    "%autoreload 1"
   ]
  },
  {
   "cell_type": "code",
   "execution_count": 4,
   "metadata": {},
   "outputs": [],
   "source": [
    "%aimport src.config"
   ]
  },
  {
   "cell_type": "code",
   "execution_count": 47,
   "metadata": {},
   "outputs": [],
   "source": [
    "import numpy as np\n",
    "from pathlib import Path\n",
    "from time import time\n",
    "import json\n",
    "import pandas as pd\n",
    "from xml.etree.ElementTree import iterparse"
   ]
  },
  {
   "cell_type": "code",
   "execution_count": 5,
   "metadata": {},
   "outputs": [],
   "source": [
    "from src.config import data_dir"
   ]
  },
  {
   "cell_type": "code",
   "execution_count": 51,
   "metadata": {},
   "outputs": [],
   "source": [
    "filename = \"karim-sms-allow.xml\"\n",
    "source = data_dir / filename\n",
    "data = []\n",
    "for event, elem in iterparse(source):\n",
    "    if elem.tag == \"sms\":\n",
    "        #if any(elem.attrib[\"body\"]==r[\"text\"] for r in data):\n",
    "        #    continue\n",
    "        record = {}\n",
    "        record[\"text\"] = elem.attrib[\"body\"]\n",
    "        record[\"contact_name\"] = elem.attrib[\"contact_name\"]\n",
    "        record[\"address\"] = elem.attrib[\"address\"]\n",
    "        record[\"timestamp\"] = int(elem.attrib[\"date\"])\n",
    "        record[\"type\"] = elem.attrib[\"type\"]\n",
    "        data.append(record)"
   ]
  },
  {
   "cell_type": "code",
   "execution_count": 55,
   "metadata": {},
   "outputs": [],
   "source": [
    "df = pd.DataFrame(data)\n",
    "df.to_excel(data_dir / \"karim-sms-allow.xlsx\", index=False)"
   ]
  }
 ],
 "metadata": {
  "kernelspec": {
   "display_name": "Python 3",
   "language": "python",
   "name": "python3"
  },
  "language_info": {
   "codemirror_mode": {
    "name": "ipython",
    "version": 3
   },
   "file_extension": ".py",
   "mimetype": "text/x-python",
   "name": "python",
   "nbconvert_exporter": "python",
   "pygments_lexer": "ipython3",
   "version": "3.6.3"
  }
 },
 "nbformat": 4,
 "nbformat_minor": 2
}
