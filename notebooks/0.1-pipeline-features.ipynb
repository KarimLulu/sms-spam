{
 "cells": [
  {
   "cell_type": "code",
   "execution_count": 1,
   "metadata": {},
   "outputs": [],
   "source": [
    "%load_ext autoreload"
   ]
  },
  {
   "cell_type": "code",
   "execution_count": 2,
   "metadata": {},
   "outputs": [],
   "source": [
    "%autoreload 1"
   ]
  },
  {
   "cell_type": "code",
   "execution_count": 3,
   "metadata": {},
   "outputs": [],
   "source": [
    "%aimport src.transformers\n",
    "%aimport src.pipeline"
   ]
  },
  {
   "cell_type": "code",
   "execution_count": 1,
   "metadata": {},
   "outputs": [],
   "source": [
    "import warnings\n",
    "warnings.filterwarnings(\"ignore\")"
   ]
  },
  {
   "cell_type": "code",
   "execution_count": 2,
   "metadata": {},
   "outputs": [],
   "source": [
    "import numpy as np\n",
    "from pathlib import Path\n",
    "from time import time\n",
    "import json\n",
    "import pandas as pd\n",
    "from xml.etree.ElementTree import iterparse\n",
    "from datetime import datetime\n",
    "import numpy as np\n",
    "import re\n",
    "import regex\n",
    "import nltk\n",
    "from nltk.tokenize import RegexpTokenizer, WhitespaceTokenizer, StanfordTokenizer, word_tokenize\n",
    "import dill\n",
    "import xgboost as xgb\n",
    "import matplotlib.pyplot as plt\n",
    "\n",
    "from sklearn.feature_extraction.text import TfidfVectorizer\n",
    "from sklearn.naive_bayes import GaussianNB, MultinomialNB\n",
    "from sklearn.linear_model import LogisticRegression\n",
    "from sklearn import metrics\n",
    "from sklearn.base import BaseEstimator, TransformerMixin, ClassifierMixin\n",
    "from sklearn.model_selection import GridSearchCV, StratifiedKFold, cross_val_score, cross_validate, train_test_split\n",
    "from sklearn.pipeline import Pipeline, FeatureUnion\n",
    "from sklearn.preprocessing import binarize\n",
    "from sklearn.ensemble import RandomForestClassifier\n",
    "from sklearn.utils import class_weight\n",
    "from functools import partial\n",
    "from scipy import sparse"
   ]
  },
  {
   "cell_type": "code",
   "execution_count": 4,
   "metadata": {},
   "outputs": [],
   "source": [
    "from src.config import data_dir, models_dir\n",
    "from src.helpers import (calc_metrics, plot_tfidf_classfeats_h, top_feats_by_class, \n",
    "                         init_dir, save_model, load_model, print_dict)\n",
    "from src.transformers import TfIdfLen, ModelTransformer, MatchPattern, Length, Converter, Transformer, unsquash\n",
    "from src.pipeline import (grid_search, analyze_model, load_data, build_transform_pipe, TF_PARAMS, PATTERNS,\n",
    "                          get_vec_pipe, get_pattern_pipe, TOKEN_FEATURES, build_all_pipes)"
   ]
  },
  {
   "cell_type": "code",
   "execution_count": 4,
   "metadata": {},
   "outputs": [
    {
     "data": {
      "text/plain": [
       "['is_upper', 'is_lower']"
      ]
     },
     "execution_count": 4,
     "metadata": {},
     "output_type": "execute_result"
    }
   ],
   "source": [
    "t=build_transform_pipe()[-1][-1]\n",
    "t.transformer_list[-1][-1].steps[-1][-1].features"
   ]
  },
  {
   "cell_type": "code",
   "execution_count": 5,
   "metadata": {},
   "outputs": [],
   "source": [
    "data = load_data()"
   ]
  },
  {
   "cell_type": "code",
   "execution_count": 6,
   "metadata": {},
   "outputs": [
    {
     "name": "stdout",
     "output_type": "stream",
     "text": [
      "Num. of train: 4272, Num. of test: 1831\n"
     ]
    }
   ],
   "source": [
    "X = data[\"text\"]\n",
    "y = data[\"label\"]\n",
    "test_size = 0.3\n",
    "X_train, X_test, y_train, y_test = train_test_split(X, y, test_size=test_size, random_state=42,\n",
    "                                                    stratify=y)\n",
    "print(f\"Num. of train: {len(X_train)}, Num. of test: {len(X_test)}\")"
   ]
  },
  {
   "cell_type": "markdown",
   "metadata": {},
   "source": [
    "#### Features"
   ]
  },
  {
   "cell_type": "code",
   "execution_count": 7,
   "metadata": {},
   "outputs": [],
   "source": [
    "GRUBER_URLINTEXT_PAT = re.compile(r\"\"\"(?i)\\b((?:https?://|www\\d{0,3}[.]|[a-z0-9.\\-]+[.][a-z]{2,4}/)\n",
    "                                  (?:[^\\s()<>]|\\(([^\\s()<>]+|(\\([^\\s()<>]+\\)))*\\))+\n",
    "                                  (?:\\(([^\\s()<>]+|(\\([^\\s()<>]+\\)))*\\)|[^\\s`!()\\[\\]{};:\\'\".,<>\n",
    "                                  ?\\xab\\xbb\\u201c\\u201d\\u2018\\u2019]))\"\"\", re.X)\n",
    "WEB_URL_REGEX = r\"\"\"(?i)\\b((?:https?:(?:/{1,3}|[a-z0-9%])|[a-z0-9.\\-]+[.]\n",
    "                (?:com|net|org|edu|gov|mil|aero|asia|biz|cat|coop|info|int|jobs|mobi|museum|name|post|pro\n",
    "                |tel|travel|xxx|ac|ad|ae|af|ag|ai|al|am|an|ao|aq|ar|as|at|au|aw|ax|az|ba|bb|bd|be|bf|bg|bh\n",
    "                |bi|bj|bm|bn|bo|br|bs|bt|bv|bw|by|bz|ca|cc|cd|cf|cg|ch|ci|ck|cl|cm|cn|co|cr|cs|cu|cv|cx|cy\n",
    "                |cz|dd|de|dj|dk|dm|do|dz|ec|ee|eg|eh|er|es|et|eu|fi|fj|fk|fm|fo|fr|ga|gb|gd|ge|gf|gg|gh|gi\n",
    "                |gl|gm|gn|gp|gq|gr|gs|gt|gu|gw|gy|hk|hm|hn|hr|ht|hu|id|ie|il|im|in|io|iq|ir|is|it|je|jm|jo\n",
    "                |jp|ke|kg|kh|ki|km|kn|kp|kr|kw|ky|kz|la|lb|lc|li|lk|lr|ls|lt|lu|lv|ly|ma|mc|md|me|mg|mh|mk\n",
    "                |ml|mm|mn|mo|mp|mq|mr|ms|mt|mu|mv|mw|mx|my|mz|na|nc|ne|nf|ng|ni|nl|no|np|nr|nu|nz|om|pa|pe\n",
    "                |pf|pg|ph|pk|pl|pm|pn|pr|ps|pt|pw|py|qa|re|ro|rs|ru|rw|sa|sb|sc|sd|se|sg|sh|si|sj|Ja|sk|sl\n",
    "                |sm|sn|so|sr|ss|st|su|sv|sx|sy|sz|tc|td|tf|tg|th|tj|tk|tl|tm|tn|to|tp|tr|tt|tv|tw|tz|ua|ug\n",
    "                |uk|us|uy|uz|va|vc|ve|vg|vi|vn|vu|wf|ws|ye|yt|yu|za|zm|zw)/)(?:[^\\s()<>{}\\[\\]]+|\\([^\\s()]*?\n",
    "                \\([^\\s()]+\\)[^\\s()]*?\\)|\\([^\\s]+?\\))+(?:\\([^\\s()]*?\\([^\\s()]+\\)[^\\s()]*?\\)|\\([^\\s]+?\\)|\n",
    "                [^\\s`!()\\[\\]{};:'\".,<>?«»“”‘’])|(?:(?<!@)[a-z0-9]+(?:[.\\-][a-z0-9]+)*[.]\n",
    "                (?:com|net|org|edu|gov|mil|aero|asia|biz|cat|coop|info|int|jobs|mobi|museum|name|post\n",
    "                |pro|tel|travel|xxx|ac|ad|ae|af|ag|ai|al|am|an|ao|aq|ar|as|at|au|aw|ax|az|ba|bb|bd|be|\n",
    "                bf|bg|bh|bi|bj|bm|bn|bo|br|bs|bt|bv|bw|by|bz|ca|cc|cd|cf|cg|ch|ci|ck|cl|cm|cn|co\n",
    "                |cr|cs|cu|cv|cx|cy|cz|dd|de|dj|dk|dm|do|dz|ec|ee|eg|eh|er|es|et|eu|fi|fj|fk|fm|fo|fr|ga\n",
    "                |gb|gd|ge|gf|gg|gh|gi|gl|gm|gn|gp|gq|gr|gs|gt|gu|gw|gy|hk|hm|hn|hr|ht|hu|id|ie|il|im|in\n",
    "                |io|iq|ir|is|it|je|jm|jo|jp|ke|kg|kh|ki|km|kn|kp|kr|kw|ky|kz|la|lb|lc|li|lk|lr|ls|lt|lu\n",
    "                |lv|ly|ma|mc|md|me|mg|mh|mk|ml|mm|mn|mo|mp|mq|mr|ms|mt|mu|mv|mw|mx|my|mz|na|nc|ne|nf|ng\n",
    "                |ni|nl|no|np|nr|nu|nz|om|pa|pe|pf|pg|ph|pk|pl|pm|pn|pr|ps|pt|pw|py|qa|re|ro|rs|ru|rw|sa\n",
    "                |sb|sc|sd|se|sg|sh|si|sj|Ja|sk|sl|sm|sn|so|sr|ss|st|su|sv|sx|sy|sz|tc|td|tf|tg|th|tj|tk\n",
    "                |tl|tm|tn|to|tp|tr|tt|tv|tw|tz|ua|ug|uk|us|uy|uz|va|vc|ve|vg|vi|vn|vu|wf|ws|ye|yt|yu|za\n",
    "                |zm|zw)\\b/?(?!@)))\"\"\"\n",
    "CURRENCY_PATT = u\"[$¢£¤¥֏؋৲৳৻૱௹฿៛\\u20a0-\\u20bd\\ua838\\ufdfc\\ufe69\\uff04\\uffe0\\uffe1\\uffe5\\uffe6]\""
   ]
  },
  {
   "cell_type": "code",
   "execution_count": 8,
   "metadata": {},
   "outputs": [],
   "source": [
    "tf_params = {'lowercase': True,\n",
    " 'analyzer': 'char_wb',\n",
    " 'stop_words': None,\n",
    " 'ngram_range': (4, 4),\n",
    " 'min_df': 0.0,\n",
    " 'max_df': 1.0,\n",
    " 'preprocessor': None,\n",
    " 'max_features': 4000,\n",
    " 'norm': '',\n",
    " 'use_idf': 1}\n",
    "patterns = [(r\"[\\(\\d][\\d\\s\\(\\)-]{8,15}\\d\", {\"name\": \"phone\",\n",
    "                                            \"is_len\": 0}),\n",
    "           (r\"%|taxi|скид(?:к|очн)|ц[іе]н|знижк\", {\"name\": \"custom\",\n",
    "                                  \"is_len\": 0,\n",
    "                                  \"flags\": re.I | re.U}),\n",
    "#            (r\"[+-<>/^]\", {\"name\": \"math_ops\", \"is_len\": 0}),\n",
    "            (r\"[.]\", {\"name\": \"dot\", \"is_len\": 0}),\n",
    "#            (WEB_URL_REGEX, {\"name\": \"url\", \"is_len\": 0, \"flags\": re.X}),\n",
    "            (CURRENCY_PATT, {\"name\": \"currency\", \"is_len\": 0, \"flags\": re.U}),\n",
    "#            (r\"[*]\", {\"name\": \"special_symbols\", \"is_len\": 0})\n",
    "            (r\":\\)|:\\(|-_-|:p|:v|:\\*|:o|B-\\)|:’\\(\", {\"name\": \"emoji\", \"is_len\": 0, \"flags\": re.U})\n",
    "           ]"
   ]
  },
  {
   "cell_type": "code",
   "execution_count": 30,
   "metadata": {},
   "outputs": [],
   "source": [
    "def get_tokens_pipe(tokenizer=word_tokenize, features=TOKEN_FEATURES):\n",
    "    token_features = TokenFeatures(tokenizer, features=features)\n",
    "    tok_pipe = [\n",
    "        ('tok', token_features)]\n",
    "    return Pipeline(tok_pipe)\n",
    "\n",
    "def get_pattern_pipe(patterns):\n",
    "    pipes = []\n",
    "    for i, (patt, params) in enumerate(patterns):\n",
    "        kwargs = params.copy()\n",
    "        name = kwargs.pop(\"name\") + \"_\" + str(i)\n",
    "        transformer = MatchPattern(pattern=patt, **kwargs)\n",
    "        pipes.append((name, transformer))\n",
    "    return pipes\n",
    "\n",
    "def get_len_pipe(use_tfidf=True, vec_pipe=None):\n",
    "    len_pipe = [(\"length\", Length(use_tfidf))]\n",
    "    if use_tfidf:\n",
    "        len_pipe.insert(0, (\"vec\", vec_pipe))\n",
    "    return Pipeline(len_pipe)\n",
    "\n",
    "def build_transform_pipe(tf_params=tf_params, add_len=True, vec_mode=\"add\", patterns=patterns,\n",
    "                         tokenizer=word_tokenize, features=TOKEN_FEATURES):\n",
    "    vec_pipe = get_vec_pipe(add_len, tf_params)\n",
    "    if vec_mode == \"only\":\n",
    "        return vec_pipe\n",
    "    patt_pipe = get_pattern_pipe(patterns)\n",
    "    tok_pipe = get_tokens_pipe(tokenizer, features)\n",
    "    chain = [\n",
    "        ('converter', Converter()),\n",
    "        ('union', FeatureUnion([\n",
    "            ('vec', vec_pipe),\n",
    "            *patt_pipe,\n",
    "            (\"tok\", tok_pipe)\n",
    "        ]))\n",
    "    ]\n",
    "    return chain\n",
    "\n",
    "def build_classifier(name, seed=25):\n",
    "    if name == \"logit\":\n",
    "        model = LogisticRegression(C=1, class_weight=\"balanced\", random_state=seed, penalty=\"l2\")\n",
    "        model.grid_s = {f'{name}__C' : (0.1, 0.2, 0.3, 0.4, 0.5, 1, 5, 10)}\n",
    "        model.grid_b = {f'{name}__C' : [(1)]}\n",
    "    elif name == \"nb\":\n",
    "        model = MultinomialNB(alpha=0.1) #class_prior=[0.5, 0.5])\n",
    "        model.grid_s = {f'{name}__alpha' : (0.1, 0.5, 1, 5, 10)}\n",
    "        model.grid_b = {f'{name}__alpha' : [(1)]}\n",
    "    model.name = name\n",
    "    return model\n",
    "\n",
    "def get_estimator_pipe(name, model, tf_params, vec_mode=\"add\", patterns=patterns, features=TOKEN_FEATURES):\n",
    "    chain = build_transform_pipe(tf_params, vec_mode=vec_mode, patterns=patterns, features=features)\n",
    "    chain.append((name, model))\n",
    "    pipe = Pipeline(chain)\n",
    "    pipe.name = name\n",
    "    return pipe"
   ]
  },
  {
   "cell_type": "code",
   "execution_count": 54,
   "metadata": {},
   "outputs": [],
   "source": [
    "class TokenFeatures(Transformer):\n",
    "\n",
    "    def __init__(self, tokenizer=word_tokenize, features=None):\n",
    "        self.tokenizer = tokenizer\n",
    "        self.features = features\n",
    "\n",
    "    def get_params(self, deep=True):\n",
    "        return dict()\n",
    "\n",
    "    def _get_features(self, tokens):\n",
    "        output = []\n",
    "        for f in self.features:\n",
    "            output.append(eval(f)(tokens))\n",
    "        return np.array(output)\n",
    "    \n",
    "    def _job(self, text):\n",
    "        tokens = self.tokenizer(text)\n",
    "        return self._get_features(tokens)\n",
    "        \n",
    "    def transform(self, X, **kwargs):  \n",
    "        rez = []\n",
    "        for record in X:\n",
    "            temp = self._job(record)\n",
    "            rez.append(temp)\n",
    "        return np.array(rez)"
   ]
  },
  {
   "cell_type": "code",
   "execution_count": 57,
   "metadata": {},
   "outputs": [
    {
     "data": {
      "text/plain": [
       "Pipeline(memory=None,\n",
       "     steps=[('converter', <src.transformers.Converter object at 0x7f6b701f2ba8>), ('union', FeatureUnion(n_jobs=1,\n",
       "       transformer_list=[('vec', Pipeline(memory=None,\n",
       "     steps=[('vec', <src.transformers.TfIdfLen object at 0x7f6b701f2f28>)])), ('phone_0', <src.transformers.MatchPattern object at 0x7f...alty='l2', random_state=25,\n",
       "          solver='liblinear', tol=0.0001, verbose=0, warm_start=False))])"
      ]
     },
     "execution_count": 57,
     "metadata": {},
     "output_type": "execute_result"
    }
   ],
   "source": [
    "clf = build_classifier(\"logit\")\n",
    "pipe = get_estimator_pipe(clf.name, clf, tf_params)\n",
    "pipe.fit(X, y)"
   ]
  },
  {
   "cell_type": "code",
   "execution_count": 66,
   "metadata": {},
   "outputs": [
    {
     "data": {
      "text/plain": [
       "(1, 17)"
      ]
     },
     "execution_count": 66,
     "metadata": {},
     "output_type": "execute_result"
    }
   ],
   "source": [
    "trf = Pipeline(build_transform_pipe(tf_params, vec_mode=\"add\", patterns=patterns))\n",
    "trf.fit_transform(X.iloc[:1]).toarray().shape"
   ]
  },
  {
   "cell_type": "code",
   "execution_count": 58,
   "metadata": {},
   "outputs": [
    {
     "name": "stdout",
     "output_type": "stream",
     "text": [
      "Probability ham: 98.774%\n",
      "Probability spam: 1.226%\n"
     ]
    }
   ],
   "source": [
    "sms = \"привіт заходь до нас у ввечері додому\"\n",
    "ham, spam = pipe.predict_proba(sms)[0]\n",
    "print(f\"Probability ham: {ham*100:0.3f}%\\nProbability spam: {spam*100:.3f}%\")"
   ]
  },
  {
   "cell_type": "code",
   "execution_count": 47,
   "metadata": {},
   "outputs": [
    {
     "data": {
      "text/plain": [
       "['-_-']"
      ]
     },
     "execution_count": 47,
     "metadata": {},
     "output_type": "execute_result"
    }
   ],
   "source": [
    "p = r\":\\)|:\\(|-_-|:p|:v|:\\*|:o|B-\\)|:’\\(\"\n",
    "re.findall(p, \"-_-\", re.U)"
   ]
  },
  {
   "cell_type": "code",
   "execution_count": 32,
   "metadata": {},
   "outputs": [],
   "source": [
    "pattern_pipes = []\n",
    "for i, (patt, params) in enumerate(patterns):\n",
    "    kwargs = params.copy()\n",
    "    name = kwargs.pop(\"name\") + \"_\" + str(i)\n",
    "    transformer = MatchPattern(pattern=patt, **kwargs)\n",
    "    pattern_pipes.append((name, transformer))"
   ]
  },
  {
   "cell_type": "code",
   "execution_count": 9,
   "metadata": {},
   "outputs": [
    {
     "name": "stdout",
     "output_type": "stream",
     "text": [
      "Hypertuning model 1 out of 1: logit\n",
      "================================================================================\n",
      "Best score on training set (CV): 0.956\n",
      "Best parameters set:\n",
      "0.9560 (+/-0.0021) for {'logit__C': 0.1}: [0.95454545 0.95218295 0.9519833  0.96296296 0.95850622]\n",
      "0.9551 (+/-0.0033) for {'logit__C': 0.2}: [0.95670103 0.94780793 0.9519833  0.96694215 0.95218295]\n",
      "0.9551 (+/-0.0033) for {'logit__C': 0.3}: [0.95670103 0.94780793 0.9519833  0.96694215 0.95218295]\n",
      "0.9547 (+/-0.0035) for {'logit__C': 0.4}: [0.95670103 0.94560669 0.9519833  0.96694215 0.95218295]\n",
      "0.9550 (+/-0.0035) for {'logit__C': 0.5}: [0.95867769 0.9475891  0.9519833  0.96694215 0.95      ]\n",
      "0.9546 (+/-0.0038) for {'logit__C': 1}: [0.95652174 0.94514768 0.95615866 0.96694215 0.94802495]\n",
      "0.9520 (+/-0.0044) for {'logit__C': 5}: [0.95435685 0.94067797 0.9519833  0.96680498 0.94605809]\n",
      "0.9515 (+/-0.0040) for {'logit__C': 10}: [0.95238095 0.94067797 0.9539749  0.96465696 0.94605809]\n"
     ]
    }
   ],
   "source": [
    "best_estimators, best_scores = grid_search(patterns=patterns, estimator_names=[\"logit\"])"
   ]
  },
  {
   "cell_type": "code",
   "execution_count": 10,
   "metadata": {},
   "outputs": [
    {
     "data": {
      "text/plain": [
       "[{'mean': 0.9560346387525567,\n",
       "  'params': {'logit__C': 0.1},\n",
       "  'scores': array([0.95454545, 0.95218295, 0.9519833 , 0.96296296, 0.95850622]),\n",
       "  'std': 0.0041851383498463365}]"
      ]
     },
     "execution_count": 10,
     "metadata": {},
     "output_type": "execute_result"
    }
   ],
   "source": [
    "best_scores"
   ]
  },
  {
   "cell_type": "code",
   "execution_count": 14,
   "metadata": {},
   "outputs": [
    {
     "data": {
      "text/plain": [
       "[{'mean': 0.9560346387525567,\n",
       "  'params': {'logit__C': 0.1},\n",
       "  'scores': array([0.95454545, 0.95218295, 0.9519833 , 0.96296296, 0.95850622]),\n",
       "  'std': 0.0041851383498463365}]"
      ]
     },
     "execution_count": 14,
     "metadata": {},
     "output_type": "execute_result"
    }
   ],
   "source": [
    "best_scores"
   ]
  },
  {
   "cell_type": "code",
   "execution_count": 12,
   "metadata": {},
   "outputs": [
    {
     "name": "stdout",
     "output_type": "stream",
     "text": [
      "\n",
      "Overall results\n",
      "AUC: 0.99 +/- 0.0038\n",
      "Accuracy: 0.98 +/- 0.0018\n",
      "F1: 0.96 +/- 0.0047\n",
      "Precision: 0.96 +/- 0.0031\n",
      "Recall: 0.95 +/- 0.0112\n",
      "\n",
      "Averaged confusion matrix\n",
      "      pred_ham  pred_spam\n",
      "ham      968.8        9.2\n",
      "spam      12.0      230.6\n",
      "\n",
      "Mean metrics\n",
      "accuracy: 0.983\n",
      "specificity: 0.962\n",
      "recall: 0.988\n",
      "precision: 0.991\n",
      "f1: 0.989\n"
     ]
    }
   ],
   "source": [
    "scores, results, conf_matrix, fnp = analyze_model(model=best_estimators[0], log_fold=False)"
   ]
  },
  {
   "cell_type": "code",
   "execution_count": null,
   "metadata": {},
   "outputs": [],
   "source": [
    "fn, fp = fnp[\"fn\"], fnp[\"fp\"]\n",
    "for el in X.iloc[fn]:\n",
    "    print(el+\"\\n\")"
   ]
  }
 ],
 "metadata": {
  "kernelspec": {
   "display_name": "Python 3",
   "language": "python",
   "name": "python3"
  },
  "language_info": {
   "codemirror_mode": {
    "name": "ipython",
    "version": 3
   },
   "file_extension": ".py",
   "mimetype": "text/x-python",
   "name": "python",
   "nbconvert_exporter": "python",
   "pygments_lexer": "ipython3",
   "version": "3.6.0"
  }
 },
 "nbformat": 4,
 "nbformat_minor": 2
}
